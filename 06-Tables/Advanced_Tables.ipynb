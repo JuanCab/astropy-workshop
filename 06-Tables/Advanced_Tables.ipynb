{
 "cells": [
  {
   "cell_type": "markdown",
   "metadata": {
    "nbpresent": {
     "id": "7c4527ca-47d5-4222-a2d1-e40b226d16ef"
    },
    "slideshow": {
     "slide_type": "slide"
    }
   },
   "source": [
    "# Advanced Tables for JWST\n"
   ]
  },
  {
   "cell_type": "markdown",
   "metadata": {
    "nbpresent": {
     "id": "04198394-491c-47d2-a46d-9cb4dd90f9a2"
    },
    "slideshow": {
     "slide_type": "slide"
    }
   },
   "source": [
    "# Table design goals and requirements\n",
    "\n",
    "- Easily mutable container of heterogeneous tabular data\n",
    "- Relatively lightweight yet powerful enough for most needs\n",
    "- Responsive to astronomy community needs\n",
    "  - For JWST community - if something is missing, broken, needs improvement then ASK!\n",
    "- Deep integration with Astropy (I/O, units, quantity)\n",
    "- Persistent metadata (column units, table header keywords, formatting)\n",
    "- Support missing data"
   ]
  },
  {
   "cell_type": "markdown",
   "metadata": {
    "nbpresent": {
     "id": "22865d0f-c79e-4a5c-b195-ad238bd5cef7"
    },
    "slideshow": {
     "slide_type": "slide"
    }
   },
   "source": [
    "# Why doesn't Astropy use Pandas DataFrame?\n",
    "\n",
    "- Easily mutable container of heterogeneous tabular data **(only scalar data)**\n",
    "- **Relatively lightweight** yet powerful enough for most needs\n",
    "- Responsive to **astronomy community** needs\n",
    "- **Deep integration with Astropy (I/O, units, quantity)**\n",
    "- **Persistent metadata (column units, table header keywords, formatting)**\n",
    "- Support missing data: **Pandas will cast ``int`` types to ``float64`` to use ``NaN``**\n",
    "  - Large ``int64`` values lose precision\n",
    "  - Short int (e.g. ``uint8``) values take 4 times as much memory as ``MaskedColumn``\n",
    "\n",
    "### Nevertheless...\n",
    "\n",
    "We recognize Pandas is very fast, powerful and widely used.\n",
    "\n",
    "*Astropy Project recommendation is to use `astropy.Table` where possible.  This especially applies to community packages.*\n"
   ]
  },
  {
   "cell_type": "markdown",
   "metadata": {
    "nbpresent": {
     "id": "db28461d-d250-4a7a-9204-613b5bea6dc9"
    },
    "slideshow": {
     "slide_type": "slide"
    }
   },
   "source": [
    "# Example: multiband photometry of a field\n",
    "\n",
    "### Observations in 5 bands of a single field with 5 \"galaxy-like\" sources\n",
    "\n",
    "- Assumes basic image reduction and source detection is done.\n",
    "- Could be similar to JWST post-image processing workflow.\n",
    "\n",
    "### Key Table concepts to be covered\n",
    "\n",
    "- Basic table structure (dict of independent column objects)\n",
    "- Base column class properties and attributes (flexibility in data elements)\n",
    "- Table mutability and formatting\n",
    "- Database operations: join, grouping, binning, stacking, indexing\n",
    "- Missing data\n",
    "- Mixin columns (Quantity, Time, Coordinates, QTable vs. Table)"
   ]
  },
  {
   "cell_type": "code",
   "execution_count": 1,
   "metadata": {
    "nbpresent": {
     "id": "6df7b643-8305-4d02-8102-4651a1493c1a"
    },
    "slideshow": {
     "slide_type": "skip"
    }
   },
   "outputs": [],
   "source": [
    "%matplotlib inline\n",
    "import matplotlib.pyplot as plt\n",
    "import numpy as np\n",
    "import astropy\n",
    "from astropy import table\n",
    "from astropy.table import Column, Table, QTable\n",
    "from astropy.time import Time\n",
    "import astropy.units as u\n",
    "import photutils.datasets\n",
    "import warnings\n",
    "warnings.filterwarnings(action='ignore', category=FutureWarning)"
   ]
  },
  {
   "cell_type": "code",
   "execution_count": 2,
   "metadata": {},
   "outputs": [
    {
     "data": {
      "text/plain": [
       "'3.1'"
      ]
     },
     "execution_count": 2,
     "metadata": {},
     "output_type": "execute_result"
    }
   ],
   "source": [
    "astropy.__version__"
   ]
  },
  {
   "cell_type": "markdown",
   "metadata": {},
   "source": [
    "### Make table of  5 random gaussians corresponding to fake elliptical galaxy-like sources\n",
    "\n",
    "Use a photutils utility function [make_random_gaussians_table](https://photutils.readthedocs.io/en/stable/api/photutils.datasets.make_random_gaussians_table.html)."
   ]
  },
  {
   "cell_type": "code",
   "execution_count": 3,
   "metadata": {
    "nbpresent": {
     "id": "e239a41d-288a-4bd8-b52f-c5f39a9ec860"
    },
    "slideshow": {
     "slide_type": "slide"
    }
   },
   "outputs": [],
   "source": [
    "n_sources = 5\n",
    "param_ranges = dict([('flux', [1000, 10000]),\n",
    "                ('x_mean', [10, 190]),\n",
    "                ('y_mean', [10, 190]),\n",
    "                ('x_stddev', [2, 5]), \n",
    "                ('y_stddev', [2, 5]),\n",
    "                ('theta', [0, np.pi])])\n",
    "sources = photutils.datasets.make_random_gaussians_table(n_sources, param_ranges, random_state = 1)"
   ]
  },
  {
   "cell_type": "code",
   "execution_count": 4,
   "metadata": {
    "nbpresent": {
     "id": "435c0633-e922-4ce6-8248-6d4c4b978a76"
    },
    "scrolled": true,
    "slideshow": {
     "slide_type": "fragment"
    }
   },
   "outputs": [
    {
     "data": {
      "text/html": [
       "<i>Table length=5</i>\n",
       "<table id=\"table4631924520\" class=\"table-striped table-bordered table-condensed\">\n",
       "<thead><tr><th>flux</th><th>x_mean</th><th>y_mean</th><th>x_stddev</th><th>y_stddev</th><th>theta</th><th>amplitude</th></tr></thead>\n",
       "<thead><tr><th>float64</th><th>float64</th><th>float64</th><th>float64</th><th>float64</th><th>float64</th><th>float64</th></tr></thead>\n",
       "<tr><td>4753.198042323166</td><td>26.620947058383603</td><td>85.45501259259306</td><td>4.011402530535207</td><td>4.40223370602661</td><td>2.810489721916163</td><td>42.838741361618546</td></tr>\n",
       "<tr><td>7482.920440979423</td><td>43.52683804798076</td><td>133.33951007141673</td><td>3.251914407101381</td><td>4.904784727158193</td><td>0.26717426966963187</td><td>74.6676017675449</td></tr>\n",
       "<tr><td>1001.029373356104</td><td>72.2009308677486</td><td>46.801404951673135</td><td>3.676069485337255</td><td>2.9402725344777285</td><td>0.12269422009196505</td><td>14.739937902337719</td></tr>\n",
       "<tr><td>3720.993153686558</td><td>81.41814536152059</td><td>168.06113855037017</td><td>2.421160815785701</td><td>4.076967847007943</td><td>0.533537998460122</td><td>59.9954174544474</td></tr>\n",
       "<tr><td>2320.8030173540174</td><td>106.98701212060425</td><td>14.92976677562671</td><td>2.5943044672546365</td><td>4.629167456888115</td><td>2.758766037578794</td><td>30.7563346178988</td></tr>\n",
       "</table>"
      ],
      "text/plain": [
       "<Table length=5>\n",
       "       flux              x_mean       ...        theta            amplitude     \n",
       "     float64            float64       ...       float64            float64      \n",
       "------------------ ------------------ ... ------------------- ------------------\n",
       " 4753.198042323166 26.620947058383603 ...   2.810489721916163 42.838741361618546\n",
       " 7482.920440979423  43.52683804798076 ... 0.26717426966963187   74.6676017675449\n",
       " 1001.029373356104   72.2009308677486 ... 0.12269422009196505 14.739937902337719\n",
       " 3720.993153686558  81.41814536152059 ...   0.533537998460122   59.9954174544474\n",
       "2320.8030173540174 106.98701212060425 ...   2.758766037578794   30.7563346178988"
      ]
     },
     "execution_count": 4,
     "metadata": {},
     "output_type": "execute_result"
    }
   ],
   "source": [
    "sources"
   ]
  },
  {
   "cell_type": "markdown",
   "metadata": {},
   "source": [
    "### Digression: learn a little about the Table and Column objects\n",
    "\n",
    "- `Table` is a **container class** where `Table.columns` is the main table data structure\n",
    "- `Table.columns` is an OrderedDict of columns (`Column`, `MaskedColumn`, or mixin-column)\n",
    "- `Column` class inherits from `np.ndarray`\n",
    "- `MaskedColumn` class inherits from `np.ma.MaskedArray`"
   ]
  },
  {
   "cell_type": "code",
   "execution_count": 5,
   "metadata": {
    "scrolled": true
   },
   "outputs": [
    {
     "data": {
      "text/plain": [
       "(astropy.table.table.TableColumns, collections.OrderedDict, dict, object)"
      ]
     },
     "execution_count": 5,
     "metadata": {},
     "output_type": "execute_result"
    }
   ],
   "source": [
    "type(sources.columns).__mro__"
   ]
  },
  {
   "cell_type": "code",
   "execution_count": 6,
   "metadata": {
    "scrolled": true
   },
   "outputs": [
    {
     "data": {
      "text/plain": [
       "(astropy.table.column.Column,\n",
       " astropy.table.column.BaseColumn,\n",
       " astropy.table._column_mixins._ColumnGetitemShim,\n",
       " numpy.ndarray,\n",
       " object)"
      ]
     },
     "execution_count": 6,
     "metadata": {},
     "output_type": "execute_result"
    }
   ],
   "source": [
    "type(sources.columns['flux']).__mro__"
   ]
  },
  {
   "cell_type": "code",
   "execution_count": 7,
   "metadata": {},
   "outputs": [
    {
     "data": {
      "text/plain": [
       "True"
      ]
     },
     "execution_count": 7,
     "metadata": {},
     "output_type": "execute_result"
    }
   ],
   "source": [
    "sources.columns['flux'] is sources['flux']"
   ]
  },
  {
   "cell_type": "markdown",
   "metadata": {},
   "source": [
    "### Make a synthetic image for cutouts"
   ]
  },
  {
   "cell_type": "code",
   "execution_count": 8,
   "metadata": {
    "nbpresent": {
     "id": "8ecb68a2-b932-43c9-a725-dab7103f3223"
    },
    "slideshow": {
     "slide_type": "slide"
    }
   },
   "outputs": [
    {
     "data": {
      "image/png": "[encoded data removed]",
      "text/plain": [
       "<Figure size 432x288 with 1 Axes>"
      ]
     },
     "metadata": {
      "needs_background": "light"
     },
     "output_type": "display_data"
    }
   ],
   "source": [
    "img = photutils.datasets.make_gaussian_sources_image(shape=(200, 200), \n",
    "                                               source_table=sources)\n",
    "plt.imshow(img);  # Trick: trailing semicolon to suppress output"
   ]
  },
  {
   "cell_type": "markdown",
   "metadata": {},
   "source": [
    "### Make postage-stamp cutouts for each source"
   ]
  },
  {
   "cell_type": "code",
   "execution_count": 9,
   "metadata": {
    "nbpresent": {
     "id": "8a920b74-02b4-4fa7-8018-28b0382ee02c"
    },
    "slideshow": {
     "slide_type": "slide"
    }
   },
   "outputs": [],
   "source": [
    "# Make integer columns with rounded representation of source mean position \n",
    "\n",
    "sources['x0'] = np.round(sources['x_mean']).astype(int)\n",
    "sources['y0'] = np.round(sources['y_mean']).astype(int)"
   ]
  },
  {
   "cell_type": "code",
   "execution_count": 10,
   "metadata": {
    "nbpresent": {
     "id": "239899b4-00fa-4529-b559-c7614b5a9473"
    },
    "slideshow": {
     "slide_type": "fragment"
    }
   },
   "outputs": [],
   "source": [
    "# Generate list of cutout images around each source\n",
    "\n",
    "npix = 10\n",
    "cutouts = [img[y0-npix:y0+npix, x0-npix:x0+npix] for x0, y0 in sources['x0', 'y0']]\n",
    "\n",
    "# `cutouts` is a list of 2-d ndarrays"
   ]
  },
  {
   "cell_type": "code",
   "execution_count": 11,
   "metadata": {
    "slideshow": {
     "slide_type": "fragment"
    }
   },
   "outputs": [],
   "source": [
    "# Add the cutouts into table: each element is a 2-d image\n",
    "# This shows:\n",
    "#  - Table mutability and independent columns\n",
    "#  - Storage of ndarray in each table cell\n",
    "\n",
    "sources['cutout'] = cutouts"
   ]
  },
  {
   "cell_type": "code",
   "execution_count": 12,
   "metadata": {
    "nbpresent": {
     "id": "68f0caa6-eed1-442f-a9dc-0307d8935308"
    },
    "slideshow": {
     "slide_type": "slide"
    }
   },
   "outputs": [
    {
     "data": {
      "image/png": "[encoded data removed]",
      "text/plain": [
       "<Figure size 432x288 with 1 Axes>"
      ]
     },
     "metadata": {
      "needs_background": "light"
     },
     "output_type": "display_data"
    }
   ],
   "source": [
    "plt.imshow(sources['cutout'][3], interpolation='nearest');"
   ]
  },
  {
   "cell_type": "markdown",
   "metadata": {},
   "source": [
    "### Add a source identifier to the table"
   ]
  },
  {
   "cell_type": "code",
   "execution_count": 13,
   "metadata": {
    "nbpresent": {
     "id": "a0725b93-1258-4d04-ba13-448ea4427dda"
    },
    "slideshow": {
     "slide_type": "slide"
    }
   },
   "outputs": [
    {
     "data": {
      "text/html": [
       "<i>Table length=5</i>\n",
       "<table id=\"table4631924520\" class=\"table-striped table-bordered table-condensed\">\n",
       "<thead><tr><th>flux</th><th>x_mean</th><th>y_mean</th><th>x_stddev</th><th>y_stddev</th><th>theta</th><th>amplitude</th><th>x0</th><th>y0</th><th>cutout [20,20]</th><th>id</th></tr></thead>\n",
       "<thead><tr><th>float64</th><th>float64</th><th>float64</th><th>float64</th><th>float64</th><th>float64</th><th>float64</th><th>int64</th><th>int64</th><th>float64</th><th>str11</th></tr></thead>\n",
       "<tr><td>4753.198042323166</td><td>26.620947058383603</td><td>85.45501259259306</td><td>4.011402530535207</td><td>4.40223370602661</td><td>2.810489721916163</td><td>42.838741361618546</td><td>27</td><td>85</td><td>0.1974786837807795 .. 0.5534277029271929</td><td>jwst-27-85</td></tr>\n",
       "<tr><td>7482.920440979423</td><td>43.52683804798076</td><td>133.33951007141673</td><td>3.251914407101381</td><td>4.904784727158193</td><td>0.26717426966963187</td><td>74.6676017675449</td><td>44</td><td>133</td><td>0.028459677466553535 .. 0.0766241752683345</td><td>jwst-44-133</td></tr>\n",
       "<tr><td>1001.029373356104</td><td>72.2009308677486</td><td>46.801404951673135</td><td>3.676069485337255</td><td>2.9402725344777285</td><td>0.12269422009196505</td><td>14.739937902337719</td><td>72</td><td>47</td><td>0.0020048959858209167 .. 0.009505383995544379</td><td>jwst-72-47</td></tr>\n",
       "<tr><td>3720.993153686558</td><td>81.41814536152059</td><td>168.06113855037017</td><td>2.421160815785701</td><td>4.076967847007943</td><td>0.533537998460122</td><td>59.9954174544474</td><td>81</td><td>168</td><td>1.901989494354942e-06 .. 0.00022714439589234747</td><td>jwst-81-168</td></tr>\n",
       "<tr><td>2320.8030173540174</td><td>106.98701212060425</td><td>14.92976677562671</td><td>2.5943044672546365</td><td>4.629167456888115</td><td>2.758766037578794</td><td>30.7563346178988</td><td>107</td><td>15</td><td>0.062406969945736475 .. 0.19228454779415236</td><td>jwst-107-15</td></tr>\n",
       "</table>"
      ],
      "text/plain": [
       "<Table length=5>\n",
       "       flux              x_mean       ...      id    \n",
       "     float64            float64       ...    str11   \n",
       "------------------ ------------------ ... -----------\n",
       " 4753.198042323166 26.620947058383603 ...  jwst-27-85\n",
       " 7482.920440979423  43.52683804798076 ... jwst-44-133\n",
       " 1001.029373356104   72.2009308677486 ...  jwst-72-47\n",
       " 3720.993153686558  81.41814536152059 ... jwst-81-168\n",
       "2320.8030173540174 106.98701212060425 ... jwst-107-15"
      ]
     },
     "execution_count": 13,
     "metadata": {},
     "output_type": "execute_result"
    }
   ],
   "source": [
    "sources['id'] = ['jwst-{}-{}'.format(x0, y0) for x0, y0 in sources['x0', 'y0']]\n",
    "sources"
   ]
  },
  {
   "cell_type": "markdown",
   "metadata": {},
   "source": [
    "### Formatting: let's be a little fussy about the Table:\n",
    "- Put the 'id' column first\n",
    "- Make the precision of table outputs more reasonable (and beautiful!)\n",
    "- Add units to `flux` and `theta` columns\n",
    "\n"
   ]
  },
  {
   "cell_type": "code",
   "execution_count": 14,
   "metadata": {
    "nbpresent": {
     "id": "aa357512-ca20-45d2-9c54-0add8be17ff7"
    },
    "scrolled": true,
    "slideshow": {
     "slide_type": "slide"
    }
   },
   "outputs": [
    {
     "data": {
      "text/html": [
       "<i>Table length=5</i>\n",
       "<table id=\"table4631924520\" class=\"table-striped table-bordered table-condensed\">\n",
       "<thead><tr><th>id</th><th>flux</th><th>x_mean</th><th>y_mean</th><th>x_stddev</th><th>y_stddev</th><th>theta</th><th>amplitude</th><th>x0</th><th>y0</th><th>cutout [20,20]</th></tr></thead>\n",
       "<thead><tr><th></th><th>electron</th><th></th><th></th><th></th><th></th><th>rad</th><th></th><th></th><th></th><th></th></tr></thead>\n",
       "<thead><tr><th>str11</th><th>float64</th><th>float64</th><th>float64</th><th>float64</th><th>float64</th><th>float64</th><th>float64</th><th>int64</th><th>int64</th><th>float64</th></tr></thead>\n",
       "<tr><td>jwst-27-85</td><td>4753.198</td><td>26.621</td><td>85.455</td><td>4.011</td><td>4.402</td><td>2.810</td><td>42.838741361618546</td><td>27</td><td>85</td><td>0.197 .. 0.553</td></tr>\n",
       "<tr><td>jwst-44-133</td><td>7482.920</td><td>43.527</td><td>133.340</td><td>3.252</td><td>4.905</td><td>0.267</td><td>74.6676017675449</td><td>44</td><td>133</td><td>0.0285 .. 0.0766</td></tr>\n",
       "<tr><td>jwst-72-47</td><td>1001.029</td><td>72.201</td><td>46.801</td><td>3.676</td><td>2.940</td><td>0.123</td><td>14.739937902337719</td><td>72</td><td>47</td><td>0.002 .. 0.00951</td></tr>\n",
       "<tr><td>jwst-81-168</td><td>3720.993</td><td>81.418</td><td>168.061</td><td>2.421</td><td>4.077</td><td>0.534</td><td>59.9954174544474</td><td>81</td><td>168</td><td>1.9e-06 .. 0.000227</td></tr>\n",
       "<tr><td>jwst-107-15</td><td>2320.803</td><td>106.987</td><td>14.930</td><td>2.594</td><td>4.629</td><td>2.759</td><td>30.7563346178988</td><td>107</td><td>15</td><td>0.0624 .. 0.192</td></tr>\n",
       "</table>"
      ],
      "text/plain": [
       "<Table length=5>\n",
       "     id       flux    x_mean  y_mean ...   x0    y0     cutout [20,20]  \n",
       "            electron                 ...                                \n",
       "   str11    float64  float64 float64 ... int64 int64       float64      \n",
       "----------- -------- ------- ------- ... ----- ----- -------------------\n",
       " jwst-27-85 4753.198  26.621  85.455 ...    27    85      0.197 .. 0.553\n",
       "jwst-44-133 7482.920  43.527 133.340 ...    44   133    0.0285 .. 0.0766\n",
       " jwst-72-47 1001.029  72.201  46.801 ...    72    47    0.002 .. 0.00951\n",
       "jwst-81-168 3720.993  81.418 168.061 ...    81   168 1.9e-06 .. 0.000227\n",
       "jwst-107-15 2320.803 106.987  14.930 ...   107    15     0.0624 .. 0.192"
      ]
     },
     "execution_count": 14,
     "metadata": {},
     "output_type": "execute_result"
    }
   ],
   "source": [
    "# Move the `id` column to be the first column \n",
    "# (Should Table get a method `move_column` to make this easier?)\n",
    "sources_id = sources['id']\n",
    "del sources['id']\n",
    "sources.add_column(sources_id, index=0)\n",
    "\n",
    "# Set the output formatting for particular columns\n",
    "for name in ('flux', 'x_mean', 'y_mean', 'x_stddev', 'y_stddev', 'theta'):\n",
    "    sources[name].format = '.3f'  # Could also use '%.3f' or '{:.3f}'\n",
    "sources['cutout'].format = '.3g'\n",
    "\n",
    "# Set the unit for flux and theta\n",
    "sources['flux'].unit = u.electron\n",
    "sources['theta'].unit = u.rad\n",
    "\n",
    "sources"
   ]
  },
  {
   "cell_type": "markdown",
   "metadata": {
    "nbpresent": {
     "id": "b920b873-d1ac-48dc-97a3-35e693973cdc"
    },
    "slideshow": {
     "slide_type": "slide"
    }
   },
   "source": [
    "### Digression: table and column summary information"
   ]
  },
  {
   "cell_type": "code",
   "execution_count": 15,
   "metadata": {
    "nbpresent": {
     "id": "669db2d1-b955-40ed-927e-0a3adef02e87"
    },
    "slideshow": {
     "slide_type": "fragment"
    }
   },
   "outputs": [
    {
     "data": {
      "text/plain": [
       "<Table length=5>\n",
       "   name    dtype   shape     unit   format\n",
       "--------- ------- -------- -------- ------\n",
       "       id   str11                         \n",
       "     flux float64          electron    .3f\n",
       "   x_mean float64                      .3f\n",
       "   y_mean float64                      .3f\n",
       " x_stddev float64                      .3f\n",
       " y_stddev float64                      .3f\n",
       "    theta float64               rad    .3f\n",
       "amplitude float64                         \n",
       "       x0   int64                         \n",
       "       y0   int64                         \n",
       "   cutout float64 (20, 20)             .3g"
      ]
     },
     "execution_count": 15,
     "metadata": {},
     "output_type": "execute_result"
    }
   ],
   "source": [
    "sources.info"
   ]
  },
  {
   "cell_type": "code",
   "execution_count": 16,
   "metadata": {
    "nbpresent": {
     "id": "4c2878dd-901c-44a7-97d8-83ce2a57cf73"
    },
    "scrolled": true,
    "slideshow": {
     "slide_type": "fragment"
    }
   },
   "outputs": [
    {
     "name": "stdout",
     "output_type": "stream",
     "text": [
      "<Table length=5>\n",
      "   name          mean               std                  min                 max        \n",
      "--------- ------------------ ------------------ --------------------- ------------------\n",
      "       id                 --                 --                    --                 --\n",
      "     flux 3855.7888055398535  2212.936053861641     1001.029373356104  7482.920440979423\n",
      "   x_mean  66.15077469124756 28.325765889920238    26.620947058383603 106.98701212060425\n",
      "   y_mean  89.71736658833596  55.66645402363652     14.92976677562671 168.06113855037017\n",
      " x_stddev  3.190970341202836 0.6100428192607832     2.421160815785701  4.011402530535207\n",
      " y_stddev  4.190685254311718 0.6816774992861885    2.9402725344777285  4.904784727158193\n",
      "    theta 1.2985324495433352 1.2206398872991027   0.12269422009196505  2.810489721916163\n",
      "amplitude  44.59960662076947 21.106643340681835    14.739937902337719   74.6676017675449\n",
      "       x0               66.2 28.095551249263647                    27                107\n",
      "       y0               89.6  55.55393775422225                    15                168\n",
      "   cutout   9.34072041061978 13.414721059206054 1.901989494354942e-06  73.87936011733294\n"
     ]
    }
   ],
   "source": [
    "sources.info('stats')\n",
    "# You can write your own info specifications!"
   ]
  },
  {
   "cell_type": "code",
   "execution_count": 17,
   "metadata": {},
   "outputs": [
    {
     "name": "stdout",
     "output_type": "stream",
     "text": [
      "<Table length=5>\n",
      "   name           my_min            my_median            my_max      \n",
      "--------- --------------------- ------------------ ------------------\n",
      "       id                    --                 --                 --\n",
      "     flux     1001.029373356104  3720.993153686558  7482.920440979423\n",
      "   x_mean    26.620947058383603   72.2009308677486 106.98701212060425\n",
      "   y_mean     14.92976677562671  85.45501259259306 168.06113855037017\n",
      " x_stddev     2.421160815785701  3.251914407101381  4.011402530535207\n",
      " y_stddev    2.9402725344777285   4.40223370602661  4.904784727158193\n",
      "    theta   0.12269422009196505  0.533537998460122  2.810489721916163\n",
      "amplitude    14.739937902337719 42.838741361618546   74.6676017675449\n",
      "       x0                    27               72.0                107\n",
      "       y0                    15               85.0                168\n",
      "   cutout 1.901989494354942e-06  3.470181826068183  73.87936011733294\n"
     ]
    }
   ],
   "source": [
    "# You can roll your own custom info!\n",
    "\n",
    "from astropy.utils.data_info import data_info_factory\n",
    "mystats = data_info_factory(names=['my_min', 'my_median', 'my_max'],\n",
    "                            funcs=[np.min, np.median, np.max])\n",
    "sources.info(mystats)"
   ]
  },
  {
   "cell_type": "markdown",
   "metadata": {},
   "source": [
    "#### Column info: name, dtype, unit, format, description"
   ]
  },
  {
   "cell_type": "code",
   "execution_count": 18,
   "metadata": {},
   "outputs": [
    {
     "data": {
      "text/plain": [
       "name = theta\n",
       "dtype = float64\n",
       "unit = rad\n",
       "format = .3f\n",
       "description = Elliptical gaussian rotation angle\n",
       "class = Column\n",
       "n_bad = 0\n",
       "length = 5"
      ]
     },
     "execution_count": 18,
     "metadata": {},
     "output_type": "execute_result"
    }
   ],
   "source": [
    "sources['theta'].info.description = 'Elliptical gaussian rotation angle'\n",
    "sources['theta'].info"
   ]
  },
  {
   "cell_type": "markdown",
   "metadata": {
    "nbpresent": {
     "id": "dfa4ba7f-cac3-43a9-a213-c62459f51bc5"
    },
    "slideshow": {
     "slide_type": "slide"
    }
   },
   "source": [
    "### Make fake observations of these sources in 5 bands 'u', 'b', 'v', 'r', 'k'"
   ]
  },
  {
   "cell_type": "code",
   "execution_count": 19,
   "metadata": {
    "nbpresent": {
     "id": "8133930c-7eb4-4b7f-99d0-0e303f2583c4"
    },
    "slideshow": {
     "slide_type": "slide"
    }
   },
   "outputs": [],
   "source": [
    "def make_observation(sources, band, flux_mult):\n",
    "    \"\"\"\n",
    "    Make fake observation of ``sources`` in a field in ``band``.  Apply\n",
    "    ``flux_mult`` flux multiplier and some gaussian noise on parameters.\n",
    "    \"\"\"\n",
    "    n = len(sources)\n",
    "    out = sources.copy()\n",
    "\n",
    "    # Multiply flux by randomized version of flux_mult\n",
    "    out['flux'] *= flux_mult * np.random.normal(loc=1, scale=0.1, size=n)\n",
    "\n",
    "    # Add 1.0 pixel of position and stddev noise\n",
    "    for name in ('x_mean', 'y_mean'):\n",
    "        out[name] += np.random.normal(loc=0, scale=1.0, size=n)\n",
    "  \n",
    "    # Add 0.1 pixel noise to stddev\n",
    "    for name in ('x_stddev', 'y_stddev'):\n",
    "        out[name] += np.random.normal(loc=0, scale=0.1, size=n)\n",
    "        \n",
    "    # Add a list that repeats the ``band`` as the second column\n",
    "    out.add_column(Column([band] * n, name='band'), index=1)\n",
    "    \n",
    "    # Make integer columns with rounded representation of source mean position  \n",
    "    sources['x0'] = np.round(sources['x_mean']).astype(int)\n",
    "    sources['y0'] = np.round(sources['y_mean']).astype(int)\n",
    "    \n",
    "    # Generate list of cutout images around each source\n",
    "    img = photutils.datasets.make_gaussian_sources_image(shape=(200, 200), source_table=out)\n",
    "    npix = 10\n",
    "    cutouts = [img[y0-npix:y0+npix, x0-npix:x0+npix] for x0, y0 in sources['x0', 'y0']]\n",
    "    sources['cutout'] = cutouts\n",
    "\n",
    "    return out"
   ]
  },
  {
   "cell_type": "code",
   "execution_count": 20,
   "metadata": {
    "nbpresent": {
     "id": "463affe4-5604-4dec-8836-586349219e69"
    },
    "scrolled": true,
    "slideshow": {
     "slide_type": "slide"
    }
   },
   "outputs": [
    {
     "data": {
      "text/html": [
       "<i>Table length=5</i>\n",
       "<table id=\"table4634555224\" class=\"table-striped table-bordered table-condensed\">\n",
       "<thead><tr><th>id</th><th>band</th><th>flux</th><th>x_mean</th><th>y_mean</th><th>x_stddev</th><th>y_stddev</th><th>theta</th><th>amplitude</th><th>x0</th><th>y0</th><th>cutout [20,20]</th></tr></thead>\n",
       "<thead><tr><th></th><th></th><th>electron</th><th></th><th></th><th></th><th></th><th>rad</th><th></th><th></th><th></th><th></th></tr></thead>\n",
       "<thead><tr><th>str11</th><th>str1</th><th>float64</th><th>float64</th><th>float64</th><th>float64</th><th>float64</th><th>float64</th><th>float64</th><th>int64</th><th>int64</th><th>float64</th></tr></thead>\n",
       "<tr><td>jwst-27-85</td><td>u</td><td>440.951</td><td>28.706</td><td>84.967</td><td>4.188</td><td>4.451</td><td>2.810</td><td>42.838741361618546</td><td>27</td><td>85</td><td>0.197 .. 0.553</td></tr>\n",
       "<tr><td>jwst-44-133</td><td>u</td><td>689.202</td><td>43.758</td><td>134.607</td><td>3.281</td><td>4.838</td><td>0.267</td><td>74.6676017675449</td><td>44</td><td>133</td><td>0.0285 .. 0.0766</td></tr>\n",
       "<tr><td>jwst-72-47</td><td>u</td><td>93.226</td><td>72.742</td><td>48.954</td><td>3.757</td><td>3.050</td><td>0.123</td><td>14.739937902337719</td><td>72</td><td>47</td><td>0.002 .. 0.00951</td></tr>\n",
       "<tr><td>jwst-81-168</td><td>u</td><td>394.393</td><td>82.590</td><td>168.416</td><td>2.326</td><td>4.169</td><td>0.534</td><td>59.9954174544474</td><td>81</td><td>168</td><td>1.9e-06 .. 0.000227</td></tr>\n",
       "<tr><td>jwst-107-15</td><td>u</td><td>249.535</td><td>107.259</td><td>14.344</td><td>2.706</td><td>4.603</td><td>2.759</td><td>30.7563346178988</td><td>107</td><td>15</td><td>0.0624 .. 0.192</td></tr>\n",
       "</table>"
      ],
      "text/plain": [
       "<Table length=5>\n",
       "     id     band   flux    x_mean ...   x0    y0     cutout [20,20]  \n",
       "                 electron         ...                                \n",
       "   str11    str1 float64  float64 ... int64 int64       float64      \n",
       "----------- ---- -------- ------- ... ----- ----- -------------------\n",
       " jwst-27-85    u  440.951  28.706 ...    27    85      0.197 .. 0.553\n",
       "jwst-44-133    u  689.202  43.758 ...    44   133    0.0285 .. 0.0766\n",
       " jwst-72-47    u   93.226  72.742 ...    72    47    0.002 .. 0.00951\n",
       "jwst-81-168    u  394.393  82.590 ...    81   168 1.9e-06 .. 0.000227\n",
       "jwst-107-15    u  249.535 107.259 ...   107    15     0.0624 .. 0.192"
      ]
     },
     "execution_count": 20,
     "metadata": {},
     "output_type": "execute_result"
    }
   ],
   "source": [
    "sources_list = []\n",
    "for band, flux_mult in [('u', 0.1), \n",
    "                        ('b', 0.2), \n",
    "                        ('v', 0.5), \n",
    "                        ('r', 1.0), \n",
    "                        ('k', 1.5)]:\n",
    "    sources_list.append(make_observation(sources, band, flux_mult))\n",
    "    \n",
    "sources_list[0]\n",
    "\n",
    "# Notice that the formatting and units got inherited into our new tables"
   ]
  },
  {
   "cell_type": "code",
   "execution_count": 21,
   "metadata": {
    "nbpresent": {
     "id": "a480a6da-bd37-4d1e-80f0-8dc1aa3cdc6f"
    },
    "slideshow": {
     "slide_type": "fragment"
    }
   },
   "outputs": [],
   "source": [
    "# Pretend that there are non-detections in some bands\n",
    "\n",
    "sources_list[0].remove_rows([1,2,3,4])\n",
    "sources_list[1].remove_row(1)\n",
    "sources_list[3].remove_row(0)"
   ]
  },
  {
   "cell_type": "markdown",
   "metadata": {
    "nbpresent": {
     "id": "48351ca5-84dd-4281-abd0-aaabb587b001"
    },
    "slideshow": {
     "slide_type": "slide"
    }
   },
   "source": [
    "## Database-like features for more power: vstack, indexing, group and join\n",
    "\n",
    "Our list of source tables **`sources_list`** has the raw data we need for analysis but is inconvenient.  Things we'd like to do:\n",
    "\n",
    "- Find all observations of a particular source\n",
    "- List all sources in a particular band\n",
    "- Compute statistics for a particular source (mean centroid, mean image cutout)\n",
    "- Make a single wide table organized by source\n",
    "\n",
    "See [Table high-level operations](http://docs.astropy.org/en/stable/table/operations.html) for all the details."
   ]
  },
  {
   "cell_type": "markdown",
   "metadata": {
    "nbpresent": {
     "id": "25c037ac-8b58-49d3-a181-6aa17ea35a09"
    },
    "slideshow": {
     "slide_type": "slide"
    }
   },
   "source": [
    "### Stacking"
   ]
  },
  {
   "cell_type": "code",
   "execution_count": 22,
   "metadata": {
    "nbpresent": {
     "id": "11e4722a-041d-4bc0-a760-9ffbfccd049f"
    },
    "slideshow": {
     "slide_type": "fragment"
    }
   },
   "outputs": [
    {
     "data": {
      "text/html": [
       "<i>Table length=19</i>\n",
       "<table id=\"table4634623224\" class=\"table-striped table-bordered table-condensed\">\n",
       "<thead><tr><th>id</th><th>band</th><th>flux</th><th>x_mean</th><th>y_mean</th><th>x_stddev</th><th>y_stddev</th><th>theta</th><th>amplitude</th><th>x0</th><th>y0</th><th>cutout [20,20]</th></tr></thead>\n",
       "<thead><tr><th></th><th></th><th>electron</th><th></th><th></th><th></th><th></th><th>rad</th><th></th><th></th><th></th><th></th></tr></thead>\n",
       "<thead><tr><th>str11</th><th>str1</th><th>float64</th><th>float64</th><th>float64</th><th>float64</th><th>float64</th><th>float64</th><th>float64</th><th>int64</th><th>int64</th><th>float64</th></tr></thead>\n",
       "<tr><td>jwst-27-85</td><td>u</td><td>440.951</td><td>28.706</td><td>84.967</td><td>4.188</td><td>4.451</td><td>2.810</td><td>42.838741361618546</td><td>27.000</td><td>85.000</td><td>0.197 .. 0.553</td></tr>\n",
       "<tr><td>jwst-27-85</td><td>b</td><td>945.228</td><td>25.854</td><td>86.626</td><td>3.992</td><td>4.398</td><td>2.810</td><td>42.838741361618546</td><td>27.000</td><td>85.000</td><td>0.0898 .. 1.35</td></tr>\n",
       "<tr><td>jwst-72-47</td><td>b</td><td>156.861</td><td>72.064</td><td>47.517</td><td>3.489</td><td>2.797</td><td>0.123</td><td>14.739937902337719</td><td>72.000</td><td>47.000</td><td>0.000204 .. 0.118</td></tr>\n",
       "<tr><td>jwst-81-168</td><td>b</td><td>708.464</td><td>81.362</td><td>168.380</td><td>2.335</td><td>4.063</td><td>0.534</td><td>59.9954174544474</td><td>81.000</td><td>168.000</td><td>1.95e-08 .. 0.00095</td></tr>\n",
       "<tr><td>jwst-107-15</td><td>b</td><td>453.704</td><td>108.084</td><td>13.411</td><td>2.675</td><td>4.730</td><td>2.759</td><td>30.7563346178988</td><td>107.000</td><td>15.000</td><td>0.0646 .. 0.227</td></tr>\n",
       "<tr><td>jwst-27-85</td><td>v</td><td>2215.543</td><td>27.097</td><td>85.632</td><td>3.927</td><td>4.498</td><td>2.810</td><td>42.838741361618546</td><td>27.000</td><td>85.000</td><td>0.153 .. 0.551</td></tr>\n",
       "<tr><td>jwst-44-133</td><td>v</td><td>3940.358</td><td>41.012</td><td>133.555</td><td>3.325</td><td>4.938</td><td>0.267</td><td>74.6676017675449</td><td>44.000</td><td>133.000</td><td>0.0214 .. 0.0578</td></tr>\n",
       "<tr><td>jwst-72-47</td><td>v</td><td>447.794</td><td>71.881</td><td>45.327</td><td>3.647</td><td>2.895</td><td>0.123</td><td>14.739937902337719</td><td>72.000</td><td>47.000</td><td>0.000353 .. 0.00847</td></tr>\n",
       "<tr><td>jwst-81-168</td><td>v</td><td>1812.206</td><td>82.773</td><td>168.190</td><td>2.433</td><td>4.038</td><td>0.534</td><td>59.9954174544474</td><td>81.000</td><td>168.000</td><td>3.7e-07 .. 0.000123</td></tr>\n",
       "<tr><td>jwst-107-15</td><td>v</td><td>1305.174</td><td>106.559</td><td>14.750</td><td>2.590</td><td>4.589</td><td>2.759</td><td>30.7563346178988</td><td>107.000</td><td>15.000</td><td>0.0361 .. 0.359</td></tr>\n",
       "<tr><td>jwst-44-133</td><td>r</td><td>6552.223</td><td>42.412</td><td>135.162</td><td>3.439</td><td>4.886</td><td>0.267</td><td>74.6676017675449</td><td>44.000</td><td>133.000</td><td>0.292 .. 0.00825</td></tr>\n",
       "<tr><td>jwst-72-47</td><td>r</td><td>896.576</td><td>70.625</td><td>47.146</td><td>3.713</td><td>2.941</td><td>0.123</td><td>14.739937902337719</td><td>72.000</td><td>47.000</td><td>0.00923 .. 0.00123</td></tr>\n",
       "<tr><td>jwst-81-168</td><td>r</td><td>3828.025</td><td>80.514</td><td>167.581</td><td>2.480</td><td>4.119</td><td>0.534</td><td>59.9954174544474</td><td>81.000</td><td>168.000</td><td>1.16e-07 .. 0.00235</td></tr>\n",
       "<tr><td>jwst-107-15</td><td>r</td><td>2863.761</td><td>107.951</td><td>14.741</td><td>2.707</td><td>4.663</td><td>2.759</td><td>30.7563346178988</td><td>107.000</td><td>15.000</td><td>0.0919 .. 0.116</td></tr>\n",
       "<tr><td>jwst-27-85</td><td>k</td><td>6754.420</td><td>26.824</td><td>85.473</td><td>4.049</td><td>4.561</td><td>2.810</td><td>42.838741361618546</td><td>27.000</td><td>85.000</td><td>0.249 .. 0.282</td></tr>\n",
       "<tr><td>jwst-44-133</td><td>k</td><td>8696.013</td><td>45.175</td><td>133.334</td><td>3.332</td><td>5.155</td><td>0.267</td><td>74.6676017675449</td><td>44.000</td><td>133.000</td><td>0.0496 .. 0.123</td></tr>\n",
       "<tr><td>jwst-72-47</td><td>k</td><td>1508.166</td><td>72.149</td><td>45.170</td><td>3.622</td><td>2.894</td><td>0.123</td><td>14.739937902337719</td><td>72.000</td><td>47.000</td><td>0.00413 .. 0.00513</td></tr>\n",
       "<tr><td>jwst-81-168</td><td>k</td><td>6436.263</td><td>83.563</td><td>168.236</td><td>2.621</td><td>4.095</td><td>0.534</td><td>59.9954174544474</td><td>81.000</td><td>168.000</td><td>4e-05 .. 5.14e-05</td></tr>\n",
       "<tr><td>jwst-107-15</td><td>k</td><td>3378.575</td><td>105.841</td><td>15.331</td><td>2.593</td><td>4.780</td><td>2.759</td><td>30.7563346178988</td><td>107.000</td><td>15.000</td><td>0.0322 .. 0.467</td></tr>\n",
       "</table>"
      ],
      "text/plain": [
       "<Table length=19>\n",
       "     id     band   flux    x_mean ...    x0      y0      cutout [20,20]  \n",
       "                 electron         ...                                    \n",
       "   str11    str1 float64  float64 ...  int64   int64        float64      \n",
       "----------- ---- -------- ------- ... ------- ------- -------------------\n",
       " jwst-27-85    u  440.951  28.706 ...  27.000  85.000      0.197 .. 0.553\n",
       " jwst-27-85    b  945.228  25.854 ...  27.000  85.000      0.0898 .. 1.35\n",
       " jwst-72-47    b  156.861  72.064 ...  72.000  47.000   0.000204 .. 0.118\n",
       "jwst-81-168    b  708.464  81.362 ...  81.000 168.000 1.95e-08 .. 0.00095\n",
       "jwst-107-15    b  453.704 108.084 ... 107.000  15.000     0.0646 .. 0.227\n",
       " jwst-27-85    v 2215.543  27.097 ...  27.000  85.000      0.153 .. 0.551\n",
       "jwst-44-133    v 3940.358  41.012 ...  44.000 133.000    0.0214 .. 0.0578\n",
       " jwst-72-47    v  447.794  71.881 ...  72.000  47.000 0.000353 .. 0.00847\n",
       "jwst-81-168    v 1812.206  82.773 ...  81.000 168.000 3.7e-07 .. 0.000123\n",
       "jwst-107-15    v 1305.174 106.559 ... 107.000  15.000     0.0361 .. 0.359\n",
       "jwst-44-133    r 6552.223  42.412 ...  44.000 133.000    0.292 .. 0.00825\n",
       " jwst-72-47    r  896.576  70.625 ...  72.000  47.000  0.00923 .. 0.00123\n",
       "jwst-81-168    r 3828.025  80.514 ...  81.000 168.000 1.16e-07 .. 0.00235\n",
       "jwst-107-15    r 2863.761 107.951 ... 107.000  15.000     0.0919 .. 0.116\n",
       " jwst-27-85    k 6754.420  26.824 ...  27.000  85.000      0.249 .. 0.282\n",
       "jwst-44-133    k 8696.013  45.175 ...  44.000 133.000     0.0496 .. 0.123\n",
       " jwst-72-47    k 1508.166  72.149 ...  72.000  47.000  0.00413 .. 0.00513\n",
       "jwst-81-168    k 6436.263  83.563 ...  81.000 168.000   4e-05 .. 5.14e-05\n",
       "jwst-107-15    k 3378.575 105.841 ... 107.000  15.000     0.0322 .. 0.467"
      ]
     },
     "execution_count": 22,
     "metadata": {},
     "output_type": "execute_result"
    }
   ],
   "source": [
    "# Stack the list of tables to create a single table (database) of every source observation.\n",
    "\n",
    "srcs = table.vstack(sources_list)\n",
    "\n",
    "srcs"
   ]
  },
  {
   "cell_type": "markdown",
   "metadata": {
    "nbpresent": {
     "id": "437376f8-a2dc-412c-b66c-db69d06d35d3"
    }
   },
   "source": [
    "### Indexing\n",
    "\n",
    "- Indexing means that supplemental information (an index) is added to the table that allows access to particular elements in `time << O(N)`.  \n",
    "- In the case of astropy Table it uses a binary search of an ordered index table `O(log(N))`."
   ]
  },
  {
   "cell_type": "code",
   "execution_count": 23,
   "metadata": {
    "nbpresent": {
     "id": "f42e3d62-29c9-40e7-a26e-f698183458c1"
    }
   },
   "outputs": [],
   "source": [
    "# Now add a database index on the `id` column.  This becomes the 'primary key'.\n",
    "# In this case it does not need to be unique, though one can declare that an\n",
    "# index must be unique.\n",
    "\n",
    "srcs.add_index('id')"
   ]
  },
  {
   "cell_type": "code",
   "execution_count": 24,
   "metadata": {
    "nbpresent": {
     "id": "59805859-bfe3-4f0c-91f2-caef265a7a98"
    }
   },
   "outputs": [
    {
     "data": {
      "text/html": [
       "<i>Table length=4</i>\n",
       "<table id=\"table4635581184\" class=\"table-striped table-bordered table-condensed\">\n",
       "<thead><tr><th>id</th><th>band</th><th>flux</th><th>x_mean</th><th>y_mean</th><th>x_stddev</th><th>y_stddev</th><th>theta</th><th>amplitude</th><th>x0</th><th>y0</th><th>cutout [20,20]</th></tr></thead>\n",
       "<thead><tr><th></th><th></th><th>electron</th><th></th><th></th><th></th><th></th><th>rad</th><th></th><th></th><th></th><th></th></tr></thead>\n",
       "<thead><tr><th>str11</th><th>str1</th><th>float64</th><th>float64</th><th>float64</th><th>float64</th><th>float64</th><th>float64</th><th>float64</th><th>int64</th><th>int64</th><th>float64</th></tr></thead>\n",
       "<tr><td>jwst-27-85</td><td>v</td><td>2215.543</td><td>27.097</td><td>85.632</td><td>3.927</td><td>4.498</td><td>2.810</td><td>42.838741361618546</td><td>27.000</td><td>85.000</td><td>0.153 .. 0.551</td></tr>\n",
       "<tr><td>jwst-27-85</td><td>b</td><td>945.228</td><td>25.854</td><td>86.626</td><td>3.992</td><td>4.398</td><td>2.810</td><td>42.838741361618546</td><td>27.000</td><td>85.000</td><td>0.0898 .. 1.35</td></tr>\n",
       "<tr><td>jwst-27-85</td><td>k</td><td>6754.420</td><td>26.824</td><td>85.473</td><td>4.049</td><td>4.561</td><td>2.810</td><td>42.838741361618546</td><td>27.000</td><td>85.000</td><td>0.249 .. 0.282</td></tr>\n",
       "<tr><td>jwst-27-85</td><td>u</td><td>440.951</td><td>28.706</td><td>84.967</td><td>4.188</td><td>4.451</td><td>2.810</td><td>42.838741361618546</td><td>27.000</td><td>85.000</td><td>0.197 .. 0.553</td></tr>\n",
       "</table>"
      ],
      "text/plain": [
       "<Table length=4>\n",
       "    id     band   flux    x_mean ...   x0     y0   cutout [20,20]\n",
       "                electron         ...                             \n",
       "  str11    str1 float64  float64 ... int64  int64     float64    \n",
       "---------- ---- -------- ------- ... ------ ------ --------------\n",
       "jwst-27-85    v 2215.543  27.097 ... 27.000 85.000 0.153 .. 0.551\n",
       "jwst-27-85    b  945.228  25.854 ... 27.000 85.000 0.0898 .. 1.35\n",
       "jwst-27-85    k 6754.420  26.824 ... 27.000 85.000 0.249 .. 0.282\n",
       "jwst-27-85    u  440.951  28.706 ... 27.000 85.000 0.197 .. 0.553"
      ]
     },
     "execution_count": 24,
     "metadata": {},
     "output_type": "execute_result"
    }
   ],
   "source": [
    "# Now access elements with id == 'jwst-27-85'.  This should be familiar to Pandas users.\n",
    "# This returns another Table.\n",
    "\n",
    "srcs.loc['jwst-27-85']"
   ]
  },
  {
   "cell_type": "code",
   "execution_count": 25,
   "metadata": {
    "nbpresent": {
     "id": "807044a7-e521-41ae-83f9-9cfd677b2bd7"
    }
   },
   "outputs": [],
   "source": [
    "# Let's make a secondary index to allow slicing the table by band\n",
    "srcs.add_index('band')"
   ]
  },
  {
   "cell_type": "code",
   "execution_count": 26,
   "metadata": {
    "nbpresent": {
     "id": "35a3f940-eafe-49d5-a664-0dae667e6f97"
    }
   },
   "outputs": [
    {
     "data": {
      "text/html": [
       "<i>Table length=4</i>\n",
       "<table id=\"table4635580792\" class=\"table-striped table-bordered table-condensed\">\n",
       "<thead><tr><th>id</th><th>band</th><th>flux</th><th>x_mean</th><th>y_mean</th><th>x_stddev</th><th>y_stddev</th><th>theta</th><th>amplitude</th><th>x0</th><th>y0</th><th>cutout [20,20]</th></tr></thead>\n",
       "<thead><tr><th></th><th></th><th>electron</th><th></th><th></th><th></th><th></th><th>rad</th><th></th><th></th><th></th><th></th></tr></thead>\n",
       "<thead><tr><th>str11</th><th>str1</th><th>float64</th><th>float64</th><th>float64</th><th>float64</th><th>float64</th><th>float64</th><th>float64</th><th>int64</th><th>int64</th><th>float64</th></tr></thead>\n",
       "<tr><td>jwst-27-85</td><td>b</td><td>945.228</td><td>25.854</td><td>86.626</td><td>3.992</td><td>4.398</td><td>2.810</td><td>42.838741361618546</td><td>27.000</td><td>85.000</td><td>0.0898 .. 1.35</td></tr>\n",
       "<tr><td>jwst-72-47</td><td>b</td><td>156.861</td><td>72.064</td><td>47.517</td><td>3.489</td><td>2.797</td><td>0.123</td><td>14.739937902337719</td><td>72.000</td><td>47.000</td><td>0.000204 .. 0.118</td></tr>\n",
       "<tr><td>jwst-81-168</td><td>b</td><td>708.464</td><td>81.362</td><td>168.380</td><td>2.335</td><td>4.063</td><td>0.534</td><td>59.9954174544474</td><td>81.000</td><td>168.000</td><td>1.95e-08 .. 0.00095</td></tr>\n",
       "<tr><td>jwst-107-15</td><td>b</td><td>453.704</td><td>108.084</td><td>13.411</td><td>2.675</td><td>4.730</td><td>2.759</td><td>30.7563346178988</td><td>107.000</td><td>15.000</td><td>0.0646 .. 0.227</td></tr>\n",
       "</table>"
      ],
      "text/plain": [
       "<Table length=4>\n",
       "     id     band   flux    x_mean ...    x0      y0      cutout [20,20]  \n",
       "                 electron         ...                                    \n",
       "   str11    str1 float64  float64 ...  int64   int64        float64      \n",
       "----------- ---- -------- ------- ... ------- ------- -------------------\n",
       " jwst-27-85    b  945.228  25.854 ...  27.000  85.000      0.0898 .. 1.35\n",
       " jwst-72-47    b  156.861  72.064 ...  72.000  47.000   0.000204 .. 0.118\n",
       "jwst-81-168    b  708.464  81.362 ...  81.000 168.000 1.95e-08 .. 0.00095\n",
       "jwst-107-15    b  453.704 108.084 ... 107.000  15.000     0.0646 .. 0.227"
      ]
     },
     "execution_count": 26,
     "metadata": {},
     "output_type": "execute_result"
    }
   ],
   "source": [
    "# Get a table of all 'b' band source detections\n",
    "\n",
    "srcs.loc['band', 'b']"
   ]
  },
  {
   "cell_type": "code",
   "execution_count": 27,
   "metadata": {
    "nbpresent": {
     "id": "13d990e0-643b-488c-b675-948115dfc089"
    }
   },
   "outputs": [
    {
     "data": {
      "text/html": [
       "<i>Row index=0</i>\n",
       "<table id=\"table4634623224\">\n",
       "<thead><tr><th>id</th><th>band</th><th>flux</th><th>x_mean</th><th>y_mean</th><th>x_stddev</th><th>y_stddev</th><th>theta</th><th>amplitude</th><th>x0</th><th>y0</th><th>cutout [20,20]</th></tr></thead>\n",
       "<thead><tr><th></th><th></th><th>electron</th><th></th><th></th><th></th><th></th><th>rad</th><th></th><th></th><th></th><th></th></tr></thead>\n",
       "<thead><tr><th>str11</th><th>str1</th><th>float64</th><th>float64</th><th>float64</th><th>float64</th><th>float64</th><th>float64</th><th>float64</th><th>int64</th><th>int64</th><th>float64</th></tr></thead>\n",
       "<tr><td>jwst-27-85</td><td>u</td><td>440.951</td><td>28.706</td><td>84.967</td><td>4.188</td><td>4.451</td><td>2.810</td><td>42.838741361618546</td><td>27.000</td><td>85.000</td><td>0.197 .. 0.553</td></tr>\n",
       "</table>"
      ],
      "text/plain": [
       "<Row index=0>\n",
       "    id     band   flux    x_mean  y_mean x_stddev y_stddev  theta      amplitude        x0     y0   cutout [20,20]\n",
       "                electron                                     rad                                                  \n",
       "  str11    str1 float64  float64 float64 float64  float64  float64      float64       int64  int64     float64    \n",
       "---------- ---- -------- ------- ------- -------- -------- ------- ------------------ ------ ------ --------------\n",
       "jwst-27-85    u  440.951  28.706  84.967    4.188    4.451   2.810 42.838741361618546 27.000 85.000 0.197 .. 0.553"
      ]
     },
     "execution_count": 27,
     "metadata": {},
     "output_type": "execute_result"
    }
   ],
   "source": [
    "# A special case is if only one table row is selected, in which case\n",
    "# a Row object is returned.  This is convenient for the common use case\n",
    "# of a table with unique keys.\n",
    "\n",
    "srcs.loc['band', 'u']"
   ]
  },
  {
   "cell_type": "markdown",
   "metadata": {
    "nbpresent": {
     "id": "ae7e9d8c-9ecb-4b21-b410-4c0052629e05"
    }
   },
   "source": [
    "### Digression: difference between Row and length=1 Table\n",
    "\n",
    "- Indexing a single element of a table returns a `Row` object which can be used to set or access a column value.  This always returns a scalar value.\n",
    "- Indexing a single row slice of a table returns a Table, so accessing a column returns a `Column` object (an array) with a length of 1.\n",
    "- This is consistent with numpy structured arrays and Pandas (`df.ix[0]` vs. `df[0:1]`)."
   ]
  },
  {
   "cell_type": "code",
   "execution_count": 28,
   "metadata": {
    "nbpresent": {
     "id": "67a60374-bbad-4e5e-b67a-3fc487e7678d"
    }
   },
   "outputs": [
    {
     "data": {
      "text/plain": [
       "'u'"
      ]
     },
     "execution_count": 28,
     "metadata": {},
     "output_type": "execute_result"
    }
   ],
   "source": [
    "srcs[0]['band']"
   ]
  },
  {
   "cell_type": "code",
   "execution_count": 29,
   "metadata": {
    "nbpresent": {
     "id": "101395fe-facb-4c06-855f-883483d44872"
    }
   },
   "outputs": [
    {
     "data": {
      "text/html": [
       "&lt;Column name=&apos;band&apos; dtype=&apos;str1&apos; length=1&gt;\n",
       "<table>\n",
       "<tr><td>u</td></tr>\n",
       "</table>"
      ],
      "text/plain": [
       "<Column name='band' dtype='str1' length=1>\n",
       "u"
      ]
     },
     "execution_count": 29,
     "metadata": {},
     "output_type": "execute_result"
    }
   ],
   "source": [
    "srcs[0:1]['band']"
   ]
  },
  {
   "cell_type": "markdown",
   "metadata": {
    "nbpresent": {
     "id": "548cb8e9-2d36-46bf-a99f-14d474465cd1"
    }
   },
   "source": [
    "### Digression: table access performance\n",
    "\n",
    "**``srcs[0:1]['band']``** and **``srcs['band'][0:1]``** give the same output, but performance is very different!"
   ]
  },
  {
   "cell_type": "code",
   "execution_count": 30,
   "metadata": {
    "nbpresent": {
     "id": "be14a180-2c14-4285-8033-84cd5cf4d918"
    },
    "scrolled": true
   },
   "outputs": [
    {
     "name": "stdout",
     "output_type": "stream",
     "text": [
      "749 µs ± 4.01 µs per loop (mean ± std. dev. of 7 runs, 1000 loops each)\n"
     ]
    }
   ],
   "source": [
    "# This creates an entire new Table object (slow) and then selects one column (fast)\n",
    "%timeit srcs[0:1]['band']"
   ]
  },
  {
   "cell_type": "code",
   "execution_count": 31,
   "metadata": {
    "nbpresent": {
     "id": "e2827346-e5f4-47fc-a07d-2e995d101e50"
    },
    "scrolled": true
   },
   "outputs": [
    {
     "name": "stdout",
     "output_type": "stream",
     "text": [
      "23.3 µs ± 361 ns per loop (mean ± std. dev. of 7 runs, 10000 loops each)\n"
     ]
    }
   ],
   "source": [
    "# This selects a column (fast) and then slices it (fast-ish, creates new Column)\n",
    "%timeit srcs['band'][0:1]"
   ]
  },
  {
   "cell_type": "code",
   "execution_count": 32,
   "metadata": {
    "nbpresent": {
     "id": "b777e5f7-4554-4c08-b1fe-3ec2868aa0a8"
    },
    "scrolled": true
   },
   "outputs": [
    {
     "name": "stdout",
     "output_type": "stream",
     "text": [
      "1.69 µs ± 14.6 ns per loop (mean ± std. dev. of 7 runs, 1000000 loops each)\n"
     ]
    }
   ],
   "source": [
    "# For the most performance, drop the `Column` machinery (no metadata) and use a straight numpy array\n",
    "\n",
    "%timeit np.array(srcs['band'], copy=False)[0:1]"
   ]
  },
  {
   "cell_type": "markdown",
   "metadata": {
    "nbpresent": {
     "id": "82cd29e1-8d82-44f5-8f69-c358daf8df76"
    }
   },
   "source": [
    "### Grouping\n",
    "\n",
    "Astropy `Table` supports the powerful concept of grouping which lets you group the rows into sub-tables which you can then:\n",
    "\n",
    "- [Examine](http://docs.astropy.org/en/stable/table/operations.html#manipulating-groups): select and loop over groups\n",
    "- [Aggregate](http://docs.astropy.org/en/stable/table/operations.html#aggregation): apply a reduction function like np.mean to each group\n",
    "- [Filter](http://docs.astropy.org/en/stable/table/operations.html#filtering): select groups by means a selection function\n",
    "\n",
    "This is a close cousin to indexing, and if a table is already indexed then creating the grouped version is faster."
   ]
  },
  {
   "cell_type": "code",
   "execution_count": 33,
   "metadata": {
    "nbpresent": {
     "id": "3c3ba47a-841e-4638-b91e-452cd02f111a"
    }
   },
   "outputs": [
    {
     "data": {
      "text/html": [
       "<i>Table length=19</i>\n",
       "<table id=\"table4634621488\" class=\"table-striped table-bordered table-condensed\">\n",
       "<thead><tr><th>id</th><th>band</th><th>flux</th><th>x_mean</th><th>y_mean</th><th>x_stddev</th><th>y_stddev</th><th>theta</th><th>amplitude</th><th>x0</th><th>y0</th><th>cutout [20,20]</th></tr></thead>\n",
       "<thead><tr><th></th><th></th><th>electron</th><th></th><th></th><th></th><th></th><th>rad</th><th></th><th></th><th></th><th></th></tr></thead>\n",
       "<thead><tr><th>str11</th><th>str1</th><th>float64</th><th>float64</th><th>float64</th><th>float64</th><th>float64</th><th>float64</th><th>float64</th><th>int64</th><th>int64</th><th>float64</th></tr></thead>\n",
       "<tr><td>jwst-107-15</td><td>v</td><td>1305.174</td><td>106.559</td><td>14.750</td><td>2.590</td><td>4.589</td><td>2.759</td><td>30.7563346178988</td><td>107.000</td><td>15.000</td><td>0.0361 .. 0.359</td></tr>\n",
       "<tr><td>jwst-107-15</td><td>r</td><td>2863.761</td><td>107.951</td><td>14.741</td><td>2.707</td><td>4.663</td><td>2.759</td><td>30.7563346178988</td><td>107.000</td><td>15.000</td><td>0.0919 .. 0.116</td></tr>\n",
       "<tr><td>jwst-107-15</td><td>b</td><td>453.704</td><td>108.084</td><td>13.411</td><td>2.675</td><td>4.730</td><td>2.759</td><td>30.7563346178988</td><td>107.000</td><td>15.000</td><td>0.0646 .. 0.227</td></tr>\n",
       "<tr><td>jwst-107-15</td><td>k</td><td>3378.575</td><td>105.841</td><td>15.331</td><td>2.593</td><td>4.780</td><td>2.759</td><td>30.7563346178988</td><td>107.000</td><td>15.000</td><td>0.0322 .. 0.467</td></tr>\n",
       "<tr><td>jwst-27-85</td><td>v</td><td>2215.543</td><td>27.097</td><td>85.632</td><td>3.927</td><td>4.498</td><td>2.810</td><td>42.838741361618546</td><td>27.000</td><td>85.000</td><td>0.153 .. 0.551</td></tr>\n",
       "<tr><td>jwst-27-85</td><td>b</td><td>945.228</td><td>25.854</td><td>86.626</td><td>3.992</td><td>4.398</td><td>2.810</td><td>42.838741361618546</td><td>27.000</td><td>85.000</td><td>0.0898 .. 1.35</td></tr>\n",
       "<tr><td>jwst-27-85</td><td>k</td><td>6754.420</td><td>26.824</td><td>85.473</td><td>4.049</td><td>4.561</td><td>2.810</td><td>42.838741361618546</td><td>27.000</td><td>85.000</td><td>0.249 .. 0.282</td></tr>\n",
       "<tr><td>jwst-27-85</td><td>u</td><td>440.951</td><td>28.706</td><td>84.967</td><td>4.188</td><td>4.451</td><td>2.810</td><td>42.838741361618546</td><td>27.000</td><td>85.000</td><td>0.197 .. 0.553</td></tr>\n",
       "<tr><td>jwst-44-133</td><td>v</td><td>3940.358</td><td>41.012</td><td>133.555</td><td>3.325</td><td>4.938</td><td>0.267</td><td>74.6676017675449</td><td>44.000</td><td>133.000</td><td>0.0214 .. 0.0578</td></tr>\n",
       "<tr><td>jwst-44-133</td><td>r</td><td>6552.223</td><td>42.412</td><td>135.162</td><td>3.439</td><td>4.886</td><td>0.267</td><td>74.6676017675449</td><td>44.000</td><td>133.000</td><td>0.292 .. 0.00825</td></tr>\n",
       "<tr><td>jwst-44-133</td><td>k</td><td>8696.013</td><td>45.175</td><td>133.334</td><td>3.332</td><td>5.155</td><td>0.267</td><td>74.6676017675449</td><td>44.000</td><td>133.000</td><td>0.0496 .. 0.123</td></tr>\n",
       "<tr><td>jwst-72-47</td><td>b</td><td>156.861</td><td>72.064</td><td>47.517</td><td>3.489</td><td>2.797</td><td>0.123</td><td>14.739937902337719</td><td>72.000</td><td>47.000</td><td>0.000204 .. 0.118</td></tr>\n",
       "<tr><td>jwst-72-47</td><td>v</td><td>447.794</td><td>71.881</td><td>45.327</td><td>3.647</td><td>2.895</td><td>0.123</td><td>14.739937902337719</td><td>72.000</td><td>47.000</td><td>0.000353 .. 0.00847</td></tr>\n",
       "<tr><td>jwst-72-47</td><td>r</td><td>896.576</td><td>70.625</td><td>47.146</td><td>3.713</td><td>2.941</td><td>0.123</td><td>14.739937902337719</td><td>72.000</td><td>47.000</td><td>0.00923 .. 0.00123</td></tr>\n",
       "<tr><td>jwst-72-47</td><td>k</td><td>1508.166</td><td>72.149</td><td>45.170</td><td>3.622</td><td>2.894</td><td>0.123</td><td>14.739937902337719</td><td>72.000</td><td>47.000</td><td>0.00413 .. 0.00513</td></tr>\n",
       "<tr><td>jwst-81-168</td><td>v</td><td>1812.206</td><td>82.773</td><td>168.190</td><td>2.433</td><td>4.038</td><td>0.534</td><td>59.9954174544474</td><td>81.000</td><td>168.000</td><td>3.7e-07 .. 0.000123</td></tr>\n",
       "<tr><td>jwst-81-168</td><td>k</td><td>6436.263</td><td>83.563</td><td>168.236</td><td>2.621</td><td>4.095</td><td>0.534</td><td>59.9954174544474</td><td>81.000</td><td>168.000</td><td>4e-05 .. 5.14e-05</td></tr>\n",
       "<tr><td>jwst-81-168</td><td>r</td><td>3828.025</td><td>80.514</td><td>167.581</td><td>2.480</td><td>4.119</td><td>0.534</td><td>59.9954174544474</td><td>81.000</td><td>168.000</td><td>1.16e-07 .. 0.00235</td></tr>\n",
       "<tr><td>jwst-81-168</td><td>b</td><td>708.464</td><td>81.362</td><td>168.380</td><td>2.335</td><td>4.063</td><td>0.534</td><td>59.9954174544474</td><td>81.000</td><td>168.000</td><td>1.95e-08 .. 0.00095</td></tr>\n",
       "</table>"
      ],
      "text/plain": [
       "<Table length=19>\n",
       "     id     band   flux    x_mean ...    x0      y0      cutout [20,20]  \n",
       "                 electron         ...                                    \n",
       "   str11    str1 float64  float64 ...  int64   int64        float64      \n",
       "----------- ---- -------- ------- ... ------- ------- -------------------\n",
       "jwst-107-15    v 1305.174 106.559 ... 107.000  15.000     0.0361 .. 0.359\n",
       "jwst-107-15    r 2863.761 107.951 ... 107.000  15.000     0.0919 .. 0.116\n",
       "jwst-107-15    b  453.704 108.084 ... 107.000  15.000     0.0646 .. 0.227\n",
       "jwst-107-15    k 3378.575 105.841 ... 107.000  15.000     0.0322 .. 0.467\n",
       " jwst-27-85    v 2215.543  27.097 ...  27.000  85.000      0.153 .. 0.551\n",
       " jwst-27-85    b  945.228  25.854 ...  27.000  85.000      0.0898 .. 1.35\n",
       " jwst-27-85    k 6754.420  26.824 ...  27.000  85.000      0.249 .. 0.282\n",
       " jwst-27-85    u  440.951  28.706 ...  27.000  85.000      0.197 .. 0.553\n",
       "jwst-44-133    v 3940.358  41.012 ...  44.000 133.000    0.0214 .. 0.0578\n",
       "jwst-44-133    r 6552.223  42.412 ...  44.000 133.000    0.292 .. 0.00825\n",
       "jwst-44-133    k 8696.013  45.175 ...  44.000 133.000     0.0496 .. 0.123\n",
       " jwst-72-47    b  156.861  72.064 ...  72.000  47.000   0.000204 .. 0.118\n",
       " jwst-72-47    v  447.794  71.881 ...  72.000  47.000 0.000353 .. 0.00847\n",
       " jwst-72-47    r  896.576  70.625 ...  72.000  47.000  0.00923 .. 0.00123\n",
       " jwst-72-47    k 1508.166  72.149 ...  72.000  47.000  0.00413 .. 0.00513\n",
       "jwst-81-168    v 1812.206  82.773 ...  81.000 168.000 3.7e-07 .. 0.000123\n",
       "jwst-81-168    k 6436.263  83.563 ...  81.000 168.000   4e-05 .. 5.14e-05\n",
       "jwst-81-168    r 3828.025  80.514 ...  81.000 168.000 1.16e-07 .. 0.00235\n",
       "jwst-81-168    b  708.464  81.362 ...  81.000 168.000 1.95e-08 .. 0.00095"
      ]
     },
     "execution_count": 33,
     "metadata": {},
     "output_type": "execute_result"
    }
   ],
   "source": [
    "srcs_grouped = srcs.group_by('id')\n",
    "\n",
    "# srcs_grouped has all the same rows but now ordered by ``id``\n",
    "srcs_grouped"
   ]
  },
  {
   "cell_type": "code",
   "execution_count": 34,
   "metadata": {
    "nbpresent": {
     "id": "eccb5d7c-f84b-4401-898e-6c3fc2934d30"
    }
   },
   "outputs": [
    {
     "name": "stdout",
     "output_type": "stream",
     "text": [
      "     id     band   flux    x_mean ...    x0     y0    cutout [20,20]\n",
      "                 electron         ...                               \n",
      "----------- ---- -------- ------- ... ------- ------ ---------------\n",
      "jwst-107-15    v 1305.174 106.559 ... 107.000 15.000 0.0361 .. 0.359\n",
      "jwst-107-15    r 2863.761 107.951 ... 107.000 15.000 0.0919 .. 0.116\n",
      "jwst-107-15    b  453.704 108.084 ... 107.000 15.000 0.0646 .. 0.227\n",
      "jwst-107-15    k 3378.575 105.841 ... 107.000 15.000 0.0322 .. 0.467\n",
      "    id     band   flux   x_mean ...   x0     y0   cutout [20,20]\n",
      "                electron        ...                             \n",
      "---------- ---- -------- ------ ... ------ ------ --------------\n",
      "jwst-27-85    v 2215.543 27.097 ... 27.000 85.000 0.153 .. 0.551\n",
      "jwst-27-85    b  945.228 25.854 ... 27.000 85.000 0.0898 .. 1.35\n",
      "jwst-27-85    k 6754.420 26.824 ... 27.000 85.000 0.249 .. 0.282\n",
      "jwst-27-85    u  440.951 28.706 ... 27.000 85.000 0.197 .. 0.553\n",
      "     id     band   flux   x_mean ...   x0      y0    cutout [20,20] \n",
      "                 electron        ...                                \n",
      "----------- ---- -------- ------ ... ------ ------- ----------------\n",
      "jwst-44-133    v 3940.358 41.012 ... 44.000 133.000 0.0214 .. 0.0578\n",
      "jwst-44-133    r 6552.223 42.412 ... 44.000 133.000 0.292 .. 0.00825\n",
      "jwst-44-133    k 8696.013 45.175 ... 44.000 133.000  0.0496 .. 0.123\n",
      "    id     band   flux   x_mean ...   x0     y0      cutout [20,20]  \n",
      "                electron        ...                                  \n",
      "---------- ---- -------- ------ ... ------ ------ -------------------\n",
      "jwst-72-47    b  156.861 72.064 ... 72.000 47.000   0.000204 .. 0.118\n",
      "jwst-72-47    v  447.794 71.881 ... 72.000 47.000 0.000353 .. 0.00847\n",
      "jwst-72-47    r  896.576 70.625 ... 72.000 47.000  0.00923 .. 0.00123\n",
      "jwst-72-47    k 1508.166 72.149 ... 72.000 47.000  0.00413 .. 0.00513\n",
      "     id     band   flux   x_mean ...   x0      y0      cutout [20,20]  \n",
      "                 electron        ...                                   \n",
      "----------- ---- -------- ------ ... ------ ------- -------------------\n",
      "jwst-81-168    v 1812.206 82.773 ... 81.000 168.000 3.7e-07 .. 0.000123\n",
      "jwst-81-168    k 6436.263 83.563 ... 81.000 168.000   4e-05 .. 5.14e-05\n",
      "jwst-81-168    r 3828.025 80.514 ... 81.000 168.000 1.16e-07 .. 0.00235\n",
      "jwst-81-168    b  708.464 81.362 ... 81.000 168.000 1.95e-08 .. 0.00095\n"
     ]
    }
   ],
   "source": [
    "for src in srcs_grouped.groups:\n",
    "    print(src)"
   ]
  },
  {
   "cell_type": "code",
   "execution_count": 35,
   "metadata": {
    "nbpresent": {
     "id": "c3b3c5fd-14a2-410e-934c-577f2197355e"
    },
    "scrolled": true
   },
   "outputs": [
    {
     "name": "stderr",
     "output_type": "stream",
     "text": [
      "WARNING: Cannot aggregate column 'band' with type '<U1' [astropy.table.groups]\n",
      "WARNING: Cannot aggregate column 'cutout' with type 'float64' [astropy.table.groups]\n"
     ]
    },
    {
     "data": {
      "text/html": [
       "<i>Table length=5</i>\n",
       "<table id=\"table4637249432\" class=\"table-striped table-bordered table-condensed\">\n",
       "<thead><tr><th>id</th><th>flux</th><th>x_mean</th><th>y_mean</th><th>x_stddev</th><th>y_stddev</th><th>theta</th><th>amplitude</th><th>x0</th><th>y0</th></tr></thead>\n",
       "<thead><tr><th></th><th>electron</th><th></th><th></th><th></th><th></th><th>rad</th><th></th><th></th><th></th></tr></thead>\n",
       "<thead><tr><th>str11</th><th>float64</th><th>float64</th><th>float64</th><th>float64</th><th>float64</th><th>float64</th><th>float64</th><th>float64</th><th>float64</th></tr></thead>\n",
       "<tr><td>jwst-107-15</td><td>2000.304</td><td>107.109</td><td>14.558</td><td>2.641</td><td>4.691</td><td>2.759</td><td>30.7563346178988</td><td>107.000</td><td>15.000</td></tr>\n",
       "<tr><td>jwst-27-85</td><td>2589.036</td><td>27.120</td><td>85.675</td><td>4.039</td><td>4.477</td><td>2.810</td><td>42.838741361618546</td><td>27.000</td><td>85.000</td></tr>\n",
       "<tr><td>jwst-44-133</td><td>6396.198</td><td>42.866</td><td>134.017</td><td>3.365</td><td>4.993</td><td>0.267</td><td>74.6676017675449</td><td>44.000</td><td>133.000</td></tr>\n",
       "<tr><td>jwst-72-47</td><td>752.349</td><td>71.680</td><td>46.290</td><td>3.618</td><td>2.882</td><td>0.123</td><td>14.739937902337719</td><td>72.000</td><td>47.000</td></tr>\n",
       "<tr><td>jwst-81-168</td><td>3196.240</td><td>82.053</td><td>168.097</td><td>2.467</td><td>4.079</td><td>0.534</td><td>59.9954174544474</td><td>81.000</td><td>168.000</td></tr>\n",
       "</table>"
      ],
      "text/plain": [
       "<Table length=5>\n",
       "     id       flux    x_mean  y_mean ...     amplitude         x0      y0  \n",
       "            electron                 ...                                   \n",
       "   str11    float64  float64 float64 ...      float64       float64 float64\n",
       "----------- -------- ------- ------- ... ------------------ ------- -------\n",
       "jwst-107-15 2000.304 107.109  14.558 ...   30.7563346178988 107.000  15.000\n",
       " jwst-27-85 2589.036  27.120  85.675 ... 42.838741361618546  27.000  85.000\n",
       "jwst-44-133 6396.198  42.866 134.017 ...   74.6676017675449  44.000 133.000\n",
       " jwst-72-47  752.349  71.680  46.290 ... 14.739937902337719  72.000  47.000\n",
       "jwst-81-168 3196.240  82.053 168.097 ...   59.9954174544474  81.000 168.000"
      ]
     },
     "execution_count": 35,
     "metadata": {},
     "output_type": "execute_result"
    }
   ],
   "source": [
    "# Now let's make a new table where each row is the mean of all rows in the group\n",
    "mean_srcs = srcs_grouped.groups.aggregate(np.mean)\n",
    "mean_srcs"
   ]
  },
  {
   "cell_type": "code",
   "execution_count": 36,
   "metadata": {
    "nbpresent": {
     "id": "f33d2a7c-7088-4f9a-a3a6-3026e90cb6a0"
    }
   },
   "outputs": [],
   "source": [
    "# We can define custom behavior depending on column type or even name\n",
    "\n",
    "def sources_mean(arr):\n",
    "    if arr.dtype.kind in ('S', 'U'):\n",
    "        out= ', '.join(arr)\n",
    "    elif arr.info.name == 'flux':\n",
    "        # Take the log mean\n",
    "        out = np.exp(np.mean(np.log(arr)))\n",
    "    else:\n",
    "        out = np.mean(arr, axis=0)\n",
    "\n",
    "    return out"
   ]
  },
  {
   "cell_type": "code",
   "execution_count": 37,
   "metadata": {
    "nbpresent": {
     "id": "6dd83292-ad2f-4d69-a496-9bd984824fff"
    }
   },
   "outputs": [
    {
     "data": {
      "text/html": [
       "<i>Table length=5</i>\n",
       "<table id=\"table4634674960\" class=\"table-striped table-bordered table-condensed\">\n",
       "<thead><tr><th>id</th><th>band</th><th>flux</th><th>x_mean</th><th>y_mean</th><th>x_stddev</th><th>y_stddev</th><th>theta</th><th>amplitude</th><th>x0</th><th>y0</th><th>cutout [20,20]</th></tr></thead>\n",
       "<thead><tr><th></th><th></th><th>electron</th><th></th><th></th><th></th><th></th><th>rad</th><th></th><th></th><th></th><th></th></tr></thead>\n",
       "<thead><tr><th>str11</th><th>str10</th><th>float64</th><th>float64</th><th>float64</th><th>float64</th><th>float64</th><th>float64</th><th>float64</th><th>float64</th><th>float64</th><th>float64</th></tr></thead>\n",
       "<tr><td>jwst-107-15</td><td>v, r, b, k</td><td>1547.134</td><td>107.109</td><td>14.558</td><td>2.641</td><td>4.691</td><td>2.759</td><td>30.7563346178988</td><td>107.000</td><td>15.000</td><td>0.0562 .. 0.292</td></tr>\n",
       "<tr><td>jwst-27-85</td><td>v, b, k, u</td><td>1580.334</td><td>27.120</td><td>85.675</td><td>4.039</td><td>4.477</td><td>2.810</td><td>42.838741361618546</td><td>27.000</td><td>85.000</td><td>0.172 .. 0.685</td></tr>\n",
       "<tr><td>jwst-44-133</td><td>v, r, k</td><td>6077.825</td><td>42.866</td><td>134.017</td><td>3.365</td><td>4.993</td><td>0.267</td><td>74.6676017675449</td><td>44.000</td><td>133.000</td><td>0.121 .. 0.063</td></tr>\n",
       "<tr><td>jwst-72-47</td><td>b, v, r, k</td><td>555.146</td><td>71.680</td><td>46.290</td><td>3.618</td><td>2.882</td><td>0.123</td><td>14.739937902337719</td><td>72.000</td><td>47.000</td><td>0.00348 .. 0.0331</td></tr>\n",
       "<tr><td>jwst-81-168</td><td>v, k, r, b</td><td>2371.557</td><td>82.053</td><td>168.097</td><td>2.467</td><td>4.079</td><td>0.534</td><td>59.9954174544474</td><td>81.000</td><td>168.000</td><td>1.01e-05 .. 0.00087</td></tr>\n",
       "</table>"
      ],
      "text/plain": [
       "<Table length=5>\n",
       "     id        band      flux    x_mean ...    x0      y0      cutout [20,20]  \n",
       "                       electron         ...                                    \n",
       "   str11      str10    float64  float64 ... float64 float64       float64      \n",
       "----------- ---------- -------- ------- ... ------- ------- -------------------\n",
       "jwst-107-15 v, r, b, k 1547.134 107.109 ... 107.000  15.000     0.0562 .. 0.292\n",
       " jwst-27-85 v, b, k, u 1580.334  27.120 ...  27.000  85.000      0.172 .. 0.685\n",
       "jwst-44-133    v, r, k 6077.825  42.866 ...  44.000 133.000      0.121 .. 0.063\n",
       " jwst-72-47 b, v, r, k  555.146  71.680 ...  72.000  47.000   0.00348 .. 0.0331\n",
       "jwst-81-168 v, k, r, b 2371.557  82.053 ...  81.000 168.000 1.01e-05 .. 0.00087"
      ]
     },
     "execution_count": 37,
     "metadata": {},
     "output_type": "execute_result"
    }
   ],
   "source": [
    "mean_srcs = srcs_grouped.groups.aggregate(sources_mean)\n",
    "mean_srcs"
   ]
  },
  {
   "cell_type": "code",
   "execution_count": 38,
   "metadata": {
    "nbpresent": {
     "id": "ad224e3e-7125-4d3d-aa82-8ca642683a08"
    }
   },
   "outputs": [
    {
     "data": {
      "text/plain": [
       "<matplotlib.image.AxesImage at 0x1145df588>"
      ]
     },
     "execution_count": 38,
     "metadata": {},
     "output_type": "execute_result"
    },
    {
     "data": {
      "image/png": "[encoded data removed]",
      "text/plain": [
       "<Figure size 432x288 with 1 Axes>"
      ]
     },
     "metadata": {
      "needs_background": "light"
     },
     "output_type": "display_data"
    }
   ],
   "source": [
    "plt.imshow(mean_srcs['cutout'][3], interpolation='nearest')"
   ]
  },
  {
   "cell_type": "markdown",
   "metadata": {
    "nbpresent": {
     "id": "6fede881-f2c1-4dbb-bc5b-7b4083a41319"
    }
   },
   "source": [
    "### Digression: Binning\n",
    "\n",
    "A common tool in analysis is to **bin** a table based on some reference value. Examples:\n",
    "\n",
    "- Photometry of a binary star in several bands taken over a span of time which should be binned by orbital phase.\n",
    "- Reducing the sampling density for a table by combining 100 rows at a time.\n",
    "- Unevenly sampled historical data which should binned to four points per year.\n",
    "\n",
    "The common theme in all these cases is to convert the key value array into a \n",
    "new `float`- or `int`-valued array whose values are identical for rows in the same output bin. As an example, generate a fake light curve:\n"
   ]
  },
  {
   "cell_type": "code",
   "execution_count": 39,
   "metadata": {
    "nbpresent": {
     "id": "75749b2c-6ab7-42a7-ae2c-3815076115a7"
    }
   },
   "outputs": [],
   "source": [
    "year = np.linspace(2000.0, 2010.0, 200)  # 200 observations over 10 years\n",
    "period = 1.811\n",
    "y0 = 2005.2\n",
    "mag = 14.0 + 1.2 * np.sin(2 * np.pi * (year - y0) / period) + np.random.normal(scale=0.1, size=200)\n",
    "phase = ((year - y0) / period) % 1.0\n",
    "dat = Table([year, phase, mag], names=['year', 'phase', 'mag'])"
   ]
  },
  {
   "cell_type": "code",
   "execution_count": 40,
   "metadata": {
    "nbpresent": {
     "id": "2431bbb4-5212-4705-994a-d14d05f02993"
    }
   },
   "outputs": [
    {
     "data": {
      "image/png": "[encoded data removed]",
      "text/plain": [
       "<Figure size 576x144 with 2 Axes>"
      ]
     },
     "metadata": {
      "needs_background": "light"
     },
     "output_type": "display_data"
    }
   ],
   "source": [
    "plt.figure(figsize=(8, 2))\n",
    "plt.subplot(1, 2, 1)\n",
    "plt.plot(dat['year'], dat['mag'], '.')\n",
    "plt.xlabel('year')\n",
    "plt.subplot(1, 2, 2)\n",
    "plt.xlabel('phase')\n",
    "plt.plot(dat['phase'], dat['mag'], '.');"
   ]
  },
  {
   "cell_type": "code",
   "execution_count": 41,
   "metadata": {
    "nbpresent": {
     "id": "b0f69602-a1a2-4491-88f6-58141daed464"
    }
   },
   "outputs": [
    {
     "data": {
      "text/plain": [
       "array([1., 1., 1., 2., 2., 2., 2., 3., 3., 3., 4., 4., 4., 4., 5., 5., 5.,\n",
       "       6., 6., 6., 6., 7., 7., 7., 7., 8., 8., 8., 9., 9., 9., 9., 0., 0.,\n",
       "       0., 0., 1., 1., 1., 2., 2., 2., 2., 3., 3., 3., 4., 4., 4., 4.])"
      ]
     },
     "execution_count": 41,
     "metadata": {},
     "output_type": "execute_result"
    }
   ],
   "source": [
    "phase_bin = np.trunc(phase / 0.1)\n",
    "phase_bin[:50]"
   ]
  },
  {
   "cell_type": "code",
   "execution_count": 42,
   "metadata": {
    "nbpresent": {
     "id": "2f85f058-5271-40f4-befb-4cb102a1d395"
    }
   },
   "outputs": [],
   "source": [
    "dat_grouped = dat.group_by(phase_bin)\n",
    "dat_mean = dat_grouped.groups.aggregate(np.mean)\n",
    "dat_std = dat_grouped.groups.aggregate(np.std)"
   ]
  },
  {
   "cell_type": "code",
   "execution_count": 43,
   "metadata": {
    "nbpresent": {
     "id": "b1509784-99b7-4f8a-a21e-390b7ddf46e0"
    }
   },
   "outputs": [
    {
     "data": {
      "image/png": "[encoded data removed]",
      "text/plain": [
       "<Figure size 288x144 with 1 Axes>"
      ]
     },
     "metadata": {
      "needs_background": "light"
     },
     "output_type": "display_data"
    }
   ],
   "source": [
    "plt.figure(figsize=(4, 2))\n",
    "plt.xlabel('phase')\n",
    "plt.errorbar(x=dat_mean['phase'], xerr=0.05, y=dat_mean['mag'], yerr=dat_std['mag'], fmt='.');"
   ]
  },
  {
   "cell_type": "markdown",
   "metadata": {},
   "source": [
    "### Join tables to make a single wide table by source `id`\n",
    "\n",
    "- Have one row corresponding to each of the 5 sources\n",
    "- Each row has columns with the 5 band u, b, v, r, k properties\n",
    "- De-duplicate column names by labeling as `{colname}_{band}`\n",
    "\n",
    "Because there are non-detections for some bands / sources, the result is a **Masked Table**."
   ]
  },
  {
   "cell_type": "code",
   "execution_count": 44,
   "metadata": {},
   "outputs": [
    {
     "data": {
      "text/html": [
       "<i>Table masked=True length=5</i>\n",
       "<table id=\"table4635991064\" class=\"table-striped table-bordered table-condensed\">\n",
       "<thead><tr><th>id</th><th>band_u</th><th>flux_u</th><th>x_mean_u</th><th>y_mean_u</th><th>x_stddev_u</th><th>y_stddev_u</th><th>theta_u</th><th>amplitude_u</th><th>x0_u</th><th>y0_u</th><th>cutout_u [20,20]</th><th>band_b</th><th>flux_b</th><th>x_mean_b</th><th>y_mean_b</th><th>x_stddev_b</th><th>y_stddev_b</th><th>theta_b</th><th>amplitude_b</th><th>x0_b</th><th>y0_b</th><th>cutout_b [20,20]</th><th>band_v</th><th>flux_v</th><th>x_mean_v</th><th>y_mean_v</th><th>x_stddev_v</th><th>y_stddev_v</th><th>theta_v</th><th>amplitude_v</th><th>x0_v</th><th>y0_v</th><th>cutout_v [20,20]</th><th>band_r</th><th>flux_r</th><th>x_mean_r</th><th>y_mean_r</th><th>x_stddev_r</th><th>y_stddev_r</th><th>theta_r</th><th>amplitude_r</th><th>x0_r</th><th>y0_r</th><th>cutout_r [20,20]</th><th>band</th><th>flux</th><th>x_mean</th><th>y_mean</th><th>x_stddev</th><th>y_stddev</th><th>theta</th><th>amplitude</th><th>x0</th><th>y0</th><th>cutout [20,20]</th></tr></thead>\n",
       "<thead><tr><th></th><th></th><th>electron</th><th></th><th></th><th></th><th></th><th>rad</th><th></th><th></th><th></th><th></th><th></th><th>electron</th><th></th><th></th><th></th><th></th><th>rad</th><th></th><th></th><th></th><th></th><th></th><th>electron</th><th></th><th></th><th></th><th></th><th>rad</th><th></th><th></th><th></th><th></th><th></th><th>electron</th><th></th><th></th><th></th><th></th><th>rad</th><th></th><th></th><th></th><th></th><th></th><th>electron</th><th></th><th></th><th></th><th></th><th>rad</th><th></th><th></th><th></th><th></th></tr></thead>\n",
       "<thead><tr><th>str11</th><th>str1</th><th>float64</th><th>float64</th><th>float64</th><th>float64</th><th>float64</th><th>float64</th><th>float64</th><th>int64</th><th>int64</th><th>float64</th><th>str1</th><th>float64</th><th>float64</th><th>float64</th><th>float64</th><th>float64</th><th>float64</th><th>float64</th><th>int64</th><th>int64</th><th>float64</th><th>str1</th><th>float64</th><th>float64</th><th>float64</th><th>float64</th><th>float64</th><th>float64</th><th>float64</th><th>int64</th><th>int64</th><th>float64</th><th>str1</th><th>float64</th><th>float64</th><th>float64</th><th>float64</th><th>float64</th><th>float64</th><th>float64</th><th>int64</th><th>int64</th><th>float64</th><th>str1</th><th>float64</th><th>float64</th><th>float64</th><th>float64</th><th>float64</th><th>float64</th><th>float64</th><th>int64</th><th>int64</th><th>float64</th></tr></thead>\n",
       "<tr><td>jwst-107-15</td><td>--</td><td>--</td><td>--</td><td>--</td><td>--</td><td>--</td><td>--</td><td>--</td><td>--</td><td>--</td><td>-- .. --</td><td>b</td><td>453.704</td><td>108.084</td><td>13.411</td><td>2.675</td><td>4.730</td><td>2.759</td><td>30.7563346178988</td><td>107.000</td><td>15.000</td><td>0.0645757447268112 .. 0.22717782336758202</td><td>v</td><td>1305.174</td><td>106.559</td><td>14.750</td><td>2.590</td><td>4.589</td><td>2.759</td><td>30.7563346178988</td><td>107.000</td><td>15.000</td><td>0.03610127766564468 .. 0.35899837745483554</td><td>r</td><td>2863.761</td><td>107.951</td><td>14.741</td><td>2.707</td><td>4.663</td><td>2.759</td><td>30.7563346178988</td><td>107.000</td><td>15.000</td><td>0.09187703442821014 .. 0.11646616576922734</td><td>k</td><td>3378.575</td><td>105.841</td><td>15.331</td><td>2.593</td><td>4.780</td><td>2.759</td><td>30.7563346178988</td><td>107.000</td><td>15.000</td><td>0.03215395861348415 .. 0.4669816972386961</td></tr>\n",
       "<tr><td>jwst-27-85</td><td>u</td><td>440.951</td><td>28.706</td><td>84.967</td><td>4.188</td><td>4.451</td><td>2.810</td><td>42.838741361618546</td><td>27</td><td>85</td><td>0.197 .. 0.553</td><td>b</td><td>945.228</td><td>25.854</td><td>86.626</td><td>3.992</td><td>4.398</td><td>2.810</td><td>42.838741361618546</td><td>27.000</td><td>85.000</td><td>0.08983740164810348 .. 1.3548739878802885</td><td>v</td><td>2215.543</td><td>27.097</td><td>85.632</td><td>3.927</td><td>4.498</td><td>2.810</td><td>42.838741361618546</td><td>27.000</td><td>85.000</td><td>0.15251316594298464 .. 0.5512375916662589</td><td>--</td><td>--</td><td>--</td><td>--</td><td>--</td><td>--</td><td>--</td><td>--</td><td>--</td><td>--</td><td>-- .. --</td><td>k</td><td>6754.420</td><td>26.824</td><td>85.473</td><td>4.049</td><td>4.561</td><td>2.810</td><td>42.838741361618546</td><td>27.000</td><td>85.000</td><td>0.2491401565267816 .. 0.28156684052569025</td></tr>\n",
       "<tr><td>jwst-44-133</td><td>--</td><td>--</td><td>--</td><td>--</td><td>--</td><td>--</td><td>--</td><td>--</td><td>--</td><td>--</td><td>-- .. --</td><td>--</td><td>--</td><td>--</td><td>--</td><td>--</td><td>--</td><td>--</td><td>--</td><td>--</td><td>--</td><td>-- .. --</td><td>v</td><td>3940.358</td><td>41.012</td><td>133.555</td><td>3.325</td><td>4.938</td><td>0.267</td><td>74.6676017675449</td><td>44.000</td><td>133.000</td><td>0.021391616459778325 .. 0.05777194433458016</td><td>r</td><td>6552.223</td><td>42.412</td><td>135.162</td><td>3.439</td><td>4.886</td><td>0.267</td><td>74.6676017675449</td><td>44.000</td><td>133.000</td><td>0.29153728604562984 .. 0.008251435904978668</td><td>k</td><td>8696.013</td><td>45.175</td><td>133.334</td><td>3.332</td><td>5.155</td><td>0.267</td><td>74.6676017675449</td><td>44.000</td><td>133.000</td><td>0.049598543460652296 .. 0.12291589165083872</td></tr>\n",
       "<tr><td>jwst-72-47</td><td>--</td><td>--</td><td>--</td><td>--</td><td>--</td><td>--</td><td>--</td><td>--</td><td>--</td><td>--</td><td>-- .. --</td><td>b</td><td>156.861</td><td>72.064</td><td>47.517</td><td>3.489</td><td>2.797</td><td>0.123</td><td>14.739937902337719</td><td>72.000</td><td>47.000</td><td>0.00020368096043959892 .. 0.11765149984933077</td><td>v</td><td>447.794</td><td>71.881</td><td>45.327</td><td>3.647</td><td>2.895</td><td>0.123</td><td>14.739937902337719</td><td>72.000</td><td>47.000</td><td>0.0003525895567093823 .. 0.0084669840635124</td><td>r</td><td>896.576</td><td>70.625</td><td>47.146</td><td>3.713</td><td>2.941</td><td>0.123</td><td>14.739937902337719</td><td>72.000</td><td>47.000</td><td>0.00922529384910719 .. 0.0012304264812425005</td><td>k</td><td>1508.166</td><td>72.149</td><td>45.170</td><td>3.622</td><td>2.894</td><td>0.123</td><td>14.739937902337719</td><td>72.000</td><td>47.000</td><td>0.004130714918421705 .. 0.005130975515479062</td></tr>\n",
       "<tr><td>jwst-81-168</td><td>--</td><td>--</td><td>--</td><td>--</td><td>--</td><td>--</td><td>--</td><td>--</td><td>--</td><td>--</td><td>-- .. --</td><td>b</td><td>708.464</td><td>81.362</td><td>168.380</td><td>2.335</td><td>4.063</td><td>0.534</td><td>59.9954174544474</td><td>81.000</td><td>168.000</td><td>1.953783161959989e-08 .. 0.0009503301876350062</td><td>v</td><td>1812.206</td><td>82.773</td><td>168.190</td><td>2.433</td><td>4.038</td><td>0.534</td><td>59.9954174544474</td><td>81.000</td><td>168.000</td><td>3.6987307840604426e-07 .. 0.00012316977897002232</td><td>r</td><td>3828.025</td><td>80.514</td><td>167.581</td><td>2.480</td><td>4.119</td><td>0.534</td><td>59.9954174544474</td><td>81.000</td><td>168.000</td><td>1.161566926098353e-07 .. 0.0023537956965316263</td><td>k</td><td>6436.263</td><td>83.563</td><td>168.236</td><td>2.621</td><td>4.095</td><td>0.534</td><td>59.9954174544474</td><td>81.000</td><td>168.000</td><td>3.9979805464943574e-05 .. 5.139217368599243e-05</td></tr>\n",
       "</table>"
      ],
      "text/plain": [
       "<Table masked=True length=5>\n",
       "     id     band_u ...    y0                    cutout [20,20]                \n",
       "                   ...                                                        \n",
       "   str11     str1  ...  int64                      float64                    \n",
       "----------- ------ ... ------- -----------------------------------------------\n",
       "jwst-107-15     -- ...  15.000       0.03215395861348415 .. 0.4669816972386961\n",
       " jwst-27-85      u ...  85.000       0.2491401565267816 .. 0.28156684052569025\n",
       "jwst-44-133     -- ... 133.000     0.049598543460652296 .. 0.12291589165083872\n",
       " jwst-72-47     -- ...  47.000    0.004130714918421705 .. 0.005130975515479062\n",
       "jwst-81-168     -- ... 168.000 3.9979805464943574e-05 .. 5.139217368599243e-05"
      ]
     },
     "execution_count": 44,
     "metadata": {},
     "output_type": "execute_result"
    }
   ],
   "source": [
    "sources_id = None\n",
    "for left, right in zip(sources_list[:-1], sources_list[1:]):\n",
    "    sources_id = table.join(left=sources_id or left,\n",
    "                            right=right,\n",
    "                            keys='id',\n",
    "                            join_type='outer',\n",
    "                            table_names=[left['band'][0], right['band'][0]])\n",
    "sources_id"
   ]
  },
  {
   "cell_type": "code",
   "execution_count": 45,
   "metadata": {},
   "outputs": [
    {
     "data": {
      "text/plain": [
       "True"
      ]
     },
     "execution_count": 45,
     "metadata": {},
     "output_type": "execute_result"
    }
   ],
   "source": [
    "# Inspect a masked element\n",
    "\n",
    "sources_id.add_index('id')\n",
    "sources_id.loc['jwst-44-133']['flux_u'] is np.ma.masked"
   ]
  },
  {
   "cell_type": "markdown",
   "metadata": {
    "nbpresent": {
     "id": "4da39228-2386-45a3-9a5a-73176774f28b"
    }
   },
   "source": [
    "## Astropy integration: quantities, units, mixin columns, QTable and all that\n",
    "\n",
    "A major feature of astropy `Table` is integrated support for:\n",
    "\n",
    "- ``Quantity`` columns that have meaningful units\n",
    "- ``Time`` and ``Coordinate`` columns\n",
    "- Other \"mixin columns\"\n",
    "\n",
    "Mixin columns are object types that adhere to the mixin protocol and are\n",
    "stored and manipulated **natively** in the table."
   ]
  },
  {
   "cell_type": "markdown",
   "metadata": {
    "nbpresent": {
     "id": "0fa3c312-747b-447f-8dbe-9182338d58ad"
    }
   },
   "source": [
    "### Example: store a Time object in a table"
   ]
  },
  {
   "cell_type": "code",
   "execution_count": 46,
   "metadata": {
    "nbpresent": {
     "id": "dcab0899-6050-4b51-b218-c48aa335cbee"
    }
   },
   "outputs": [
    {
     "data": {
      "text/html": [
       "<i>Table length=2</i>\n",
       "<table id=\"table4635945448\" class=\"table-striped table-bordered table-condensed\">\n",
       "<thead><tr><th>index</th><th>time</th></tr></thead>\n",
       "<thead><tr><th>int64</th><th>object</th></tr></thead>\n",
       "<tr><td>1</td><td>2001-01-02T12:34:56.000</td></tr>\n",
       "<tr><td>2</td><td>2001-02-03T00:01:02.000</td></tr>\n",
       "</table>"
      ],
      "text/plain": [
       "<Table length=2>\n",
       "index           time         \n",
       "int64          object        \n",
       "----- -----------------------\n",
       "    1 2001-01-02T12:34:56.000\n",
       "    2 2001-02-03T00:01:02.000"
      ]
     },
     "execution_count": 46,
     "metadata": {},
     "output_type": "execute_result"
    }
   ],
   "source": [
    "t = Table()\n",
    "t['index'] = [1, 2]\n",
    "t['time'] = Time(['2001-01-02T12:34:56', '2001-02-03T00:01:02'])\n",
    "t"
   ]
  },
  {
   "cell_type": "code",
   "execution_count": 47,
   "metadata": {
    "nbpresent": {
     "id": "2a8ce3d6-9a10-413d-b442-f71a342312cb"
    }
   },
   "outputs": [
    {
     "data": {
      "text/plain": [
       "<Time object: scale='utc' format='isot' value=['2001-01-02T12:34:56.000' '2001-02-03T00:01:02.000']>"
      ]
     },
     "execution_count": 47,
     "metadata": {},
     "output_type": "execute_result"
    }
   ],
   "source": [
    "# The time column is a bona-fide Time object\n",
    "t['time']"
   ]
  },
  {
   "cell_type": "code",
   "execution_count": 48,
   "metadata": {
    "nbpresent": {
     "id": "bf20c29a-a34b-4e66-8e48-ebd0a2a8dd2d"
    }
   },
   "outputs": [
    {
     "data": {
      "text/plain": [
       "array([51911.52425926, 51943.00071759])"
      ]
     },
     "execution_count": 48,
     "metadata": {},
     "output_type": "execute_result"
    }
   ],
   "source": [
    "# In case you don't believe me\n",
    "t['time'].mjd"
   ]
  },
  {
   "cell_type": "markdown",
   "metadata": {
    "nbpresent": {
     "id": "8dce3059-e0fe-4f6f-b1d2-3106e8d7285c"
    }
   },
   "source": [
    "### Quantity: doesn't Table already support units?\n",
    "\n",
    "We saw in the `sources` table that we can define unit.  Aren't we good to go?  **No**"
   ]
  },
  {
   "cell_type": "code",
   "execution_count": 49,
   "metadata": {
    "nbpresent": {
     "id": "df40f679-3d17-41b7-9832-b30932ac73c8"
    }
   },
   "outputs": [
    {
     "data": {
      "text/plain": [
       "astropy.table.column.Column"
      ]
     },
     "execution_count": 49,
     "metadata": {},
     "output_type": "execute_result"
    }
   ],
   "source": [
    "type(sources['theta'])"
   ]
  },
  {
   "cell_type": "code",
   "execution_count": 50,
   "metadata": {
    "nbpresent": {
     "id": "46442fe3-3ff6-4008-a6c5-884ac0034739"
    }
   },
   "outputs": [
    {
     "data": {
      "text/latex": [
       "$\\mathrm{rad}$"
      ],
      "text/plain": [
       "Unit(\"rad\")"
      ]
     },
     "execution_count": 50,
     "metadata": {},
     "output_type": "execute_result"
    }
   ],
   "source": [
    "sources['theta'].unit"
   ]
  },
  {
   "cell_type": "markdown",
   "metadata": {
    "nbpresent": {
     "id": "37777a69-8759-4e9a-bc49-d47b41d972c7"
    }
   },
   "source": [
    "**Normal table `Column` class is just carrying `unit` as an attribute.**\n",
    "\n",
    "It is no more special than `description` or `format`:"
   ]
  },
  {
   "cell_type": "code",
   "execution_count": 51,
   "metadata": {
    "nbpresent": {
     "id": "22974075-0940-4ad6-9ec1-1afe11ee7e1a"
    },
    "scrolled": true
   },
   "outputs": [
    {
     "data": {
      "text/latex": [
       "$\\mathrm{rad}$"
      ],
      "text/plain": [
       "Unit(\"rad\")"
      ]
     },
     "execution_count": 51,
     "metadata": {},
     "output_type": "execute_result"
    }
   ],
   "source": [
    "t2 = sources['theta'] ** 2\n",
    "t2.unit"
   ]
  },
  {
   "cell_type": "markdown",
   "metadata": {
    "nbpresent": {
     "id": "89a3f266-89ae-4b1c-9072-54a4e4b57d93"
    }
   },
   "source": [
    "### QTable to the rescue\n",
    "\n",
    "Astropy has a `QTable` class for tables that use `Quantity` objects for columns with units.\n",
    "\n",
    "See the [Quantity and QTable](http://docs.astropy.org/en/stable/table/mixin_columns.html#quantity-and-qtable) section for more details."
   ]
  },
  {
   "cell_type": "code",
   "execution_count": 52,
   "metadata": {
    "nbpresent": {
     "id": "6b2c13c5-f982-443f-b750-acbe3ec626aa"
    }
   },
   "outputs": [
    {
     "data": {
      "text/html": [
       "<i>QTable length=5</i>\n",
       "<table id=\"table4638038784\" class=\"table-striped table-bordered table-condensed\">\n",
       "<thead><tr><th>id</th><th>flux</th><th>x_mean</th><th>y_mean</th><th>x_stddev</th><th>y_stddev</th><th>theta</th><th>amplitude</th><th>x0</th><th>y0</th><th>cutout [20,20]</th></tr></thead>\n",
       "<thead><tr><th></th><th>electron</th><th></th><th></th><th></th><th></th><th>rad</th><th></th><th></th><th></th><th></th></tr></thead>\n",
       "<thead><tr><th>str11</th><th>float64</th><th>float64</th><th>float64</th><th>float64</th><th>float64</th><th>float64</th><th>float64</th><th>int64</th><th>int64</th><th>float64</th></tr></thead>\n",
       "<tr><td>jwst-27-85</td><td>4753.198</td><td>26.621</td><td>85.455</td><td>4.011</td><td>4.402</td><td>2.810</td><td>42.838741361618546</td><td>27.000</td><td>85.000</td><td>0.24111778543497306 .. 0.7875752770332544</td></tr>\n",
       "<tr><td>jwst-44-133</td><td>7482.920</td><td>43.527</td><td>133.340</td><td>3.252</td><td>4.905</td><td>0.267</td><td>74.6676017675449</td><td>44.000</td><td>133.000</td><td>0.008010986299847568 .. 0.454957871272218</td></tr>\n",
       "<tr><td>jwst-72-47</td><td>1001.029</td><td>72.201</td><td>46.801</td><td>3.676</td><td>2.940</td><td>0.123</td><td>14.739937902337719</td><td>72.000</td><td>47.000</td><td>0.008252600048426251 .. 0.0011332174824851481</td></tr>\n",
       "<tr><td>jwst-81-168</td><td>3720.993</td><td>81.418</td><td>168.061</td><td>2.421</td><td>4.077</td><td>0.534</td><td>59.9954174544474</td><td>81.000</td><td>168.000</td><td>3.842269149142789e-07 .. 0.023993745529687714</td></tr>\n",
       "<tr><td>jwst-107-15</td><td>2320.803</td><td>106.987</td><td>14.930</td><td>2.594</td><td>4.629</td><td>2.759</td><td>30.7563346178988</td><td>107.000</td><td>15.000</td><td>0.20016888913629313 .. 0.08334167259853724</td></tr>\n",
       "</table>"
      ],
      "text/plain": [
       "<QTable length=5>\n",
       "     id       flux   ...    y0                   cutout [20,20]               \n",
       "            electron ...                                                      \n",
       "   str11    float64  ...  int64                     float64                   \n",
       "----------- -------- ... ------- ---------------------------------------------\n",
       " jwst-27-85 4753.198 ...  85.000     0.24111778543497306 .. 0.7875752770332544\n",
       "jwst-44-133 7482.920 ... 133.000     0.008010986299847568 .. 0.454957871272218\n",
       " jwst-72-47 1001.029 ...  47.000 0.008252600048426251 .. 0.0011332174824851481\n",
       "jwst-81-168 3720.993 ... 168.000 3.842269149142789e-07 .. 0.023993745529687714\n",
       "jwst-107-15 2320.803 ...  15.000    0.20016888913629313 .. 0.08334167259853724"
      ]
     },
     "execution_count": 52,
     "metadata": {},
     "output_type": "execute_result"
    }
   ],
   "source": [
    "# Let's make `flux` and `theta` be real Quantity objects!\n",
    "qsources = QTable(sources)\n",
    "qsources"
   ]
  },
  {
   "cell_type": "markdown",
   "metadata": {
    "nbpresent": {
     "id": "2ca67d27-df29-41d6-95e7-e50909841b75"
    }
   },
   "source": [
    "*The repeated presence of `electron` and `rad` in each Quantity value is a problem that is fixed in 1.3-dev*."
   ]
  },
  {
   "cell_type": "code",
   "execution_count": 53,
   "metadata": {
    "nbpresent": {
     "id": "b56371c9-fc65-488d-bcfd-9860900d9116"
    }
   },
   "outputs": [
    {
     "data": {
      "text/plain": [
       "astropy.units.quantity.Quantity"
      ]
     },
     "execution_count": 53,
     "metadata": {},
     "output_type": "execute_result"
    }
   ],
   "source": [
    "type(qsources['theta'])"
   ]
  },
  {
   "cell_type": "code",
   "execution_count": 54,
   "metadata": {
    "nbpresent": {
     "id": "a551ad97-8da0-49e7-9b74-82c6c56077f6"
    }
   },
   "outputs": [
    {
     "data": {
      "text/latex": [
       "$\\mathrm{rad^{2}}$"
      ],
      "text/plain": [
       "Unit(\"rad2\")"
      ]
     },
     "execution_count": 54,
     "metadata": {},
     "output_type": "execute_result"
    }
   ],
   "source": [
    "qt2 = qsources['theta'] ** 2\n",
    "qt2.unit"
   ]
  },
  {
   "cell_type": "markdown",
   "metadata": {
    "nbpresent": {
     "id": "15e41f96-b13b-4001-beb9-d353a92dbc5c"
    }
   },
   "source": [
    "### Summary of `Table` and `QTable`\n",
    "\n",
    "In short, `Table` and `QTable` are **identical in every way except for handling columns with units**:\n",
    "- `Table` uses `Column` for any columns with units (with informational-only unit attribute)\n",
    "- `QTable` uses `Quantity` for any columns with units (with meaningful unit attribute)\n",
    "\n",
    "Use `QTable` in general if you are fully on-board with using `Quantity` and do not deal with much legacy code.\n",
    "\n",
    "Use `Table` if you are using code that is not `Quantity`-aware, OR if you need full missing data support.  `Quantity` does not support missing (masked) data."
   ]
  },
  {
   "cell_type": "markdown",
   "metadata": {
    "nbpresent": {
     "id": "a03b7659-82e3-4b87-a072-c60cfa58d0c2"
    }
   },
   "source": [
    "### Digression: storing a Pandas Series within Astropy Table"
   ]
  },
  {
   "cell_type": "code",
   "execution_count": 55,
   "metadata": {
    "nbpresent": {
     "id": "b4010a3d-ccb2-4266-b3fb-874a1c4df56f"
    }
   },
   "outputs": [],
   "source": [
    "from astropy.utils.data_info import ParentDtypeInfo\n",
    "import pandas as pd\n",
    "\n",
    "class SeriesMixin(pd.Series):\n",
    "    info = ParentDtypeInfo()"
   ]
  },
  {
   "cell_type": "code",
   "execution_count": 56,
   "metadata": {
    "nbpresent": {
     "id": "be1c29e8-7230-4c9a-90c2-16e187bfeb96"
    },
    "scrolled": true
   },
   "outputs": [],
   "source": [
    "s = SeriesMixin((np.arange(5)-2)**2)\n",
    "pt = Table([s], names=['s'])"
   ]
  },
  {
   "cell_type": "code",
   "execution_count": 57,
   "metadata": {
    "nbpresent": {
     "id": "b568145e-9eb8-4a7a-b707-69298de87da8"
    }
   },
   "outputs": [
    {
     "data": {
      "text/plain": [
       "name = s\n",
       "dtype = int64\n",
       "class = SeriesMixin\n",
       "n_bad = 1\n",
       "length = 5"
      ]
     },
     "execution_count": 57,
     "metadata": {},
     "output_type": "execute_result"
    }
   ],
   "source": [
    "pt['s'].info"
   ]
  },
  {
   "cell_type": "code",
   "execution_count": 58,
   "metadata": {
    "nbpresent": {
     "id": "769f3ac3-424d-42b7-a357-3cd70630973e"
    }
   },
   "outputs": [
    {
     "data": {
      "text/plain": [
       "True"
      ]
     },
     "execution_count": 58,
     "metadata": {},
     "output_type": "execute_result"
    }
   ],
   "source": [
    "isinstance(pt['s'], pd.Series)"
   ]
  },
  {
   "cell_type": "code",
   "execution_count": 59,
   "metadata": {
    "nbpresent": {
     "id": "102ec9ba-389c-4aec-9b37-12ef2481f372"
    },
    "scrolled": true
   },
   "outputs": [
    {
     "data": {
      "image/png": "[encoded data removed]",
      "text/plain": [
       "<Figure size 432x288 with 1 Axes>"
      ]
     },
     "metadata": {
      "needs_background": "light"
     },
     "output_type": "display_data"
    }
   ],
   "source": [
    "pt['s'].plot();"
   ]
  },
  {
   "cell_type": "markdown",
   "metadata": {},
   "source": [
    "## But wait, there's more... for another day\n",
    "\n",
    "- Transform to/from other table-like objects (Pandas DataFrame, numpy structured array, LSST)\n",
    "- Subclass for custom applications (documentation example of params)\n",
    "- Unified interface for I/O (ASCII, FITS, votable)"
   ]
  }
 ],
 "metadata": {
  "anaconda-cloud": {},
  "kernelspec": {
   "display_name": "Python 3",
   "language": "python",
   "name": "python3"
  },
  "language_info": {
   "codemirror_mode": {
    "name": "ipython",
    "version": 3
   },
   "file_extension": ".py",
   "mimetype": "text/x-python",
   "name": "python",
   "nbconvert_exporter": "python",
   "pygments_lexer": "ipython3",
   "version": "3.6.7"
  },
  "nbpresent": {
   "slides": {
    "12fd3ff2-7e7c-4c20-ad63-94b85f9c320f": {
     "id": "12fd3ff2-7e7c-4c20-ad63-94b85f9c320f",
     "prev": "8c32f22e-ca53-436d-8c4d-47995f88366e",
     "regions": {
      "402cb36c-5a3a-4c3b-85c1-ba9089a21f8f": {
       "attrs": {
        "height": 0.4,
        "width": 0.8,
        "x": 0.1,
        "y": 0.5
       },
       "content": {
        "cell": "435c0633-e922-4ce6-8248-6d4c4b978a76",
        "part": "whole"
       },
       "id": "402cb36c-5a3a-4c3b-85c1-ba9089a21f8f"
      },
      "437836ff-b5fa-4b40-b8c3-8ed01ba56208": {
       "attrs": {
        "height": 0.8,
        "width": 0.8,
        "x": 0.1,
        "y": 0.1
       },
       "content": {
        "cell": "e239a41d-288a-4bd8-b52f-c5f39a9ec860",
        "part": "whole"
       },
       "id": "437836ff-b5fa-4b40-b8c3-8ed01ba56208"
      }
     }
    },
    "15f1fd0e-2086-4557-a41d-58c04b77f9cc": {
     "id": "15f1fd0e-2086-4557-a41d-58c04b77f9cc",
     "prev": null,
     "regions": {
      "8e4865bc-9a2c-4965-a400-d979f00cda67": {
       "attrs": {
        "height": 0.8,
        "width": 0.8,
        "x": 0.1,
        "y": 0.1
       },
       "content": {
        "cell": "7c4527ca-47d5-4222-a2d1-e40b226d16ef",
        "part": "whole"
       },
       "id": "8e4865bc-9a2c-4965-a400-d979f00cda67"
      }
     }
    },
    "1bfc7cd5-24f5-46dc-aead-4c5cc4dd0b97": {
     "id": "1bfc7cd5-24f5-46dc-aead-4c5cc4dd0b97",
     "prev": "15f1fd0e-2086-4557-a41d-58c04b77f9cc",
     "regions": {
      "f1f0f5fd-d94d-4024-b548-bc97c261ccf3": {
       "attrs": {
        "height": 0.8,
        "width": 0.8,
        "x": 0.1,
        "y": 0.1
       },
       "content": {
        "cell": "04198394-491c-47d2-a46d-9cb4dd90f9a2",
        "part": "whole"
       },
       "id": "f1f0f5fd-d94d-4024-b548-bc97c261ccf3"
      }
     }
    },
    "3245d4ca-f536-4407-93cd-34766063b205": {
     "id": "3245d4ca-f536-4407-93cd-34766063b205",
     "prev": "845fd08d-6969-49be-be0f-7b79a415ddf6",
     "regions": {
      "fbfc6e16-4fa2-4297-81ca-402f83349896": {
       "attrs": {
        "height": 0.8,
        "width": 0.8,
        "x": 0.1,
        "y": 0.1
       },
       "content": {
        "cell": "dfa4ba7f-cac3-43a9-a213-c62459f51bc5",
        "part": "whole"
       },
       "id": "fbfc6e16-4fa2-4297-81ca-402f83349896"
      }
     }
    },
    "3b820531-04a8-42f9-9f9f-efed13990304": {
     "id": "3b820531-04a8-42f9-9f9f-efed13990304",
     "prev": "c90f0875-039d-44fc-a070-095207b2f7f0",
     "regions": {
      "05b1f8fb-3ff5-47f8-880c-a9e212d10394": {
       "attrs": {
        "height": 0.4,
        "width": 0.8,
        "x": 0.1,
        "y": 0.5
       },
       "content": {
        "cell": "a03b7659-82e3-4b87-a072-c60cfa58d0c2",
        "part": "whole"
       },
       "id": "05b1f8fb-3ff5-47f8-880c-a9e212d10394"
      },
      "05d1173a-dacf-4d55-a1c4-d25a4450a82d": {
       "attrs": {
        "height": 0.4,
        "width": 0.8,
        "x": 0.1,
        "y": 0.5
       },
       "content": {
        "cell": "807044a7-e521-41ae-83f9-9cfd677b2bd7",
        "part": "whole"
       },
       "id": "05d1173a-dacf-4d55-a1c4-d25a4450a82d"
      },
      "0816124c-7434-4861-a3b5-ca91d4cada26": {
       "attrs": {
        "height": 0.4,
        "width": 0.8,
        "x": 0.1,
        "y": 0.5
       },
       "content": {
        "cell": "82cd29e1-8d82-44f5-8f69-c358daf8df76",
        "part": "whole"
       },
       "id": "0816124c-7434-4861-a3b5-ca91d4cada26"
      },
      "0d09ef50-e9f6-463a-bd9b-a80b598cd9c2": {
       "attrs": {
        "height": 0.4,
        "width": 0.8,
        "x": 0.1,
        "y": 0.5
       },
       "content": {
        "cell": "a551ad97-8da0-49e7-9b74-82c6c56077f6",
        "part": "whole"
       },
       "id": "0d09ef50-e9f6-463a-bd9b-a80b598cd9c2"
      },
      "2083880a-4ce1-4b99-a8a8-13b544950267": {
       "attrs": {
        "height": 0.4,
        "width": 0.8,
        "x": 0.1,
        "y": 0.5
       },
       "content": {
        "cell": "37777a69-8759-4e9a-bc49-d47b41d972c7",
        "part": "whole"
       },
       "id": "2083880a-4ce1-4b99-a8a8-13b544950267"
      },
      "21930dbd-346c-4dc2-aadf-726aff9ad1b6": {
       "attrs": {
        "height": 0.4,
        "width": 0.8,
        "x": 0.1,
        "y": 0.5
       },
       "content": {
        "cell": "be1c29e8-7230-4c9a-90c2-16e187bfeb96",
        "part": "whole"
       },
       "id": "21930dbd-346c-4dc2-aadf-726aff9ad1b6"
      },
      "32bef275-7c46-492c-8fde-ac747cf460e9": {
       "attrs": {
        "height": 0.4,
        "width": 0.8,
        "x": 0.1,
        "y": 0.5
       },
       "content": {
        "cell": "8dce3059-e0fe-4f6f-b1d2-3106e8d7285c",
        "part": "whole"
       },
       "id": "32bef275-7c46-492c-8fde-ac747cf460e9"
      },
      "35d36920-6762-4ba6-b469-867a9b04005c": {
       "attrs": {
        "height": 0.4,
        "width": 0.8,
        "x": 0.1,
        "y": 0.5
       },
       "content": {
        "cell": "4da39228-2386-45a3-9a5a-73176774f28b",
        "part": "whole"
       },
       "id": "35d36920-6762-4ba6-b469-867a9b04005c"
      },
      "377f4464-3050-48cf-8b26-30fe99cfc5b1": {
       "attrs": {
        "height": 0.4,
        "width": 0.8,
        "x": 0.1,
        "y": 0.5
       },
       "content": {
        "cell": "0fa3c312-747b-447f-8dbe-9182338d58ad",
        "part": "whole"
       },
       "id": "377f4464-3050-48cf-8b26-30fe99cfc5b1"
      },
      "3a6909c0-b851-41d4-b302-52f4f52727cd": {
       "attrs": {
        "height": 0.4,
        "width": 0.8,
        "x": 0.1,
        "y": 0.5
       },
       "content": {
        "cell": "f33d2a7c-7088-4f9a-a3a6-3026e90cb6a0",
        "part": "whole"
       },
       "id": "3a6909c0-b851-41d4-b302-52f4f52727cd"
      },
      "3af4484a-88ed-4136-a2e2-f577ec4347ef": {
       "attrs": {
        "height": 0.4,
        "width": 0.8,
        "x": 0.1,
        "y": 0.5
       },
       "content": {
        "cell": "2ca67d27-df29-41d6-95e7-e50909841b75",
        "part": "whole"
       },
       "id": "3af4484a-88ed-4136-a2e2-f577ec4347ef"
      },
      "3e19b117-7d5b-4fea-80f6-5638251055dc": {
       "attrs": {
        "height": 0.4,
        "width": 0.8,
        "x": 0.1,
        "y": 0.5
       },
       "content": {
        "cell": "22974075-0940-4ad6-9ec1-1afe11ee7e1a",
        "part": "whole"
       },
       "id": "3e19b117-7d5b-4fea-80f6-5638251055dc"
      },
      "3ef65745-48a4-487f-b286-8fb7695bcfd3": {
       "attrs": {
        "height": 0.4,
        "width": 0.8,
        "x": 0.1,
        "y": 0.5
       },
       "content": {
        "cell": "437376f8-a2dc-412c-b66c-db69d06d35d3",
        "part": "whole"
       },
       "id": "3ef65745-48a4-487f-b286-8fb7695bcfd3"
      },
      "3f7d295a-e169-40fb-bc32-b5dc57707dd5": {
       "attrs": {
        "height": 0.4,
        "width": 0.8,
        "x": 0.1,
        "y": 0.5
       },
       "content": {
        "cell": "13d990e0-643b-488c-b675-948115dfc089",
        "part": "whole"
       },
       "id": "3f7d295a-e169-40fb-bc32-b5dc57707dd5"
      },
      "3f9bf3cc-1614-4e7e-9cde-1c9a6e9134ae": {
       "attrs": {
        "height": 0.4,
        "width": 0.8,
        "x": 0.1,
        "y": 0.5
       },
       "content": {
        "cell": "b4010a3d-ccb2-4266-b3fb-874a1c4df56f",
        "part": "whole"
       },
       "id": "3f9bf3cc-1614-4e7e-9cde-1c9a6e9134ae"
      },
      "422825de-a8a3-4191-b957-6eed2d324bff": {
       "attrs": {
        "height": 0.4,
        "width": 0.8,
        "x": 0.1,
        "y": 0.5
       },
       "content": {
        "cell": "be14a180-2c14-4285-8033-84cd5cf4d918",
        "part": "whole"
       },
       "id": "422825de-a8a3-4191-b957-6eed2d324bff"
      },
      "430f1725-96f9-4d39-ba36-5c7cfcab4313": {
       "attrs": {
        "height": 0.4,
        "width": 0.8,
        "x": 0.1,
        "y": 0.5
       },
       "content": {
        "cell": "548cb8e9-2d36-46bf-a99f-14d474465cd1",
        "part": "whole"
       },
       "id": "430f1725-96f9-4d39-ba36-5c7cfcab4313"
      },
      "48e23027-5a1e-4a3a-9d33-31ff1852bd4b": {
       "attrs": {
        "height": 0.4,
        "width": 0.8,
        "x": 0.1,
        "y": 0.5
       },
       "content": {
        "cell": "46442fe3-3ff6-4008-a6c5-884ac0034739",
        "part": "whole"
       },
       "id": "48e23027-5a1e-4a3a-9d33-31ff1852bd4b"
      },
      "4c640c66-df27-496a-b963-c5b95bba8a59": {
       "attrs": {
        "height": 0.4,
        "width": 0.8,
        "x": 0.1,
        "y": 0.5
       },
       "content": {
        "cell": "b56371c9-fc65-488d-bcfd-9860900d9116",
        "part": "whole"
       },
       "id": "4c640c66-df27-496a-b963-c5b95bba8a59"
      },
      "570fd428-64fd-4173-a479-b0757f964c80": {
       "attrs": {
        "height": 0.4,
        "width": 0.8,
        "x": 0.1,
        "y": 0.5
       },
       "content": {
        "cell": "75749b2c-6ab7-42a7-ae2c-3815076115a7",
        "part": "whole"
       },
       "id": "570fd428-64fd-4173-a479-b0757f964c80"
      },
      "58d8b78a-c974-4736-bf6e-b53dc9568701": {
       "attrs": {
        "height": 0.4,
        "width": 0.8,
        "x": 0.1,
        "y": 0.5
       },
       "content": {
        "cell": "6dd83292-ad2f-4d69-a496-9bd984824fff",
        "part": "whole"
       },
       "id": "58d8b78a-c974-4736-bf6e-b53dc9568701"
      },
      "5a3ff019-3fa0-4858-97dc-42d9cd4aa8b9": {
       "attrs": {
        "height": 0.4,
        "width": 0.8,
        "x": 0.1,
        "y": 0.5
       },
       "content": {
        "cell": "e2827346-e5f4-47fc-a07d-2e995d101e50",
        "part": "whole"
       },
       "id": "5a3ff019-3fa0-4858-97dc-42d9cd4aa8b9"
      },
      "5da4d3ae-877c-4f32-9af9-9bb689c7b2bc": {
       "attrs": {
        "height": 0.4,
        "width": 0.8,
        "x": 0.1,
        "y": 0.5
       },
       "content": {
        "cell": "67a60374-bbad-4e5e-b67a-3fc487e7678d",
        "part": "whole"
       },
       "id": "5da4d3ae-877c-4f32-9af9-9bb689c7b2bc"
      },
      "5f1d6ffe-f66d-4e34-a4a8-a44dc6641831": {
       "attrs": {
        "height": 0.4,
        "width": 0.8,
        "x": 0.1,
        "y": 0.5
       },
       "content": {
        "cell": "11e4722a-041d-4bc0-a760-9ffbfccd049f",
        "part": "whole"
       },
       "id": "5f1d6ffe-f66d-4e34-a4a8-a44dc6641831"
      },
      "63d4ad46-6ced-4ef8-8a2b-26cadacffd6e": {
       "attrs": {
        "height": 0.4,
        "width": 0.8,
        "x": 0.1,
        "y": 0.5
       },
       "content": {
        "cell": "2431bbb4-5212-4705-994a-d14d05f02993",
        "part": "whole"
       },
       "id": "63d4ad46-6ced-4ef8-8a2b-26cadacffd6e"
      },
      "7072e172-5332-40db-85d3-34934fa2caf1": {
       "attrs": {
        "height": 0.4,
        "width": 0.8,
        "x": 0.1,
        "y": 0.5
       },
       "content": {
        "cell": "f42e3d62-29c9-40e7-a26e-f698183458c1",
        "part": "whole"
       },
       "id": "7072e172-5332-40db-85d3-34934fa2caf1"
      },
      "745ef262-7e3f-41d4-93d7-556849be3ed1": {
       "attrs": {
        "height": 0.4,
        "width": 0.8,
        "x": 0.1,
        "y": 0.5
       },
       "content": {
        "cell": "102ec9ba-389c-4aec-9b37-12ef2481f372",
        "part": "whole"
       },
       "id": "745ef262-7e3f-41d4-93d7-556849be3ed1"
      },
      "7c615779-09d1-4361-8a10-b120d19b6294": {
       "attrs": {
        "height": 0.4,
        "width": 0.8,
        "x": 0.1,
        "y": 0.5
       },
       "content": {
        "cell": "eccb5d7c-f84b-4401-898e-6c3fc2934d30",
        "part": "whole"
       },
       "id": "7c615779-09d1-4361-8a10-b120d19b6294"
      },
      "7f149e0f-4734-4bca-adde-ed92095888fe": {
       "attrs": {
        "height": 0.4,
        "width": 0.8,
        "x": 0.1,
        "y": 0.5
       },
       "content": {
        "cell": "101395fe-facb-4c06-855f-883483d44872",
        "part": "whole"
       },
       "id": "7f149e0f-4734-4bca-adde-ed92095888fe"
      },
      "8c7ac466-7bc6-46f6-aefb-48f5e955b9ac": {
       "attrs": {
        "height": 0.4,
        "width": 0.8,
        "x": 0.1,
        "y": 0.5
       },
       "content": {
        "cell": "ae7e9d8c-9ecb-4b21-b410-4c0052629e05",
        "part": "whole"
       },
       "id": "8c7ac466-7bc6-46f6-aefb-48f5e955b9ac"
      },
      "8f2bf76c-dcec-4f4f-838f-be9f3f5b7004": {
       "attrs": {
        "height": 0.4,
        "width": 0.8,
        "x": 0.1,
        "y": 0.5
       },
       "content": {
        "cell": "dcab0899-6050-4b51-b218-c48aa335cbee",
        "part": "whole"
       },
       "id": "8f2bf76c-dcec-4f4f-838f-be9f3f5b7004"
      },
      "94e726ff-403c-46a6-9c0b-b035416f02c8": {
       "attrs": {
        "height": 0.4,
        "width": 0.8,
        "x": 0.1,
        "y": 0.5
       },
       "content": {
        "cell": "ad224e3e-7125-4d3d-aa82-8ca642683a08",
        "part": "whole"
       },
       "id": "94e726ff-403c-46a6-9c0b-b035416f02c8"
      },
      "9cb1381c-0ae1-4725-bd86-1ad75e3f24d9": {
       "attrs": {
        "height": 0.4,
        "width": 0.8,
        "x": 0.1,
        "y": 0.5
       },
       "content": {
        "cell": "2f85f058-5271-40f4-befb-4cb102a1d395",
        "part": "whole"
       },
       "id": "9cb1381c-0ae1-4725-bd86-1ad75e3f24d9"
      },
      "9e3b92c2-7355-45c3-918b-5617fffb07aa": {
       "attrs": {
        "height": 0.4,
        "width": 0.8,
        "x": 0.1,
        "y": 0.5
       },
       "content": {
        "cell": "bf20c29a-a34b-4e66-8e48-ebd0a2a8dd2d",
        "part": "whole"
       },
       "id": "9e3b92c2-7355-45c3-918b-5617fffb07aa"
      },
      "a0858b55-cabe-4822-b9b2-5bc38e75b0e6": {
       "attrs": {
        "height": 0.4,
        "width": 0.8,
        "x": 0.1,
        "y": 0.5
       },
       "content": {
        "cell": "c3b3c5fd-14a2-410e-934c-577f2197355e",
        "part": "whole"
       },
       "id": "a0858b55-cabe-4822-b9b2-5bc38e75b0e6"
      },
      "af78fa69-737d-48a1-a73a-daf5b6062c72": {
       "attrs": {
        "height": 0.4,
        "width": 0.8,
        "x": 0.1,
        "y": 0.5
       },
       "content": {
        "cell": "b777e5f7-4554-4c08-b1fe-3ec2868aa0a8",
        "part": "whole"
       },
       "id": "af78fa69-737d-48a1-a73a-daf5b6062c72"
      },
      "b352ee49-9a98-47c7-982f-809dfeb6bed3": {
       "attrs": {
        "height": 0.4,
        "width": 0.8,
        "x": 0.1,
        "y": 0.5
       },
       "content": {
        "cell": "b1509784-99b7-4f8a-a21e-390b7ddf46e0",
        "part": "whole"
       },
       "id": "b352ee49-9a98-47c7-982f-809dfeb6bed3"
      },
      "b6c9842b-ee8c-4664-924b-2e4262bcfd0e": {
       "attrs": {
        "height": 0.4,
        "width": 0.8,
        "x": 0.1,
        "y": 0.5
       },
       "content": {
        "cell": "df40f679-3d17-41b7-9832-b30932ac73c8",
        "part": "whole"
       },
       "id": "b6c9842b-ee8c-4664-924b-2e4262bcfd0e"
      },
      "bc4ca16a-b2a1-4a8b-817d-3c12a9360676": {
       "attrs": {
        "height": 0.4,
        "width": 0.8,
        "x": 0.1,
        "y": 0.5
       },
       "content": {
        "cell": "2a8ce3d6-9a10-413d-b442-f71a342312cb",
        "part": "whole"
       },
       "id": "bc4ca16a-b2a1-4a8b-817d-3c12a9360676"
      },
      "be586f68-327b-414b-9e13-99b9370d310e": {
       "attrs": {
        "height": 0.4,
        "width": 0.8,
        "x": 0.1,
        "y": 0.5
       },
       "content": {
        "cell": "35a3f940-eafe-49d5-a664-0dae667e6f97",
        "part": "whole"
       },
       "id": "be586f68-327b-414b-9e13-99b9370d310e"
      },
      "c6546d76-50a9-4a82-9618-544fbabf4fb4": {
       "attrs": {
        "height": 0.8,
        "width": 0.8,
        "x": 0.1,
        "y": 0.1
       },
       "content": {
        "cell": "25c037ac-8b58-49d3-a181-6aa17ea35a09",
        "part": "whole"
       },
       "id": "c6546d76-50a9-4a82-9618-544fbabf4fb4"
      },
      "d19cce03-e70c-4275-959f-1c034cc1f8a9": {
       "attrs": {
        "height": 0.4,
        "width": 0.8,
        "x": 0.1,
        "y": 0.5
       },
       "content": {
        "cell": "6b2c13c5-f982-443f-b750-acbe3ec626aa",
        "part": "whole"
       },
       "id": "d19cce03-e70c-4275-959f-1c034cc1f8a9"
      },
      "da380ec2-7b3f-4df4-b412-de0a317f6d56": {
       "attrs": {
        "height": 0.4,
        "width": 0.8,
        "x": 0.1,
        "y": 0.5
       },
       "content": {
        "cell": "15e41f96-b13b-4001-beb9-d353a92dbc5c",
        "part": "whole"
       },
       "id": "da380ec2-7b3f-4df4-b412-de0a317f6d56"
      },
      "da8a11e8-a8c1-4072-90b4-a3e07b8f098c": {
       "attrs": {
        "height": 0.4,
        "width": 0.8,
        "x": 0.1,
        "y": 0.5
       },
       "content": {
        "cell": "b568145e-9eb8-4a7a-b707-69298de87da8",
        "part": "whole"
       },
       "id": "da8a11e8-a8c1-4072-90b4-a3e07b8f098c"
      },
      "dc912d4b-618e-4afb-acdc-2272eb821693": {
       "attrs": {
        "height": 0.4,
        "width": 0.8,
        "x": 0.1,
        "y": 0.5
       },
       "content": {
        "cell": "b0f69602-a1a2-4491-88f6-58141daed464",
        "part": "whole"
       },
       "id": "dc912d4b-618e-4afb-acdc-2272eb821693"
      },
      "dca9032a-7382-45c3-8276-58943d5e5883": {
       "attrs": {
        "height": 0.4,
        "width": 0.8,
        "x": 0.1,
        "y": 0.5
       },
       "content": {
        "cell": "6fede881-f2c1-4dbb-bc5b-7b4083a41319",
        "part": "whole"
       },
       "id": "dca9032a-7382-45c3-8276-58943d5e5883"
      },
      "e5186da3-b74c-4a4f-971b-3a75ca5683e6": {
       "attrs": {
        "height": 0.4,
        "width": 0.8,
        "x": 0.1,
        "y": 0.5
       },
       "content": {
        "cell": "59805859-bfe3-4f0c-91f2-caef265a7a98",
        "part": "whole"
       },
       "id": "e5186da3-b74c-4a4f-971b-3a75ca5683e6"
      },
      "e5322c1e-d440-4123-8334-929d9abfbac6": {
       "attrs": {
        "height": 0.4,
        "width": 0.8,
        "x": 0.1,
        "y": 0.5
       },
       "content": {
        "cell": "89a3f266-89ae-4b1c-9072-54a4e4b57d93",
        "part": "whole"
       },
       "id": "e5322c1e-d440-4123-8334-929d9abfbac6"
      },
      "fb2a711a-e471-4ea0-ad9e-48ef6beb1096": {
       "attrs": {
        "height": 0.4,
        "width": 0.8,
        "x": 0.1,
        "y": 0.5
       },
       "content": {
        "cell": "769f3ac3-424d-42b7-a357-3cd70630973e",
        "part": "whole"
       },
       "id": "fb2a711a-e471-4ea0-ad9e-48ef6beb1096"
      },
      "fd2caaa5-dca5-4e5f-b639-7850bf9493bc": {
       "attrs": {
        "height": 0.4,
        "width": 0.8,
        "x": 0.1,
        "y": 0.5
       },
       "content": {
        "cell": "3c3ba47a-841e-4638-b91e-452cd02f111a",
        "part": "whole"
       },
       "id": "fd2caaa5-dca5-4e5f-b639-7850bf9493bc"
      }
     }
    },
    "51778d7b-4aa2-4e24-ac72-a0968d916334": {
     "id": "51778d7b-4aa2-4e24-ac72-a0968d916334",
     "prev": "d54c183e-82ed-4e21-ad2c-369c83b62457",
     "regions": {
      "511df6db-b1f6-44ab-bd1f-769eabad63bd": {
       "attrs": {
        "height": 0.8,
        "width": 0.8,
        "x": 0.1,
        "y": 0.1
       },
       "content": {
        "cell": "463affe4-5604-4dec-8836-586349219e69",
        "part": "whole"
       },
       "id": "511df6db-b1f6-44ab-bd1f-769eabad63bd"
      },
      "c0b2c40b-22df-4f92-8a41-d532c737031f": {
       "attrs": {
        "height": 0.22409356725146198,
        "width": 0.8,
        "x": 0.09894736842105263,
        "y": 0.6740350877192982
       },
       "content": {
        "cell": "a480a6da-bd37-4d1e-80f0-8dc1aa3cdc6f",
        "part": "whole"
       },
       "id": "c0b2c40b-22df-4f92-8a41-d532c737031f",
       "y": 0.8
      }
     }
    },
    "5565fe68-2610-4972-8819-a9dcab390b97": {
     "id": "5565fe68-2610-4972-8819-a9dcab390b97",
     "prev": "86671071-c20b-4178-a694-719bdb876955",
     "regions": {
      "8514ac4d-fc2a-4ef7-906b-a6aad0deec30": {
       "attrs": {
        "height": 0.8,
        "width": 0.8,
        "x": 0.1,
        "y": 0.1
       },
       "content": {
        "cell": "a0725b93-1258-4d04-ba13-448ea4427dda",
        "part": "whole"
       },
       "id": "8514ac4d-fc2a-4ef7-906b-a6aad0deec30"
      }
     }
    },
    "5a66d71d-cb38-4146-8bb1-c94c79a20b3d": {
     "id": "5a66d71d-cb38-4146-8bb1-c94c79a20b3d",
     "prev": "5565fe68-2610-4972-8819-a9dcab390b97",
     "regions": {
      "5368bfa2-eb60-4e20-adb5-dd65c37bfe83": {
       "attrs": {
        "height": 0.8,
        "width": 0.8,
        "x": 0.1,
        "y": 0.1
       },
       "content": {
        "cell": "aa357512-ca20-45d2-9c54-0add8be17ff7",
        "part": "whole"
       },
       "id": "5368bfa2-eb60-4e20-adb5-dd65c37bfe83"
      }
     }
    },
    "845fd08d-6969-49be-be0f-7b79a415ddf6": {
     "id": "845fd08d-6969-49be-be0f-7b79a415ddf6",
     "layout": "grid",
     "prev": "5a66d71d-cb38-4146-8bb1-c94c79a20b3d",
     "regions": {
      "61355b4f-9b45-489a-9ea9-2357b281dbcd": {
       "attrs": {
        "height": 0.4166666666666667,
        "pad": 0.01,
        "treemap:weight": 1,
        "width": 1,
        "x": 0,
        "y": 0.5833333333333334
       },
       "content": {
        "cell": "4c2878dd-901c-44a7-97d8-83ce2a57cf73",
        "part": "whole"
       },
       "id": "61355b4f-9b45-489a-9ea9-2357b281dbcd"
      },
      "6e6f8079-52b4-4d0b-8425-cad967d982bb": {
       "attrs": {
        "height": 0.4166666666666667,
        "pad": 0.01,
        "treemap:weight": 1,
        "width": 1,
        "x": -0.0005263157894736842,
        "y": 0.16666666666666666
       },
       "content": {
        "cell": "669db2d1-b955-40ed-927e-0a3adef02e87",
        "part": "whole"
       },
       "id": "6e6f8079-52b4-4d0b-8425-cad967d982bb"
      },
      "d948d8ab-4481-4261-801e-6d1594682e88": {
       "attrs": {
        "height": 0.25,
        "pad": 0.01,
        "treemap:weight": 1,
        "width": 1,
        "x": 0,
        "y": 0
       },
       "content": {
        "cell": "b920b873-d1ac-48dc-97a3-35e693973cdc",
        "part": "whole"
       },
       "height": 0.233,
       "id": "d948d8ab-4481-4261-801e-6d1594682e88",
       "y": 0
      }
     }
    },
    "86671071-c20b-4178-a694-719bdb876955": {
     "id": "86671071-c20b-4178-a694-719bdb876955",
     "prev": "f6438d83-4db1-4988-84ae-85e116bd4b12",
     "regions": {
      "77f55b9c-2d6b-4f42-9f6f-5e3817b267bd": {
       "attrs": {
        "height": 0.8,
        "width": 0.8,
        "x": 0.1,
        "y": 0.1
       },
       "content": {
        "cell": "68f0caa6-eed1-442f-a9dc-0307d8935308",
        "part": "whole"
       },
       "id": "77f55b9c-2d6b-4f42-9f6f-5e3817b267bd"
      }
     }
    },
    "8c32f22e-ca53-436d-8c4d-47995f88366e": {
     "id": "8c32f22e-ca53-436d-8c4d-47995f88366e",
     "prev": "c694fcd9-ab5d-477b-8934-e4f9b1d9933e",
     "regions": {
      "b37bf11f-d2d3-4504-9b1a-628f3989b760": {
       "attrs": {
        "height": 0.8,
        "width": 0.8,
        "x": 0.1,
        "y": 0.1
       },
       "content": {
        "cell": "db28461d-d250-4a7a-9204-613b5bea6dc9",
        "part": "whole"
       },
       "id": "b37bf11f-d2d3-4504-9b1a-628f3989b760"
      }
     }
    },
    "c694fcd9-ab5d-477b-8934-e4f9b1d9933e": {
     "id": "c694fcd9-ab5d-477b-8934-e4f9b1d9933e",
     "prev": "fbef2e0a-6863-4375-9ee6-9e09dad496f7",
     "regions": {
      "e7ac7c77-cf75-4d4e-8766-e4bd5c9a783d": {
       "attrs": {
        "height": 0.8,
        "width": 0.8,
        "x": 0.1,
        "y": 0.1
       },
       "content": {
        "cell": "4a6287e7-dfc4-465d-9ae4-7d656abc6402",
        "part": "whole"
       },
       "id": "e7ac7c77-cf75-4d4e-8766-e4bd5c9a783d"
      }
     }
    },
    "c90f0875-039d-44fc-a070-095207b2f7f0": {
     "id": "c90f0875-039d-44fc-a070-095207b2f7f0",
     "prev": "51778d7b-4aa2-4e24-ac72-a0968d916334",
     "regions": {
      "010eb39b-4c26-48bd-9b9a-4a8e8741aebd": {
       "attrs": {
        "height": 0.8,
        "width": 0.8,
        "x": 0.1,
        "y": 0.1
       },
       "content": {
        "cell": "48351ca5-84dd-4281-abd0-aaabb587b001",
        "part": "whole"
       },
       "id": "010eb39b-4c26-48bd-9b9a-4a8e8741aebd"
      }
     }
    },
    "d54c183e-82ed-4e21-ad2c-369c83b62457": {
     "id": "d54c183e-82ed-4e21-ad2c-369c83b62457",
     "prev": "3245d4ca-f536-4407-93cd-34766063b205",
     "regions": {
      "1b7791a9-caf6-41bb-ba92-564c5b16fda4": {
       "attrs": {
        "height": 0.8,
        "width": 0.8,
        "x": 0.1,
        "y": 0.1
       },
       "content": {
        "cell": "8133930c-7eb4-4b7f-99d0-0e303f2583c4",
        "part": "whole"
       },
       "id": "1b7791a9-caf6-41bb-ba92-564c5b16fda4"
      }
     }
    },
    "f6438d83-4db1-4988-84ae-85e116bd4b12": {
     "id": "f6438d83-4db1-4988-84ae-85e116bd4b12",
     "prev": "f7f326c0-2a8a-4a78-8713-4b715f87f9f7",
     "regions": {
      "048ff781-06f9-4e41-bcbc-9ac50f2be9f4": {
       "attrs": {
        "height": 0.8,
        "width": 0.8,
        "x": 0.1,
        "y": 0.1
       },
       "content": {
        "cell": "8a920b74-02b4-4fa7-8018-28b0382ee02c",
        "part": "whole"
       },
       "id": "048ff781-06f9-4e41-bcbc-9ac50f2be9f4"
      },
      "0c5dfea7-1c61-450c-b686-64cd1ffcfbc8": {
       "attrs": {
        "height": 0.4,
        "width": 0.8,
        "x": 0.1,
        "y": 0.5
       },
       "content": {
        "cell": "c0319310-dc3b-4e3c-8378-fd829e9b3fd1",
        "part": "whole"
       },
       "id": "0c5dfea7-1c61-450c-b686-64cd1ffcfbc8"
      },
      "52ba87da-9e3e-4a63-96f1-1f95195e7be1": {
       "attrs": {
        "height": 0.4,
        "width": 0.8,
        "x": 1.7999999999999965,
        "y": 0.5
       },
       "content": {
        "cell": "239899b4-00fa-4529-b559-c7614b5a9473",
        "part": "whole"
       },
       "id": "52ba87da-9e3e-4a63-96f1-1f95195e7be1",
       "x": 0.1,
       "y": 0.3
      }
     }
    },
    "f7f326c0-2a8a-4a78-8713-4b715f87f9f7": {
     "id": "f7f326c0-2a8a-4a78-8713-4b715f87f9f7",
     "prev": "12fd3ff2-7e7c-4c20-ad63-94b85f9c320f",
     "regions": {
      "73dae73d-8fa9-4da9-b546-7eae59d302a0": {
       "attrs": {
        "height": 0.8,
        "width": 0.8,
        "x": 0.1,
        "y": 0.1
       },
       "content": {
        "cell": "8ecb68a2-b932-43c9-a725-dab7103f3223",
        "part": "whole"
       },
       "id": "73dae73d-8fa9-4da9-b546-7eae59d302a0"
      }
     }
    },
    "fbef2e0a-6863-4375-9ee6-9e09dad496f7": {
     "id": "fbef2e0a-6863-4375-9ee6-9e09dad496f7",
     "prev": "1bfc7cd5-24f5-46dc-aead-4c5cc4dd0b97",
     "regions": {
      "9d2c2b9b-42c6-4725-bb6e-df25b425c668": {
       "attrs": {
        "height": 0.8,
        "width": 0.8,
        "x": 0.1,
        "y": 0.1
       },
       "content": {
        "cell": "22865d0f-c79e-4a5c-b195-ad238bd5cef7",
        "part": "whole"
       },
       "id": "9d2c2b9b-42c6-4725-bb6e-df25b425c668"
      }
     }
    }
   },
   "themes": {
    "default": "d72a47ac-f7be-4ea6-bf86-2a411d824967",
    "theme": {}
   }
  }
 },
 "nbformat": 4,
 "nbformat_minor": 1
}
