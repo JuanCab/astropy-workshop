{
 "cells": [
  {
   "cell_type": "markdown",
   "metadata": {},
   "source": [
    "## astropy.wcs\n",
    "Implements the FITS WCS standard and some commonly used distortion conventions.\n",
    "\n",
    "This tutorial will show how to create a WCS object from a FITS file and how to use it to transform coordinates."
   ]
  },
  {
   "cell_type": "code",
   "execution_count": 1,
   "metadata": {},
   "outputs": [],
   "source": [
    "import numpy as np\n",
    "%matplotlib inline\n",
    "from matplotlib import pyplot as plt"
   ]
  },
  {
   "cell_type": "code",
   "execution_count": 2,
   "metadata": {},
   "outputs": [],
   "source": [
    "import os\n",
    "from astropy.io import fits\n",
    "from astropy import wcs"
   ]
  },
  {
   "cell_type": "markdown",
   "metadata": {},
   "source": [
    "Open a file with `astropy.fits` and look at it."
   ]
  },
  {
   "cell_type": "code",
   "execution_count": 3,
   "metadata": {},
   "outputs": [
    {
     "name": "stdout",
     "output_type": "stream",
     "text": [
      "Filename: data/sip.fits\n",
      "No.    Name      Ver    Type      Cards   Dimensions   Format\n",
      "  0  PRIMARY       1 PrimaryHDU      62   ()      \n"
     ]
    }
   ],
   "source": [
    "sip_file_name = os.path.join('data/sip.fits')\n",
    "\n",
    "sip_file = fits.open(sip_file_name)\n",
    "sip_file.info()"
   ]
  },
  {
   "cell_type": "markdown",
   "metadata": {},
   "source": [
    "To create a WCS object pass the header with the WCS kyewords to astropy.wcs.WCS (Primary header in this case)."
   ]
  },
  {
   "cell_type": "code",
   "execution_count": 4,
   "metadata": {},
   "outputs": [
    {
     "name": "stderr",
     "output_type": "stream",
     "text": [
      "WARNING: FITSFixedWarning: The WCS transformation has more axes (2) than the image it is associated with (0) [astropy.wcs.wcs]\n"
     ]
    }
   ],
   "source": [
    "w = wcs.WCS(sip_file[0].header)"
   ]
  },
  {
   "cell_type": "markdown",
   "metadata": {},
   "source": [
    "To perform the transformation from detector to sky, including distortions, pass x and y and an 'origin'. The third argument, 'origin', indicates whether the coordinates are 1-based (like FITS), or 0-based (like python).\n",
    "\n",
    "The inputs can be numbers, numpy arrays or array like objects."
   ]
  },
  {
   "cell_type": "code",
   "execution_count": 5,
   "metadata": {},
   "outputs": [
    {
     "name": "stdout",
     "output_type": "stream",
     "text": [
      "[202.39347618 202.39347618] [47.1772851 47.1772851]\n"
     ]
    }
   ],
   "source": [
    "ra, dec = w.all_pix2world([1, 1], [2, 2], 1)\n",
    "print(ra, dec)"
   ]
  },
  {
   "cell_type": "markdown",
   "metadata": {},
   "source": [
    "Perfom the inverse transformation - from sky to detector coordinates.\n",
    "\n",
    "If analytical inverse is not available (often the case in the presence of distortion), then an iterative inverse is performed."
   ]
  },
  {
   "cell_type": "code",
   "execution_count": 6,
   "metadata": {},
   "outputs": [
    {
     "name": "stdout",
     "output_type": "stream",
     "text": [
      "[array([1.00000005, 1.00000005]), array([2.00000006, 2.00000006])]\n"
     ]
    }
   ],
   "source": [
    "print(w.all_world2pix(ra, dec, 1))"
   ]
  },
  {
   "cell_type": "markdown",
   "metadata": {},
   "source": [
    "In some cases it is useful to omit the distortion and perform the core WCS transforms only:"
   ]
  },
  {
   "cell_type": "code",
   "execution_count": 7,
   "metadata": {},
   "outputs": [
    {
     "name": "stdout",
     "output_type": "stream",
     "text": [
      "[202.39299121 202.39299121] [47.17731548 47.17731548]\n"
     ]
    }
   ],
   "source": [
    "ra, dec = w.wcs_pix2world([1, 1], [2, 2], 1)\n",
    "print(ra, dec)"
   ]
  },
  {
   "cell_type": "code",
   "execution_count": 8,
   "metadata": {},
   "outputs": [
    {
     "data": {
      "text/plain": [
       "[array([1., 1.]), array([2., 2.])]"
      ]
     },
     "execution_count": 8,
     "metadata": {},
     "output_type": "execute_result"
    }
   ],
   "source": [
    "w.wcs_world2pix(ra, dec, 1)"
   ]
  },
  {
   "cell_type": "markdown",
   "metadata": {},
   "source": [
    "The WCS object can be changed and the new WCS can be written out as a new header.\n",
    "\n",
    "By default only the primary WCS keywords are written out to the header. Pass a keyword `relax=True` to write out the SIP distortion."
   ]
  },
  {
   "cell_type": "code",
   "execution_count": 9,
   "metadata": {},
   "outputs": [
    {
     "name": "stdout",
     "output_type": "stream",
     "text": [
      "WCS Keywords\n",
      "\n",
      "Number of WCS axes: 2\n",
      "CTYPE : 'RA---TAN-SIP'  'DEC--TAN-SIP'  \n",
      "CRVAL : 202.482322805  47.17511893  \n",
      "CRPIX : 128.0  128.0  \n",
      "PC1_1 PC1_2  : 0.000249756880272  0.000230177809744  \n",
      "PC2_1 PC2_2  : 0.000230428519265  -0.000249965770577  \n",
      "CDELT : 1.0  1.0  \n",
      "NAXIS : 0  0\n"
     ]
    }
   ],
   "source": [
    "# The original WCS\n",
    "w.printwcs()"
   ]
  },
  {
   "cell_type": "code",
   "execution_count": 10,
   "metadata": {},
   "outputs": [
    {
     "data": {
      "text/plain": [
       "WCSAXES =                    2 / Number of coordinate axes                      \n",
       "CRPIX1  =                200.0 / Pixel coordinate of reference point            \n",
       "CRPIX2  =                200.0 / Pixel coordinate of reference point            \n",
       "PC1_1   =    0.000249756880272 / Coordinate transformation matrix element       \n",
       "PC1_2   =    0.000230177809744 / Coordinate transformation matrix element       \n",
       "PC2_1   =    0.000230428519265 / Coordinate transformation matrix element       \n",
       "PC2_2   =   -0.000249965770577 / Coordinate transformation matrix element       \n",
       "CDELT1  =                  1.0 / [deg] Coordinate increment at reference point  \n",
       "CDELT2  =                  1.0 / [deg] Coordinate increment at reference point  \n",
       "CUNIT1  = 'deg'                / Units of coordinate increment and value        \n",
       "CUNIT2  = 'deg'                / Units of coordinate increment and value        \n",
       "CTYPE1  = 'RA---TAN-SIP'       / TAN (gnomonic) projection + SIP distortions    \n",
       "CTYPE2  = 'DEC--TAN-SIP'       / TAN (gnomonic) projection + SIP distortions    \n",
       "CRVAL1  =        202.482322805 / [deg] Coordinate value at reference point      \n",
       "CRVAL2  =          47.17511893 / [deg] Coordinate value at reference point      \n",
       "LONPOLE =                180.0 / [deg] Native longitude of celestial pole       \n",
       "LATPOLE =          47.17511893 / [deg] Native latitude of celestial pole        \n",
       "CRDER1  =    4.02509762361E-05 / [deg] Random error in coordinate               \n",
       "CRDER2  =    3.42746131953E-05 / [deg] Random error in coordinate               \n",
       "RADESYS = 'ICRS'               / Equatorial coordinate system                   \n",
       "A_ORDER =                    3                                                  \n",
       "A_0_2   =           2.9656E-06                                                  \n",
       "A_0_3   =           3.7746E-09                                                  \n",
       "A_1_1   =           2.1886E-05                                                  \n",
       "A_1_2   =          -1.6847E-07                                                  \n",
       "A_2_0   =          -2.3863E-05                                                  \n",
       "A_2_1   =           -8.561E-09                                                  \n",
       "A_3_0   =          -1.4172E-07                                                  \n",
       "B_ORDER =                    3                                                  \n",
       "B_0_2   =             2.31E-05                                                  \n",
       "B_0_3   =          -1.6168E-07                                                  \n",
       "B_1_1   =          -2.4386E-05                                                  \n",
       "B_1_2   =          -5.7813E-09                                                  \n",
       "B_2_0   =           2.1197E-06                                                  \n",
       "B_2_1   =          -1.6583E-07                                                  \n",
       "B_3_0   =          -2.0249E-08                                                  \n",
       "AP_ORDER=                    3                                                  \n",
       "AP_0_1  =          -6.4275E-07                                                  \n",
       "AP_0_2  =          -2.9425E-06                                                  \n",
       "AP_0_3  =           -3.582E-09                                                  \n",
       "AP_1_0  =          -1.4897E-05                                                  \n",
       "AP_1_1  =           -2.225E-05                                                  \n",
       "AP_1_2  =           1.7195E-07                                                  \n",
       "AP_2_0  =           2.4146E-05                                                  \n",
       "AP_2_1  =            6.709E-09                                                  \n",
       "AP_3_0  =           1.4492E-07                                                  \n",
       "BP_ORDER=                    3                                                  \n",
       "BP_0_1  =          -1.6588E-05                                                  \n",
       "BP_0_2  =          -2.3424E-05                                                  \n",
       "BP_0_3  =            1.651E-07                                                  \n",
       "BP_1_0  =          -2.6783E-06                                                  \n",
       "BP_1_1  =           2.4753E-05                                                  \n",
       "BP_1_2  =           3.8917E-09                                                  \n",
       "BP_2_0  =           -2.151E-06                                                  \n",
       "BP_2_1  =              1.7E-07                                                  \n",
       "BP_3_0  =           2.0482E-08                                                  "
      ]
     },
     "execution_count": 10,
     "metadata": {},
     "output_type": "execute_result"
    }
   ],
   "source": [
    "w.wcs.crpix = [200, 200]\n",
    "\n",
    "# Calling *to_header()* without arguments writes\n",
    "# out the standard WCS keywords.\n",
    "#w.to_header()\n",
    "\n",
    "# Passing *relax=True* writes out the SIP coefficients\n",
    "# and all other distortions.\n",
    "w.to_header(relax=True)"
   ]
  },
  {
   "cell_type": "markdown",
   "metadata": {},
   "source": [
    "### TPV distortion"
   ]
  },
  {
   "cell_type": "markdown",
   "metadata": {},
   "source": [
    "The TPV distortion convention understood by SExtractor and related programs is also understood by `astropy.wcs`."
   ]
  },
  {
   "cell_type": "markdown",
   "metadata": {},
   "source": [
    "A header can be read from a text file and used to create the WCS. Here we use a modified header from the Palomar Transient Factory."
   ]
  },
  {
   "cell_type": "code",
   "execution_count": 11,
   "metadata": {},
   "outputs": [],
   "source": [
    "tpv_header = fits.Header.fromtextfile(os.path.join('data', 'PTF_r_chip01_tpv.txt'))"
   ]
  },
  {
   "cell_type": "code",
   "execution_count": 12,
   "metadata": {},
   "outputs": [],
   "source": [
    "w_tpv = wcs.WCS(tpv_header)"
   ]
  },
  {
   "cell_type": "markdown",
   "metadata": {},
   "source": [
    "The keywords starting with `PV` specify the distortion"
   ]
  },
  {
   "cell_type": "code",
   "execution_count": 13,
   "metadata": {},
   "outputs": [
    {
     "data": {
      "text/plain": [
       "WCSAXES =                    2 / Number of coordinate axes                      \n",
       "CRPIX1  =             931.4572 / Pixel coordinate of reference point            \n",
       "CRPIX2  =             2344.964 / Pixel coordinate of reference point            \n",
       "PC1_1   =  0.00028091397897264 / Coordinate transformation matrix element       \n",
       "PC1_2   =  3.2908700558791E-06 / Coordinate transformation matrix element       \n",
       "PC2_1   =  3.4654449727329E-06 / Coordinate transformation matrix element       \n",
       "PC2_2   = -0.00028106139503453 / Coordinate transformation matrix element       \n",
       "CDELT1  =                  1.0 / [deg] Coordinate increment at reference point  \n",
       "CDELT2  =                  1.0 / [deg] Coordinate increment at reference point  \n",
       "CUNIT1  = 'deg'                / Units of coordinate increment and value        \n",
       "CUNIT2  = 'deg'                / Units of coordinate increment and value        \n",
       "CTYPE1  = 'RA---TPV'           / TAN (gnomonic) projection + distortions        \n",
       "CTYPE2  = 'DEC--TPV'           / TAN (gnomonic) projection + distortions        \n",
       "CRVAL1  =      69.088009585493 / [deg] Coordinate value at reference point      \n",
       "CRVAL2  =      26.339298769081 / [deg] Coordinate value at reference point      \n",
       "LONPOLE =                180.0 / [deg] Native longitude of celestial pole       \n",
       "LATPOLE =      26.339298769081 / [deg] Native latitude of celestial pole        \n",
       "RADESYS = 'ICRS'               / Equatorial coordinate system                   \n",
       "MJD-OBS =      55991.143979097 / [d] MJD of observation matching DATE-OBS       \n",
       "DATE-OBS= '2012-03-05T03:27:19.794' / ISO-8601 observation date matching MJD-OBS\n",
       "PV1_1   = 1.0                  / TPV coefficient: x                             \n",
       "PV1_4   =  0.00036006051566534 / TPV coefficient: xx                            \n",
       "PV1_5   = -0.00040131664832449 / TPV coefficient: xy                            \n",
       "PV1_6   =  0.00034662004852134 / TPV coefficient: yy                            \n",
       "PV1_7   = -0.00014745018284802 / TPV coefficient: xxx                           \n",
       "PV1_8   = -0.00021926084982678 / TPV coefficient: xxy                           \n",
       "PV1_9   =  0.00011157943932879 / TPV coefficient: xyy                           \n",
       "PV1_10  =   0.0002096050561976 / TPV coefficient: yyy                           \n",
       "PV1_12  =    0.013029334734834 / TPV coefficient: xxxx                          \n",
       "PV1_13  =    0.001185818169161 / TPV coefficient: xxxy                          \n",
       "PV1_14  =  -0.0010973550843401 / TPV coefficient: xxyy                          \n",
       "PV1_15  = -0.00087879558342456 / TPV coefficient: xyyy                          \n",
       "PV1_16  = -0.00024535701081518 / TPV coefficient: yyyy                          \n",
       "PV2_1   = 1.0                  / TPV coefficient: y                             \n",
       "PV2_4   = -0.00048375807602479 / TPV coefficient: yy                            \n",
       "PV2_5   =  0.00083076746020414 / TPV coefficient: yx                            \n",
       "PV2_6   = -0.00011734217277615 / TPV coefficient: xx                            \n",
       "PV2_7   = -0.00021039738943117 / TPV coefficient: yyy                           \n",
       "PV2_8   =  0.00066799936335296 / TPV coefficient: yyx                           \n",
       "PV2_9   = -1.6204989573054E-05 / TPV coefficient: yxx                           \n",
       "PV2_10  =  0.00038855769493799 / TPV coefficient: xxx                           \n",
       "PV2_12  = -0.00033968516799027 / TPV coefficient: yyyy                          \n",
       "PV2_13  =  -0.0011590178164412 / TPV coefficient: yyyx                          \n",
       "PV2_14  = -0.00064997517213824 / TPV coefficient: yyxx                          \n",
       "PV2_15  =   0.0014797844303766 / TPV coefficient: yxxx                          \n",
       "PV2_16  =  0.00088350899382967 / TPV coefficient: xxxx                          "
      ]
     },
     "execution_count": 13,
     "metadata": {},
     "output_type": "execute_result"
    }
   ],
   "source": [
    "w_tpv.to_header()"
   ]
  },
  {
   "cell_type": "markdown",
   "metadata": {},
   "source": [
    "In the TPV case, `all_pix2world` gives the same result as `wcs_pix2world`.\n",
    "\n",
    "This is because the underlying WCSLIB library is handling the distortion."
   ]
  },
  {
   "cell_type": "code",
   "execution_count": 14,
   "metadata": {},
   "outputs": [
    {
     "name": "stdout",
     "output_type": "stream",
     "text": [
      "[[68.94746342 26.71561128]]\n"
     ]
    }
   ],
   "source": [
    "print(w_tpv.all_pix2world([[500,1000]], 1))"
   ]
  },
  {
   "cell_type": "code",
   "execution_count": 15,
   "metadata": {},
   "outputs": [
    {
     "name": "stdout",
     "output_type": "stream",
     "text": [
      "[[68.94746342 26.71561128]]\n"
     ]
    }
   ],
   "source": [
    "print(w_tpv.wcs_pix2world([[500,1000]], 1))"
   ]
  },
  {
   "cell_type": "markdown",
   "metadata": {},
   "source": [
    "### Exercise 1:\n",
    "\n",
    "- Create a WCS object from the file. \n",
    "\n",
    "`dist_file_name = 'data/dist_lookup.fits.gz'`\n",
    "\n",
    "This file contains all distortions typical for HST imaging data - SIP, lookup_table and det2im (detector to image - correcting detector irregularities). The lookup table and det2im distortions are stored in separate extensions so you will need to pass as a second argument to `wcs.WCS` the file object (already opened with astropy.io.fits).\n",
    "\n",
    "- Look at the file object with the `info()` method. The lookup_table and det2im distortions are saved in separate extensions.\n",
    "\n",
    "- Modify one of the WCS keywords and save it to file. (As some of the distortion is saved in extensions, use the method `to_fits()` to save the entire WCS."
   ]
  },
  {
   "cell_type": "markdown",
   "metadata": {},
   "source": [
    "### Exercise 2:\n",
    "\n",
    "The FITS WCS standard supports alternate WCSs in the same eader.\n",
    "These are defined by the same keywords with a character (A...Z) appended\n",
    "to them. For example, *CRPIXA1*, etc.\n",
    "\n",
    "Using the same file create a WCS object for the alternate WCS in this header, by passing also `key='O'` to wcs.WCS().\n",
    "Compare the two WCSs using the `printwcs()` method`"
   ]
  },
  {
   "cell_type": "code",
   "execution_count": 22,
   "metadata": {},
   "outputs": [
    {
     "name": "stdout",
     "output_type": "stream",
     "text": [
      "Filename: data/dist_lookup.fits.gz\n",
      "No.    Name      Ver    Type      Cards   Dimensions   Format\n",
      "  0  PRIMARY       1 PrimaryHDU       4   ()      \n",
      "  1  SCI           1 ImageHDU       170   (100, 100)   float32   \n",
      "  2  D2IMARR       1 ImageHDU        15   (4096, 1)   float32   \n",
      "  3  WCSDVARR      1 ImageHDU        15   (65, 33)   float32   \n",
      "  4  WCSDVARR      2 ImageHDU        15   (65, 33)   float32   \n",
      "WCS Keywords\n",
      "\n",
      "Number of WCS axes: 2\n",
      "CTYPE : 'RA---TAN-SIP'  'DEC--TAN-SIP'  \n",
      "CRVAL : 5.63056810618  -72.05457184278998  \n",
      "CRPIX : 2048.0  1024.0  \n",
      "CD1_1 CD1_2  : 1.29055156973602e-05  5.9525007864732e-06  \n",
      "CD2_1 CD2_2  : 5.02263821027651e-06  -1.2644844123757e-05  \n",
      "NAXIS : 100  100\n",
      "Filename: (No file associated with this HDUList)\n",
      "No.    Name      Ver    Type      Cards   Dimensions   Format\n",
      "  0  PRIMARY       1 PrimaryHDU      65   ()      \n",
      "  1  D2IMARR       1 ImageHDU        15   (4096, 1)   float32   \n",
      "  2  WCSDVARR      1 ImageHDU        15   (65, 33)   float32   \n",
      "  3  WCSDVARR      2 ImageHDU        15   (65, 33)   float32   \n"
     ]
    },
    {
     "data": {
      "text/plain": [
       "CRPIX1  =                200.0 / Pixel coordinate of reference point            \n",
       "CRPIX2  =                200.0 / Pixel coordinate of reference point            "
      ]
     },
     "execution_count": 22,
     "metadata": {},
     "output_type": "execute_result"
    }
   ],
   "source": [
    "# Open FITS files to play with\n",
    "dist_file_name = 'data/dist_lookup.fits.gz'\n",
    "f = fits.open(dist_file_name)\n",
    "\n",
    "# Print extensions since \"The lookup_table \n",
    "# and det2im distortions are saved in separate \n",
    "# extensions.\"\n",
    "f.info()\n",
    "\n",
    "# Read the WCS information in header\n",
    "# Note the second argument to WCS is the file object handle, which the WCS docs note\n",
    "# \"is needed when header keywords point to a distortion paper lookup table stored \n",
    "# in a different extension.\" (also noted above)\n",
    "w_test = wcs.WCS(f[1].header, f)\n",
    "# Print current header\n",
    "w_test.printwcs()\n",
    "\n",
    "# Modify header value for reference pixel\n",
    "w_test.wcs.crpix = [200, 200]  # Just trying to change the header value\n",
    "\n",
    "# Apparently this will not work because the WCS information is in several extensions\n",
    "#hdr_test = w_test.to_header(relax=True)\n",
    "# new_f.printwcs()\n",
    "\n",
    "# Create new FITS file in memory\n",
    "new_f = w_test.to_fits(relax=True)\n",
    "new_f.info()\n",
    "new_f[0].header['CRPIX*']"
   ]
  },
  {
   "cell_type": "code",
   "execution_count": 21,
   "metadata": {},
   "outputs": [
    {
     "ename": "KeyError",
     "evalue": "\"No WCS with key 'O' was found in the given header\"",
     "output_type": "error",
     "traceback": [
      "\u001b[0;31m---------------------------------------------------------------------------\u001b[0m",
      "\u001b[0;31mKeyError\u001b[0m                                  Traceback (most recent call last)",
      "\u001b[0;32m<ipython-input-21-56d4bb04de99>\u001b[0m in \u001b[0;36m<module>\u001b[0;34m\u001b[0m\n\u001b[1;32m      1\u001b[0m \u001b[0;31m# Read the WCS information in header (from the open FITS file)\u001b[0m\u001b[0;34m\u001b[0m\u001b[0;34m\u001b[0m\u001b[0;34m\u001b[0m\u001b[0m\n\u001b[1;32m      2\u001b[0m \u001b[0mw_test\u001b[0m \u001b[0;34m=\u001b[0m \u001b[0mwcs\u001b[0m\u001b[0;34m.\u001b[0m\u001b[0mWCS\u001b[0m\u001b[0;34m(\u001b[0m\u001b[0mf\u001b[0m\u001b[0;34m[\u001b[0m\u001b[0;36m1\u001b[0m\u001b[0;34m]\u001b[0m\u001b[0;34m.\u001b[0m\u001b[0mheader\u001b[0m\u001b[0;34m,\u001b[0m \u001b[0mf\u001b[0m\u001b[0;34m)\u001b[0m\u001b[0;34m\u001b[0m\u001b[0;34m\u001b[0m\u001b[0m\n\u001b[0;32m----> 3\u001b[0;31m \u001b[0mw_testO\u001b[0m \u001b[0;34m=\u001b[0m \u001b[0mwcs\u001b[0m\u001b[0;34m.\u001b[0m\u001b[0mWCS\u001b[0m\u001b[0;34m(\u001b[0m\u001b[0mnew_f\u001b[0m\u001b[0;34m[\u001b[0m\u001b[0;36m1\u001b[0m\u001b[0;34m]\u001b[0m\u001b[0;34m.\u001b[0m\u001b[0mheader\u001b[0m\u001b[0;34m,\u001b[0m \u001b[0mf\u001b[0m\u001b[0;34m,\u001b[0m \u001b[0mkey\u001b[0m\u001b[0;34m=\u001b[0m\u001b[0;34m'O'\u001b[0m\u001b[0;34m)\u001b[0m\u001b[0;34m\u001b[0m\u001b[0;34m\u001b[0m\u001b[0m\n\u001b[0m\u001b[1;32m      4\u001b[0m \u001b[0;34m\u001b[0m\u001b[0m\n\u001b[1;32m      5\u001b[0m \u001b[0;31m# Print the two headers\u001b[0m\u001b[0;34m\u001b[0m\u001b[0;34m\u001b[0m\u001b[0;34m\u001b[0m\u001b[0m\n",
      "\u001b[0;32m~/anaconda3/envs/astropy-workshop/lib/python3.6/site-packages/astropy/wcs/wcs.py\u001b[0m in \u001b[0;36m__init__\u001b[0;34m(self, header, fobj, key, minerr, relax, naxis, keysel, colsel, fix, translate_units, _do_set)\u001b[0m\n\u001b[1;32m    434\u001b[0m                 tmp_wcsprm = _wcs.Wcsprm(header=tmp_header_bytes, key=key,\n\u001b[1;32m    435\u001b[0m                                          \u001b[0mrelax\u001b[0m\u001b[0;34m=\u001b[0m\u001b[0mrelax\u001b[0m\u001b[0;34m,\u001b[0m \u001b[0mkeysel\u001b[0m\u001b[0;34m=\u001b[0m\u001b[0mkeysel_flags\u001b[0m\u001b[0;34m,\u001b[0m\u001b[0;34m\u001b[0m\u001b[0;34m\u001b[0m\u001b[0m\n\u001b[0;32m--> 436\u001b[0;31m                                          colsel=colsel, warnings=False)\n\u001b[0m\u001b[1;32m    437\u001b[0m             \u001b[0;32mexcept\u001b[0m \u001b[0m_wcs\u001b[0m\u001b[0;34m.\u001b[0m\u001b[0mNoWcsKeywordsFoundError\u001b[0m\u001b[0;34m:\u001b[0m\u001b[0;34m\u001b[0m\u001b[0;34m\u001b[0m\u001b[0m\n\u001b[1;32m    438\u001b[0m                 \u001b[0mest_naxis\u001b[0m \u001b[0;34m=\u001b[0m \u001b[0;36m0\u001b[0m\u001b[0;34m\u001b[0m\u001b[0;34m\u001b[0m\u001b[0m\n",
      "\u001b[0;31mKeyError\u001b[0m: \"No WCS with key 'O' was found in the given header\""
     ]
    }
   ],
   "source": [
    "# Read the WCS information in header (from the open FITS file)\n",
    "w_test = wcs.WCS(f[1].header, f)\n",
    "w_testO = wcs.WCS(f[1].header, f, key='O')\n",
    "\n",
    "# Print the two headers\n",
    "w_test.printwcs()\n",
    "w_testO.printwcs()"
   ]
  },
  {
   "cell_type": "code",
   "execution_count": null,
   "metadata": {},
   "outputs": [],
   "source": []
  }
 ],
 "metadata": {
  "anaconda-cloud": {},
  "kernelspec": {
   "display_name": "Python 3",
   "language": "python",
   "name": "python3"
  },
  "language_info": {
   "codemirror_mode": {
    "name": "ipython",
    "version": 3
   },
   "file_extension": ".py",
   "mimetype": "text/x-python",
   "name": "python",
   "nbconvert_exporter": "python",
   "pygments_lexer": "ipython3",
   "version": "3.6.7"
  }
 },
 "nbformat": 4,
 "nbformat_minor": 1
}
