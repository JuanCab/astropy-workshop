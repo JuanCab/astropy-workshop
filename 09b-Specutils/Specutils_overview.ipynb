{
 "cells": [
  {
   "cell_type": "markdown",
   "metadata": {},
   "source": [
    "# ![Specutils: An Astropy Package for Spectroscopy](data/specutils_logo.png)\n",
    "\n",
    "\n",
    "This notebook provides an overview of the Specutils Astropy coordinated package.  While this notebook is intended as an interactive introduction to specutils at the time of its writing, the canonical source of information for the package is the latest version's documentation: \n",
    "\n",
    "https://specutils.readthedocs.io"
   ]
  },
  {
   "cell_type": "markdown",
   "metadata": {},
   "source": [
    "# Installation\n",
    "\n",
    "If it is not already installed, installing `specutils` should be as straightforward as either:\n",
    "```\n",
    "$ conda install -c conda-forge specutils\n",
    "```\n",
    "\n",
    "or\n",
    "\n",
    "```\n",
    "$ pip install specutils\n",
    "```\n",
    "\n",
    "although for futher information see [the installation section of the docs](https://specutils.readthedocs.io/en/latest/installation.html)."
   ]
  },
  {
   "cell_type": "markdown",
   "metadata": {},
   "source": [
    "Once these are installed, fundamental imports necessary for this notebook are possible:"
   ]
  },
  {
   "cell_type": "code",
   "execution_count": 1,
   "metadata": {},
   "outputs": [
    {
     "data": {
      "text/plain": [
       "'0.5.1'"
      ]
     },
     "execution_count": 1,
     "metadata": {},
     "output_type": "execute_result"
    }
   ],
   "source": [
    "import numpy as np\n",
    "\n",
    "import astropy.units as u\n",
    "\n",
    "import specutils\n",
    "from specutils import Spectrum1D\n",
    "specutils.__version__"
   ]
  },
  {
   "cell_type": "code",
   "execution_count": 2,
   "metadata": {},
   "outputs": [],
   "source": [
    "# for plotting:\n",
    "%matplotlib inline\n",
    "import matplotlib.pyplot as plt\n",
    "\n",
    "\n",
    "# for showing quantity units on axes automatically:\n",
    "from astropy.visualization import quantity_support\n",
    "quantity_support();"
   ]
  },
  {
   "cell_type": "markdown",
   "metadata": {},
   "source": [
    "# Background/Spectroscopic ecosystem\n",
    "\n",
    "The large-scale plan for spectroscopy support in the Astropy project is outlined in  the [Astropy Proposal For Enhancement 13](https://github.com/astropy/astropy-APEs/blob/master/APE13.rst).  In summary, this APE13 lays out three broad packages:\n",
    "\n",
    "* `specutils` - a Python package containing the basic data structures for representing spectroscopic data sets, as well as a suite of fundamental spectroscopic analysis tools to work with these data structures.\n",
    "* `specreduce` - a general Python package to reduce raw astronomical spectral images to 1d spectra (represented as `specutils` objects).\n",
    "* `specviz` - a Python package (or possibly suite of packages) for visualization of astronomical spectra.\n",
    "\n",
    "\n",
    "While all are still in development, the first of these is furthest along, and is the subject of this notebook, as it contains the core data structures and concepts required for the others."
   ]
  },
  {
   "cell_type": "markdown",
   "metadata": {},
   "source": [
    "# Fundamentals of specutils"
   ]
  },
  {
   "cell_type": "markdown",
   "metadata": {},
   "source": [
    "## Objects for representing spectra\n",
    "\n",
    "The most fundamental purpose of `specutils` is to contain the shared Python-level data structures for storing astronomical spectra.  It is important to recognize that this is not the same as the *on-disk* representation.  As desecribed later specutils provides loaders and writers for various on-disk representations, with the intent that they all load to a common set of in-memory/Python interfaces.  Those intefaces (implemented as Python classes) are described in detail in the [relevant section of the documentation](https://specutils.readthedocs.io/en/latest/types_of_spectra.html), which contains this diagram:\n",
    "\n",
    "![Specutils Classes](data/specutils_classes_diagrams.png)\n",
    "\n",
    "The core principal is that all of these representations contain a `spectral_axis` attribute as well as a `flux` attribute (as well as optional matching `uncertainty`).  The former is often wavelength for OIR spectra, but might be frequency or energy for e.g. Radio or X-ray spectra.  Regardless of which spectral axis is used, the class attempts to interpret it appropriately, using the features of `astropy.Quantity` to distinguish different types of axes.  Similarly, `flux` may or may not be a traditional astronomical `flux` unit (e.g. Jy or  erg sec$^{-1}$ cm$^{-2}$ angstrom$^{-1}$), but is treated as the portion of the spectrum that acts in that manner.  The various classes are then distinguished by whether these attributes are one-dimensional or not, and how to map the `spectral_axis` dimensionality onto the `flux`.  The simplest case (and the one primarily considered here) is the scalar `Spectrum1D` case, which is a single spectrum with a matched-size `flux` and `spectral_axis`."
   ]
  },
  {
   "cell_type": "markdown",
   "metadata": {},
   "source": [
    "## Basics of creating Spectrum1D Objects"
   ]
  },
  {
   "cell_type": "markdown",
   "metadata": {},
   "source": [
    "While often a spectrum will be loaded from a file (see below), if the format is not compatible, or particular customization is required, spectra can be greated directly from arrays and astropy quantities.  E.g.:"
   ]
  },
  {
   "cell_type": "code",
   "execution_count": 3,
   "metadata": {},
   "outputs": [
    {
     "data": {
      "text/plain": [
       "<Spectrum1D(flux=<Quantity [1.98842421, 2.53671295, 1.87050023, 2.03472155, 1.85802086,\n",
       "           2.18649814, 1.75859482, 2.49251955, 1.8649036 , 1.69891109,\n",
       "           2.06001827, 2.41358657, 1.9898672 , 2.16581682, 2.0961816 ,\n",
       "           2.04435195, 2.34244129, 1.78010005, 1.94328673, 2.00215754,\n",
       "           2.23726335, 2.00957761, 1.89605058, 1.72208922, 1.68202536,\n",
       "           2.23091555, 2.14440689, 1.96763337, 2.05631947, 2.02081921,\n",
       "           2.10233039, 1.77614849, 2.2205206 , 2.07296815, 2.00997632,\n",
       "           2.34659703, 2.17120427, 2.06512796, 1.9459567 , 1.8896631 ,\n",
       "           2.05481387, 2.07486046, 1.8090483 , 1.92777493, 1.97077933,\n",
       "           2.4633664 , 2.33482568, 2.16533922, 2.42346757, 2.0134885 ,\n",
       "           1.92278507, 2.17241829, 2.23054718, 2.27250085, 2.04267149,\n",
       "           2.17721838, 1.67574442, 2.00403915, 1.71913301, 2.13607716,\n",
       "           1.66149314, 2.21163904, 2.30487598, 1.94533512, 1.97123262,\n",
       "           2.0077287 , 1.4989347 , 1.91507711, 2.23099335, 1.87189645,\n",
       "           2.12748057, 1.71523229, 2.07872181, 1.67352468, 1.80817464,\n",
       "           1.82114385, 1.91068024, 1.99364393, 1.91850973, 2.03476378,\n",
       "           1.79052781, 1.85733972, 2.05309438, 2.29984965, 2.01927101,\n",
       "           1.83484562, 2.04430038, 1.92073743, 2.07223702, 2.01670739,\n",
       "           2.37725291, 1.65140434, 2.08885427, 2.08068595, 1.9030425 ,\n",
       "           1.8673999 , 2.16805736, 2.18770341, 2.08172151, 1.76538254] erg / (Angstrom cm2 s)>, spectral_axis=<Quantity [3000.        , 3050.50505051, 3101.01010101, 3151.51515152,\n",
       "           3202.02020202, 3252.52525253, 3303.03030303, 3353.53535354,\n",
       "           3404.04040404, 3454.54545455, 3505.05050505, 3555.55555556,\n",
       "           3606.06060606, 3656.56565657, 3707.07070707, 3757.57575758,\n",
       "           3808.08080808, 3858.58585859, 3909.09090909, 3959.5959596 ,\n",
       "           4010.1010101 , 4060.60606061, 4111.11111111, 4161.61616162,\n",
       "           4212.12121212, 4262.62626263, 4313.13131313, 4363.63636364,\n",
       "           4414.14141414, 4464.64646465, 4515.15151515, 4565.65656566,\n",
       "           4616.16161616, 4666.66666667, 4717.17171717, 4767.67676768,\n",
       "           4818.18181818, 4868.68686869, 4919.19191919, 4969.6969697 ,\n",
       "           5020.2020202 , 5070.70707071, 5121.21212121, 5171.71717172,\n",
       "           5222.22222222, 5272.72727273, 5323.23232323, 5373.73737374,\n",
       "           5424.24242424, 5474.74747475, 5525.25252525, 5575.75757576,\n",
       "           5626.26262626, 5676.76767677, 5727.27272727, 5777.77777778,\n",
       "           5828.28282828, 5878.78787879, 5929.29292929, 5979.7979798 ,\n",
       "           6030.3030303 , 6080.80808081, 6131.31313131, 6181.81818182,\n",
       "           6232.32323232, 6282.82828283, 6333.33333333, 6383.83838384,\n",
       "           6434.34343434, 6484.84848485, 6535.35353535, 6585.85858586,\n",
       "           6636.36363636, 6686.86868687, 6737.37373737, 6787.87878788,\n",
       "           6838.38383838, 6888.88888889, 6939.39393939, 6989.8989899 ,\n",
       "           7040.4040404 , 7090.90909091, 7141.41414141, 7191.91919192,\n",
       "           7242.42424242, 7292.92929293, 7343.43434343, 7393.93939394,\n",
       "           7444.44444444, 7494.94949495, 7545.45454545, 7595.95959596,\n",
       "           7646.46464646, 7696.96969697, 7747.47474747, 7797.97979798,\n",
       "           7848.48484848, 7898.98989899, 7949.49494949, 8000.        ] Angstrom>)>"
      ]
     },
     "execution_count": 3,
     "metadata": {},
     "output_type": "execute_result"
    },
    {
     "data": {
      "image/png": "[encoded data removed]",
      "text/plain": [
       "<Figure size 432x288 with 1 Axes>"
      ]
     },
     "metadata": {
      "needs_background": "light"
     },
     "output_type": "display_data"
    }
   ],
   "source": [
    "flux = (np.random.randn(100)*0.2 + 2) * u.erg / u.s / (u.cm**2) / u.AA \n",
    "wavelength = np.linspace(3000, 8000, 100)*u.AA\n",
    "spec1d = Spectrum1D(spectral_axis=wavelength, flux=flux)\n",
    "\n",
    "plt.step(spec1d.spectral_axis, spec1d.flux)\n",
    "\n",
    "spec1d"
   ]
  },
  {
   "cell_type": "markdown",
   "metadata": {},
   "source": [
    "These can be straightforwardly transformed to other spectral units if desired:"
   ]
  },
  {
   "cell_type": "code",
   "execution_count": 4,
   "metadata": {},
   "outputs": [
    {
     "data": {
      "text/plain": [
       "[<matplotlib.lines.Line2D at 0x10e63cc88>]"
      ]
     },
     "execution_count": 4,
     "metadata": {},
     "output_type": "execute_result"
    },
    {
     "data": {
      "image/png": "[encoded data removed]",
      "text/plain": [
       "<Figure size 432x288 with 1 Axes>"
      ]
     },
     "metadata": {
      "needs_background": "light"
     },
     "output_type": "display_data"
    }
   ],
   "source": [
    "jyspec1d = spec1d.new_flux_unit(u.Jy)\n",
    "plt.plot(jyspec1d.frequency, jyspec1d.flux)"
   ]
  },
  {
   "cell_type": "markdown",
   "metadata": {},
   "source": [
    "## Uncertainties\n",
    "\n",
    "Currently the most compatible way to use uncertainties is the machinery built for the `astropy.nddata` object (although in many cases simply passing in an uncertainty array will also work):"
   ]
  },
  {
   "cell_type": "code",
   "execution_count": 5,
   "metadata": {},
   "outputs": [
    {
     "data": {
      "text/plain": [
       "<ErrorbarContainer object of 3 artists>"
      ]
     },
     "execution_count": 5,
     "metadata": {},
     "output_type": "execute_result"
    },
    {
     "data": {
      "image/png": "[encoded data removed]",
      "text/plain": [
       "<Figure size 432x288 with 1 Axes>"
      ]
     },
     "metadata": {
      "needs_background": "light"
     },
     "output_type": "display_data"
    }
   ],
   "source": [
    "from astropy.nddata import StdDevUncertainty\n",
    "\n",
    "unc = StdDevUncertainty(0.2 * np.ones(100))\n",
    "spec1d_unc = Spectrum1D(spectral_axis=wavelength, flux=flux, uncertainty=unc)\n",
    "\n",
    "# the errorbar matplotlib function does not natively support quantities\n",
    "plt.errorbar(spec1d_unc.wavelength.value, \n",
    "             spec1d_unc.flux.value, \n",
    "             spec1d_unc.uncertainty.array,\n",
    "             fmt='-',\n",
    "             drawstyle='steps-mid',\n",
    "             ecolor='k')"
   ]
  },
  {
   "cell_type": "markdown",
   "metadata": {},
   "source": [
    "### Exercise\n",
    "\n",
    "Create a `Spectrum1D` object for an ideal 5800 K blackbody and plot it. Try the same, but with (random) noise added and stored as the uncertainty.\n",
    "\n",
    "Hint: while you can do this manually if you know the Planck function, there is an Astropy function to help you with this - you can find it via appropriate searches in the [astropy docs](http://docs.astropy.org)."
   ]
  },
  {
   "cell_type": "code",
   "execution_count": 52,
   "metadata": {},
   "outputs": [
    {
     "data": {
      "text/plain": [
       "<ErrorbarContainer object of 3 artists>"
      ]
     },
     "execution_count": 52,
     "metadata": {},
     "output_type": "execute_result"
    },
    {
     "data": {
      "image/png": "[encoded data removed]",
      "text/plain": [
       "<Figure size 432x288 with 1 Axes>"
      ]
     },
     "metadata": {
      "needs_background": "light"
     },
     "output_type": "display_data"
    }
   ],
   "source": [
    "import astropy.modeling as modeling\n",
    "\n",
    "npts = 201\n",
    "T = 5800\n",
    "wl_AA = np.linspace(3000, 8000, npts)*u.AA\n",
    "\n",
    "# Compute the fluxes for a 5800K Blackbody\n",
    "BB_flux = modeling.blackbody.blackbody_lambda(wl_AA, T)\n",
    "\n",
    "# Generate Gaussian noise\n",
    "noise_mdl = np.random.normal(0., 0.1*np.max(BB_flux.value), npts)\n",
    "BB_unc = StdDevUncertainty(np.random.normal(0., 0.02*np.max(BB_flux.value), npts))\n",
    "\n",
    "# Build Spectrum1D object\n",
    "spec1d_BB = Spectrum1D(spectral_axis=wl_AA, flux=BB_flux, uncertainty=BB_unc)\n",
    "\n",
    "# the errorbar matplotlib function does not natively support quantities\n",
    "plt.errorbar(spec1d_BB.wavelength.value, \n",
    "             spec1d_BB.flux.value, \n",
    "             spec1d_BB.uncertainty.array,\n",
    "             fmt='-',\n",
    "             drawstyle='steps-mid',\n",
    "             ecolor='k')"
   ]
  },
  {
   "cell_type": "markdown",
   "metadata": {},
   "source": [
    "## Loading spectra from files\n",
    "\n",
    "Specutils also comes with readers for a variety of spectral data formats (including loaders for future JWST instruments). While support for specific formats depends primarily from users (like you!) providing readers, you may find that one has already been implemented for your favorite spectrum format.  As an example, we consider a spectrum form the [Sloan Digital Sky Survey](http://skyserver.sdss.org/):"
   ]
  },
  {
   "cell_type": "code",
   "execution_count": 53,
   "metadata": {},
   "outputs": [
    {
     "data": {
      "text/plain": [
       "('data/sdss_spectrum.fits', <http.client.HTTPMessage at 0x1c23cb3208>)"
      ]
     },
     "execution_count": 53,
     "metadata": {},
     "output_type": "execute_result"
    }
   ],
   "source": [
    "from urllib.request import urlretrieve\n",
    "\n",
    "url = 'https://dr14.sdss.org/optical/spectrum/view/data/format=fits/spec=lite?plateid=1323&mjd=52797&fiberid=12'\n",
    "urlretrieve(url, 'data/sdss_spectrum.fits')"
   ]
  },
  {
   "cell_type": "code",
   "execution_count": 54,
   "metadata": {},
   "outputs": [
    {
     "data": {
      "text/plain": [
       "[<matplotlib.lines.Line2D at 0x1c2404a898>]"
      ]
     },
     "execution_count": 54,
     "metadata": {},
     "output_type": "execute_result"
    },
    {
     "data": {
      "image/png": "[encoded data removed]",
      "text/plain": [
       "<Figure size 432x288 with 1 Axes>"
      ]
     },
     "metadata": {
      "needs_background": "light"
     },
     "output_type": "display_data"
    }
   ],
   "source": [
    "sdss_spec = Spectrum1D.read('data/sdss_spectrum.fits', format='SDSS-III/IV spec')\n",
    "plt.plot(sdss_spec.wavelength, sdss_spec.flux)"
   ]
  },
  {
   "cell_type": "markdown",
   "metadata": {},
   "source": [
    "To see the full list of formats readable in your current version of specutils, see the table at the bottom of the `Spectrum1d.read` method:"
   ]
  },
  {
   "cell_type": "code",
   "execution_count": 55,
   "metadata": {},
   "outputs": [
    {
     "name": "stdout",
     "output_type": "stream",
     "text": [
      "Help on method read in module astropy.nddata.mixins.ndio:\n",
      "\n",
      "read(*args, **kwargs) method of abc.ABCMeta instance\n",
      "    Generate a CCDData object from a FITS file.\n",
      "    \n",
      "    Parameters\n",
      "    ----------\n",
      "    filename : str\n",
      "        Name of fits file.\n",
      "    \n",
      "    hdu : int, optional\n",
      "        FITS extension from which CCDData should be initialized. If zero and\n",
      "        and no data in the primary extension, it will search for the first\n",
      "        extension with data. The header will be added to the primary header.\n",
      "        Default is ``0``.\n",
      "    \n",
      "    unit : `~astropy.units.Unit`, optional\n",
      "        Units of the image data. If this argument is provided and there is a\n",
      "        unit for the image in the FITS header (the keyword ``BUNIT`` is used\n",
      "        as the unit, if present), this argument is used for the unit.\n",
      "        Default is ``None``.\n",
      "    \n",
      "    hdu_uncertainty : str or None, optional\n",
      "        FITS extension from which the uncertainty should be initialized. If the\n",
      "        extension does not exist the uncertainty of the CCDData is ``None``.\n",
      "        Default is ``'UNCERT'``.\n",
      "    \n",
      "    hdu_mask : str or None, optional\n",
      "        FITS extension from which the mask should be initialized. If the\n",
      "        extension does not exist the mask of the CCDData is ``None``.\n",
      "        Default is ``'MASK'``.\n",
      "    \n",
      "    hdu_flags : str or None, optional\n",
      "        Currently not implemented.\n",
      "        Default is ``None``.\n",
      "    \n",
      "    key_uncertainty_type : str, optional\n",
      "        The header key name where the class name of the uncertainty  is stored\n",
      "        in the hdu of the uncertainty (if any).\n",
      "        Default is ``UTYPE``.\n",
      "    \n",
      "        .. versionadded:: 3.1\n",
      "    \n",
      "    kwd :\n",
      "        Any additional keyword parameters are passed through to the FITS reader\n",
      "        in :mod:`astropy.io.fits`; see Notes for additional discussion.\n",
      "    \n",
      "    Notes\n",
      "    -----\n",
      "    FITS files that contained scaled data (e.g. unsigned integer images) will\n",
      "    be scaled and the keywords used to manage scaled data in\n",
      "    :mod:`astropy.io.fits` are disabled.\n",
      "    \n",
      "    The available built-in formats are:\n",
      "    \n",
      "    ================= ==== ===== =============\n",
      "          Format      Read Write Auto-identify\n",
      "    ================= ==== ===== =============\n",
      "        APOGEE apStar  Yes    No            No\n",
      "       APOGEE apVisit  Yes    No            No\n",
      "    APOGEE aspcapStar  Yes    No            No\n",
      "                ASCII  Yes    No            No\n",
      "                 ECSV  Yes    No            No\n",
      "              HST/COS  Yes    No            No\n",
      "             HST/STIS  Yes    No            No\n",
      "                 IPAC  Yes    No            No\n",
      "                 JWST  Yes    No           Yes\n",
      "     SDSS-I/II spSpec  Yes    No            No\n",
      "     SDSS-III/IV spec  Yes    No            No\n",
      "          muscles-sed  Yes    No            No\n",
      "         tabular-fits  Yes    No            No\n",
      "           wcs1d-fits  Yes    No            No\n",
      "    ================= ==== ===== =============\n",
      "\n"
     ]
    }
   ],
   "source": [
    "help(Spectrum1D.read)"
   ]
  },
  {
   "cell_type": "markdown",
   "metadata": {},
   "source": [
    "### Exercise\n",
    "\n",
    "If you have your own spectroscopic data, try loading a file here using either one of the built-in loaders, or the `Spectrum1D` interface, and plotting it.  If you don't have your own data on-hand, try downloading something of interest via a public archive (e.g., public HST data using MAST), and load it."
   ]
  },
  {
   "cell_type": "code",
   "execution_count": null,
   "metadata": {},
   "outputs": [],
   "source": []
  },
  {
   "cell_type": "markdown",
   "metadata": {},
   "source": [
    "# Manipulating spectra\n",
    "\n",
    "In addition to the analysis tools described in more detail in [the next notebook](Specutils_analysis.ipynb), Specutils also provides functionality for manipulating spectra.  In general these follow the pattern of creating *new* specutils objects with the results of the operation instead of in-place operations.\n",
    "\n",
    "The most straightforward of operations are arithmetic manipulations.  In general these follow expected patterns. E.g.:"
   ]
  },
  {
   "cell_type": "code",
   "execution_count": 56,
   "metadata": {},
   "outputs": [
    {
     "data": {
      "text/plain": [
       "[<matplotlib.lines.Line2D at 0x1c24112748>]"
      ]
     },
     "execution_count": 56,
     "metadata": {},
     "output_type": "execute_result"
    },
    {
     "data": {
      "image/png": "[encoded data removed]",
      "text/plain": [
       "<Figure size 432x288 with 1 Axes>"
      ]
     },
     "metadata": {
      "needs_background": "light"
     },
     "output_type": "display_data"
    }
   ],
   "source": [
    "newspec1d = spec1d - 2 * u.erg / u.s / (u.cm**2) / u.AA\n",
    "plt.step(newspec1d.wavelength, newspec1d.flux)"
   ]
  },
  {
   "cell_type": "markdown",
   "metadata": {},
   "source": [
    "However, when there is ambiguity in your intent - for example, two spectra with different units where it is not clear what the desired output is - errors are generally produced instead of the code attempting to guess:"
   ]
  },
  {
   "cell_type": "code",
   "execution_count": 57,
   "metadata": {
    "scrolled": true
   },
   "outputs": [
    {
     "ename": "UnitConversionError",
     "evalue": "Can only apply 'subtract' function to quantities with compatible dimensions",
     "output_type": "error",
     "traceback": [
      "\u001b[0;31m---------------------------------------------------------------------------\u001b[0m",
      "\u001b[0;31mUnitConversionError\u001b[0m                       Traceback (most recent call last)",
      "\u001b[0;32m~/anaconda3/envs/astropy-workshop/lib/python3.6/site-packages/astropy/units/quantity_helper/helpers.py\u001b[0m in \u001b[0;36mget_converter\u001b[0;34m(from_unit, to_unit)\u001b[0m\n\u001b[1;32m     30\u001b[0m     \u001b[0;32mtry\u001b[0m\u001b[0;34m:\u001b[0m\u001b[0;34m\u001b[0m\u001b[0;34m\u001b[0m\u001b[0m\n\u001b[0;32m---> 31\u001b[0;31m         \u001b[0mscale\u001b[0m \u001b[0;34m=\u001b[0m \u001b[0mfrom_unit\u001b[0m\u001b[0;34m.\u001b[0m\u001b[0m_to\u001b[0m\u001b[0;34m(\u001b[0m\u001b[0mto_unit\u001b[0m\u001b[0;34m)\u001b[0m\u001b[0;34m\u001b[0m\u001b[0;34m\u001b[0m\u001b[0m\n\u001b[0m\u001b[1;32m     32\u001b[0m     \u001b[0;32mexcept\u001b[0m \u001b[0mUnitsError\u001b[0m\u001b[0;34m:\u001b[0m\u001b[0;34m\u001b[0m\u001b[0;34m\u001b[0m\u001b[0m\n",
      "\u001b[0;32m~/anaconda3/envs/astropy-workshop/lib/python3.6/site-packages/astropy/units/core.py\u001b[0m in \u001b[0;36m_to\u001b[0;34m(self, other)\u001b[0m\n\u001b[1;32m    952\u001b[0m         raise UnitConversionError(\n\u001b[0;32m--> 953\u001b[0;31m             \"'{0!r}' is not a scaled version of '{1!r}'\".format(self, other))\n\u001b[0m\u001b[1;32m    954\u001b[0m \u001b[0;34m\u001b[0m\u001b[0m\n",
      "\u001b[0;31mUnitConversionError\u001b[0m: 'Unit(\"Jy\")' is not a scaled version of 'Unit(\"erg / (Angstrom cm2 s)\")'",
      "\nDuring handling of the above exception, another exception occurred:\n",
      "\u001b[0;31mUnitConversionError\u001b[0m                       Traceback (most recent call last)",
      "\u001b[0;32m~/anaconda3/envs/astropy-workshop/lib/python3.6/site-packages/astropy/units/quantity_helper/helpers.py\u001b[0m in \u001b[0;36mget_converters_and_unit\u001b[0;34m(f, unit1, unit2)\u001b[0m\n\u001b[1;32m     75\u001b[0m         \u001b[0;32mtry\u001b[0m\u001b[0;34m:\u001b[0m\u001b[0;34m\u001b[0m\u001b[0;34m\u001b[0m\u001b[0m\n\u001b[0;32m---> 76\u001b[0;31m             \u001b[0mconverters\u001b[0m\u001b[0;34m[\u001b[0m\u001b[0mchangeable\u001b[0m\u001b[0;34m]\u001b[0m \u001b[0;34m=\u001b[0m \u001b[0mget_converter\u001b[0m\u001b[0;34m(\u001b[0m\u001b[0munit2\u001b[0m\u001b[0;34m,\u001b[0m \u001b[0munit1\u001b[0m\u001b[0;34m)\u001b[0m\u001b[0;34m\u001b[0m\u001b[0;34m\u001b[0m\u001b[0m\n\u001b[0m\u001b[1;32m     77\u001b[0m         \u001b[0;32mexcept\u001b[0m \u001b[0mUnitsError\u001b[0m\u001b[0;34m:\u001b[0m\u001b[0;34m\u001b[0m\u001b[0;34m\u001b[0m\u001b[0m\n",
      "\u001b[0;32m~/anaconda3/envs/astropy-workshop/lib/python3.6/site-packages/astropy/units/quantity_helper/helpers.py\u001b[0m in \u001b[0;36mget_converter\u001b[0;34m(from_unit, to_unit)\u001b[0m\n\u001b[1;32m     33\u001b[0m         return from_unit._apply_equivalencies(\n\u001b[0;32m---> 34\u001b[0;31m                 from_unit, to_unit, get_current_unit_registry().equivalencies)\n\u001b[0m\u001b[1;32m     35\u001b[0m     \u001b[0;32mexcept\u001b[0m \u001b[0mAttributeError\u001b[0m\u001b[0;34m:\u001b[0m\u001b[0;34m\u001b[0m\u001b[0;34m\u001b[0m\u001b[0m\n",
      "\u001b[0;32m~/anaconda3/envs/astropy-workshop/lib/python3.6/site-packages/astropy/units/core.py\u001b[0m in \u001b[0;36m_apply_equivalencies\u001b[0;34m(self, unit, other, equivalencies)\u001b[0m\n\u001b[1;32m    889\u001b[0m             \"{0} and {1} are not convertible\".format(\n\u001b[0;32m--> 890\u001b[0;31m                 unit_str, other_str))\n\u001b[0m\u001b[1;32m    891\u001b[0m \u001b[0;34m\u001b[0m\u001b[0m\n",
      "\u001b[0;31mUnitConversionError\u001b[0m: 'Jy' (spectral flux density) and 'erg / (Angstrom cm2 s)' (spectral flux density wav) are not convertible",
      "\nDuring handling of the above exception, another exception occurred:\n",
      "\u001b[0;31mUnitConversionError\u001b[0m                       Traceback (most recent call last)",
      "\u001b[0;32m<ipython-input-57-0477c1496b1f>\u001b[0m in \u001b[0;36m<module>\u001b[0;34m\u001b[0m\n\u001b[0;32m----> 1\u001b[0;31m \u001b[0mnewspec1d\u001b[0m \u001b[0;34m-\u001b[0m \u001b[0mjyspec1d\u001b[0m\u001b[0;34m\u001b[0m\u001b[0;34m\u001b[0m\u001b[0m\n\u001b[0m",
      "\u001b[0;32m~/anaconda3/envs/astropy-workshop/lib/python3.6/site-packages/specutils/spectra/spectrum1d.py\u001b[0m in \u001b[0;36m__sub__\u001b[0;34m(self, other)\u001b[0m\n\u001b[1;32m    206\u001b[0m \u001b[0;34m\u001b[0m\u001b[0m\n\u001b[1;32m    207\u001b[0m         return self.subtract(\n\u001b[0;32m--> 208\u001b[0;31m             other, compare_wcs=lambda o1, o2: self._compare_wcs(self, other))\n\u001b[0m\u001b[1;32m    209\u001b[0m \u001b[0;34m\u001b[0m\u001b[0m\n\u001b[1;32m    210\u001b[0m     \u001b[0;32mdef\u001b[0m \u001b[0m__mul__\u001b[0m\u001b[0;34m(\u001b[0m\u001b[0mself\u001b[0m\u001b[0;34m,\u001b[0m \u001b[0mother\u001b[0m\u001b[0;34m)\u001b[0m\u001b[0;34m:\u001b[0m\u001b[0;34m\u001b[0m\u001b[0;34m\u001b[0m\u001b[0m\n",
      "\u001b[0;32m~/anaconda3/envs/astropy-workshop/lib/python3.6/site-packages/astropy/nddata/mixins/ndarithmetic.py\u001b[0m in \u001b[0;36msubtract\u001b[0;34m(self, operand, operand2, **kwargs)\u001b[0m\n\u001b[1;32m    524\u001b[0m     \u001b[0;32mdef\u001b[0m \u001b[0msubtract\u001b[0m\u001b[0;34m(\u001b[0m\u001b[0mself\u001b[0m\u001b[0;34m,\u001b[0m \u001b[0moperand\u001b[0m\u001b[0;34m,\u001b[0m \u001b[0moperand2\u001b[0m\u001b[0;34m=\u001b[0m\u001b[0;32mNone\u001b[0m\u001b[0;34m,\u001b[0m \u001b[0;34m**\u001b[0m\u001b[0mkwargs\u001b[0m\u001b[0;34m)\u001b[0m\u001b[0;34m:\u001b[0m\u001b[0;34m\u001b[0m\u001b[0;34m\u001b[0m\u001b[0m\n\u001b[1;32m    525\u001b[0m         return self._prepare_then_do_arithmetic(np.subtract, operand, operand2,\n\u001b[0;32m--> 526\u001b[0;31m                                                 **kwargs)\n\u001b[0m\u001b[1;32m    527\u001b[0m \u001b[0;34m\u001b[0m\u001b[0m\n\u001b[1;32m    528\u001b[0m     \u001b[0;34m@\u001b[0m\u001b[0msharedmethod\u001b[0m\u001b[0;34m\u001b[0m\u001b[0;34m\u001b[0m\u001b[0m\n",
      "\u001b[0;32m~/anaconda3/envs/astropy-workshop/lib/python3.6/site-packages/astropy/nddata/mixins/ndarithmetic.py\u001b[0m in \u001b[0;36m_prepare_then_do_arithmetic\u001b[0;34m(self_or_cls, operation, operand, operand2, **kwargs)\u001b[0m\n\u001b[1;32m    612\u001b[0m \u001b[0;34m\u001b[0m\u001b[0m\n\u001b[1;32m    613\u001b[0m         \u001b[0;31m# Now call the _arithmetics method to do the arithmetics.\u001b[0m\u001b[0;34m\u001b[0m\u001b[0;34m\u001b[0m\u001b[0;34m\u001b[0m\u001b[0m\n\u001b[0;32m--> 614\u001b[0;31m         \u001b[0mresult\u001b[0m\u001b[0;34m,\u001b[0m \u001b[0minit_kwds\u001b[0m \u001b[0;34m=\u001b[0m \u001b[0moperand\u001b[0m\u001b[0;34m.\u001b[0m\u001b[0m_arithmetic\u001b[0m\u001b[0;34m(\u001b[0m\u001b[0moperation\u001b[0m\u001b[0;34m,\u001b[0m \u001b[0moperand2\u001b[0m\u001b[0;34m,\u001b[0m \u001b[0;34m**\u001b[0m\u001b[0mkwargs\u001b[0m\u001b[0;34m)\u001b[0m\u001b[0;34m\u001b[0m\u001b[0;34m\u001b[0m\u001b[0m\n\u001b[0m\u001b[1;32m    615\u001b[0m \u001b[0;34m\u001b[0m\u001b[0m\n\u001b[1;32m    616\u001b[0m         \u001b[0;31m# Return a new class based on the result\u001b[0m\u001b[0;34m\u001b[0m\u001b[0;34m\u001b[0m\u001b[0;34m\u001b[0m\u001b[0m\n",
      "\u001b[0;32m~/anaconda3/envs/astropy-workshop/lib/python3.6/site-packages/astropy/nddata/mixins/ndarithmetic.py\u001b[0m in \u001b[0;36m_arithmetic\u001b[0;34m(self, operation, operand, propagate_uncertainties, handle_mask, handle_meta, uncertainty_correlation, compare_wcs, **kwds)\u001b[0m\n\u001b[1;32m    244\u001b[0m         \u001b[0;31m# Then calculate the resulting data (which can but not needs to be a\u001b[0m\u001b[0;34m\u001b[0m\u001b[0;34m\u001b[0m\u001b[0;34m\u001b[0m\u001b[0m\n\u001b[1;32m    245\u001b[0m         \u001b[0;31m# quantity)\u001b[0m\u001b[0;34m\u001b[0m\u001b[0;34m\u001b[0m\u001b[0;34m\u001b[0m\u001b[0m\n\u001b[0;32m--> 246\u001b[0;31m         \u001b[0mresult\u001b[0m \u001b[0;34m=\u001b[0m \u001b[0mself\u001b[0m\u001b[0;34m.\u001b[0m\u001b[0m_arithmetic_data\u001b[0m\u001b[0;34m(\u001b[0m\u001b[0moperation\u001b[0m\u001b[0;34m,\u001b[0m \u001b[0moperand\u001b[0m\u001b[0;34m,\u001b[0m \u001b[0;34m**\u001b[0m\u001b[0mkwds2\u001b[0m\u001b[0;34m[\u001b[0m\u001b[0;34m'data'\u001b[0m\u001b[0;34m]\u001b[0m\u001b[0;34m)\u001b[0m\u001b[0;34m\u001b[0m\u001b[0;34m\u001b[0m\u001b[0m\n\u001b[0m\u001b[1;32m    247\u001b[0m \u001b[0;34m\u001b[0m\u001b[0m\n\u001b[1;32m    248\u001b[0m         \u001b[0;31m# Determine the other properties\u001b[0m\u001b[0;34m\u001b[0m\u001b[0;34m\u001b[0m\u001b[0;34m\u001b[0m\u001b[0m\n",
      "\u001b[0;32m~/anaconda3/envs/astropy-workshop/lib/python3.6/site-packages/astropy/nddata/mixins/ndarithmetic.py\u001b[0m in \u001b[0;36m_arithmetic_data\u001b[0;34m(self, operation, operand, **kwds)\u001b[0m\n\u001b[1;32m    320\u001b[0m         \u001b[0;32melse\u001b[0m\u001b[0;34m:\u001b[0m\u001b[0;34m\u001b[0m\u001b[0;34m\u001b[0m\u001b[0m\n\u001b[1;32m    321\u001b[0m             result = operation(self.data * self.unit,\n\u001b[0;32m--> 322\u001b[0;31m                                operand.data * operand.unit)\n\u001b[0m\u001b[1;32m    323\u001b[0m \u001b[0;34m\u001b[0m\u001b[0m\n\u001b[1;32m    324\u001b[0m         \u001b[0;32mreturn\u001b[0m \u001b[0mresult\u001b[0m\u001b[0;34m\u001b[0m\u001b[0;34m\u001b[0m\u001b[0m\n",
      "\u001b[0;32m~/anaconda3/envs/astropy-workshop/lib/python3.6/site-packages/astropy/units/quantity.py\u001b[0m in \u001b[0;36m__array_ufunc__\u001b[0;34m(self, function, method, *inputs, **kwargs)\u001b[0m\n\u001b[1;32m    440\u001b[0m         \u001b[0;31m# consistent units between two inputs (e.g., in np.add) --\u001b[0m\u001b[0;34m\u001b[0m\u001b[0;34m\u001b[0m\u001b[0;34m\u001b[0m\u001b[0m\n\u001b[1;32m    441\u001b[0m         \u001b[0;31m# and the unit of the result (or tuple of units for nout > 1).\u001b[0m\u001b[0;34m\u001b[0m\u001b[0;34m\u001b[0m\u001b[0;34m\u001b[0m\u001b[0m\n\u001b[0;32m--> 442\u001b[0;31m         \u001b[0mconverters\u001b[0m\u001b[0;34m,\u001b[0m \u001b[0munit\u001b[0m \u001b[0;34m=\u001b[0m \u001b[0mconverters_and_unit\u001b[0m\u001b[0;34m(\u001b[0m\u001b[0mfunction\u001b[0m\u001b[0;34m,\u001b[0m \u001b[0mmethod\u001b[0m\u001b[0;34m,\u001b[0m \u001b[0;34m*\u001b[0m\u001b[0minputs\u001b[0m\u001b[0;34m)\u001b[0m\u001b[0;34m\u001b[0m\u001b[0;34m\u001b[0m\u001b[0m\n\u001b[0m\u001b[1;32m    443\u001b[0m \u001b[0;34m\u001b[0m\u001b[0m\n\u001b[1;32m    444\u001b[0m         \u001b[0mout\u001b[0m \u001b[0;34m=\u001b[0m \u001b[0mkwargs\u001b[0m\u001b[0;34m.\u001b[0m\u001b[0mget\u001b[0m\u001b[0;34m(\u001b[0m\u001b[0;34m'out'\u001b[0m\u001b[0;34m,\u001b[0m \u001b[0;32mNone\u001b[0m\u001b[0;34m)\u001b[0m\u001b[0;34m\u001b[0m\u001b[0;34m\u001b[0m\u001b[0m\n",
      "\u001b[0;32m~/anaconda3/envs/astropy-workshop/lib/python3.6/site-packages/astropy/units/quantity_helper/converters.py\u001b[0m in \u001b[0;36mconverters_and_unit\u001b[0;34m(function, method, *args)\u001b[0m\n\u001b[1;32m    164\u001b[0m \u001b[0;34m\u001b[0m\u001b[0m\n\u001b[1;32m    165\u001b[0m         \u001b[0;31m# Determine possible conversion functions, and the result unit.\u001b[0m\u001b[0;34m\u001b[0m\u001b[0;34m\u001b[0m\u001b[0;34m\u001b[0m\u001b[0m\n\u001b[0;32m--> 166\u001b[0;31m         \u001b[0mconverters\u001b[0m\u001b[0;34m,\u001b[0m \u001b[0mresult_unit\u001b[0m \u001b[0;34m=\u001b[0m \u001b[0mufunc_helper\u001b[0m\u001b[0;34m(\u001b[0m\u001b[0mfunction\u001b[0m\u001b[0;34m,\u001b[0m \u001b[0;34m*\u001b[0m\u001b[0munits\u001b[0m\u001b[0;34m)\u001b[0m\u001b[0;34m\u001b[0m\u001b[0;34m\u001b[0m\u001b[0m\n\u001b[0m\u001b[1;32m    167\u001b[0m \u001b[0;34m\u001b[0m\u001b[0m\n\u001b[1;32m    168\u001b[0m         \u001b[0;32mif\u001b[0m \u001b[0many\u001b[0m\u001b[0;34m(\u001b[0m\u001b[0mconverter\u001b[0m \u001b[0;32mis\u001b[0m \u001b[0;32mFalse\u001b[0m \u001b[0;32mfor\u001b[0m \u001b[0mconverter\u001b[0m \u001b[0;32min\u001b[0m \u001b[0mconverters\u001b[0m\u001b[0;34m)\u001b[0m\u001b[0;34m:\u001b[0m\u001b[0;34m\u001b[0m\u001b[0;34m\u001b[0m\u001b[0m\n",
      "\u001b[0;32m~/anaconda3/envs/astropy-workshop/lib/python3.6/site-packages/astropy/units/quantity_helper/helpers.py\u001b[0m in \u001b[0;36mget_converters_and_unit\u001b[0;34m(f, unit1, unit2)\u001b[0m\n\u001b[1;32m     79\u001b[0m                 \u001b[0;34m\"Can only apply '{0}' function to quantities \"\u001b[0m\u001b[0;34m\u001b[0m\u001b[0;34m\u001b[0m\u001b[0m\n\u001b[1;32m     80\u001b[0m                 \u001b[0;34m\"with compatible dimensions\"\u001b[0m\u001b[0;34m\u001b[0m\u001b[0;34m\u001b[0m\u001b[0m\n\u001b[0;32m---> 81\u001b[0;31m                 .format(f.__name__))\n\u001b[0m\u001b[1;32m     82\u001b[0m \u001b[0;34m\u001b[0m\u001b[0m\n\u001b[1;32m     83\u001b[0m         \u001b[0;32mreturn\u001b[0m \u001b[0mconverters\u001b[0m\u001b[0;34m,\u001b[0m \u001b[0munit1\u001b[0m\u001b[0;34m\u001b[0m\u001b[0;34m\u001b[0m\u001b[0m\n",
      "\u001b[0;31mUnitConversionError\u001b[0m: Can only apply 'subtract' function to quantities with compatible dimensions"
     ]
    }
   ],
   "source": [
    "newspec1d - jyspec1d"
   ]
  },
  {
   "cell_type": "markdown",
   "metadata": {},
   "source": [
    "Resolving this requires explicit conversion:"
   ]
  },
  {
   "cell_type": "code",
   "execution_count": 58,
   "metadata": {},
   "outputs": [
    {
     "data": {
      "text/plain": [
       "<Spectrum1D(flux=<Quantity [0., 0., 0., 0., 0., 0., 0., 0., 0., 0., 0., 0., 0., 0., 0., 0.,\n",
       "           0., 0., 0., 0., 0., 0., 0., 0., 0., 0., 0., 0., 0., 0., 0., 0.,\n",
       "           0., 0., 0., 0., 0., 0., 0., 0., 0., 0., 0., 0., 0., 0., 0., 0.,\n",
       "           0., 0., 0., 0., 0., 0., 0., 0., 0., 0., 0., 0., 0., 0., 0., 0.,\n",
       "           0., 0., 0., 0., 0., 0., 0., 0., 0., 0., 0., 0., 0., 0., 0., 0.,\n",
       "           0., 0., 0., 0., 0., 0., 0., 0., 0., 0., 0., 0., 0., 0., 0., 0.,\n",
       "           0., 0., 0., 0.] Jy>, spectral_axis=<Quantity [3000.        , 3050.50505051, 3101.01010101, 3151.51515152,\n",
       "           3202.02020202, 3252.52525253, 3303.03030303, 3353.53535354,\n",
       "           3404.04040404, 3454.54545455, 3505.05050505, 3555.55555556,\n",
       "           3606.06060606, 3656.56565657, 3707.07070707, 3757.57575758,\n",
       "           3808.08080808, 3858.58585859, 3909.09090909, 3959.5959596 ,\n",
       "           4010.1010101 , 4060.60606061, 4111.11111111, 4161.61616162,\n",
       "           4212.12121212, 4262.62626263, 4313.13131313, 4363.63636364,\n",
       "           4414.14141414, 4464.64646465, 4515.15151515, 4565.65656566,\n",
       "           4616.16161616, 4666.66666667, 4717.17171717, 4767.67676768,\n",
       "           4818.18181818, 4868.68686869, 4919.19191919, 4969.6969697 ,\n",
       "           5020.2020202 , 5070.70707071, 5121.21212121, 5171.71717172,\n",
       "           5222.22222222, 5272.72727273, 5323.23232323, 5373.73737374,\n",
       "           5424.24242424, 5474.74747475, 5525.25252525, 5575.75757576,\n",
       "           5626.26262626, 5676.76767677, 5727.27272727, 5777.77777778,\n",
       "           5828.28282828, 5878.78787879, 5929.29292929, 5979.7979798 ,\n",
       "           6030.3030303 , 6080.80808081, 6131.31313131, 6181.81818182,\n",
       "           6232.32323232, 6282.82828283, 6333.33333333, 6383.83838384,\n",
       "           6434.34343434, 6484.84848485, 6535.35353535, 6585.85858586,\n",
       "           6636.36363636, 6686.86868687, 6737.37373737, 6787.87878788,\n",
       "           6838.38383838, 6888.88888889, 6939.39393939, 6989.8989899 ,\n",
       "           7040.4040404 , 7090.90909091, 7141.41414141, 7191.91919192,\n",
       "           7242.42424242, 7292.92929293, 7343.43434343, 7393.93939394,\n",
       "           7444.44444444, 7494.94949495, 7545.45454545, 7595.95959596,\n",
       "           7646.46464646, 7696.96969697, 7747.47474747, 7797.97979798,\n",
       "           7848.48484848, 7898.98989899, 7949.49494949, 8000.        ] Angstrom>)>"
      ]
     },
     "execution_count": 58,
     "metadata": {},
     "output_type": "execute_result"
    }
   ],
   "source": [
    "spec1d.new_flux_unit(u.Jy) - jyspec1d"
   ]
  },
  {
   "cell_type": "markdown",
   "metadata": {},
   "source": [
    "### Exercise\n",
    "\n",
    "Take the blackbody spectrum you generated above, and create a \"spectral feature\" by adding a gaussian absorption or emission line to it using the arithmetic operators demonstrated above."
   ]
  },
  {
   "cell_type": "code",
   "execution_count": 59,
   "metadata": {},
   "outputs": [
    {
     "data": {
      "text/plain": [
       "<ErrorbarContainer object of 3 artists>"
      ]
     },
     "execution_count": 59,
     "metadata": {},
     "output_type": "execute_result"
    },
    {
     "data": {
      "image/png": "[encoded data removed]",
      "text/plain": [
       "<Figure size 432x288 with 1 Axes>"
      ]
     },
     "metadata": {
      "needs_background": "light"
     },
     "output_type": "display_data"
    }
   ],
   "source": [
    "# H alpha wavelength (Ångstroms)\n",
    "wl_Halpha = 6562.81\n",
    "\n",
    "# Line-width (QSO line?)\n",
    "linewidth = 150 \n",
    "\n",
    "# Generate the line spectrum using astropy.modeling (NOTE: We may not cover modelling in workshop)\n",
    "line_model = modeling.functional_models.Gaussian1D(amplitude=-0.1*np.max(BB_flux.value), mean=wl_Halpha, stddev=linewidth)\n",
    "line_flux = line_model(wl_AA.value)*BB_flux.unit\n",
    "linespec = Spectrum1D(spectral_axis=wl_AA, flux=line_flux)\n",
    "\n",
    "# Generating the spectrum with the absorption line in it\n",
    "final_spec = spec1d_BB + linespec\n",
    "\n",
    "# Plot the final spectrum using matplotlib (without uncertainty)\n",
    "plt.errorbar(final_spec.wavelength.value, \n",
    "             final_spec.flux.value, \n",
    "             final_spec.uncertainty.array,\n",
    "             fmt='-',\n",
    "             drawstyle='steps-mid',\n",
    "             ecolor='k')"
   ]
  },
  {
   "cell_type": "markdown",
   "metadata": {},
   "source": [
    "## Smoothing, etc.\n",
    "\n",
    "More complex manipulation tools exist, outlined in the [relevant doc section](https://specutils.readthedocs.io/en/latest/manipulation.html). As a final example of this, we smooth our example spectrum using Gaussian smoothing:"
   ]
  },
  {
   "cell_type": "code",
   "execution_count": 60,
   "metadata": {},
   "outputs": [
    {
     "data": {
      "text/plain": [
       "[<matplotlib.lines.Line2D at 0x1c244906d8>]"
      ]
     },
     "execution_count": 60,
     "metadata": {},
     "output_type": "execute_result"
    },
    {
     "data": {
      "image/png": "[encoded data removed]",
      "text/plain": [
       "<Figure size 432x288 with 1 Axes>"
      ]
     },
     "metadata": {
      "needs_background": "light"
     },
     "output_type": "display_data"
    }
   ],
   "source": [
    "from specutils.manipulation import gaussian_smooth\n",
    "\n",
    "smoothed_spec = gaussian_smooth(spec1d, 0.75)  # 0.75 pixel gaussian kernel\n",
    "plt.step(smoothed_spec.wavelength, smoothed_spec.flux)"
   ]
  },
  {
   "cell_type": "markdown",
   "metadata": {},
   "source": [
    "### Exercise\n",
    "\n",
    "Try smoothing your spectrum loaded in the above example (or the SDSS spectrum).  Compare all available kernel types and decide which seems most appropriate for your spectrum."
   ]
  },
  {
   "cell_type": "code",
   "execution_count": 63,
   "metadata": {},
   "outputs": [
    {
     "data": {
      "text/plain": [
       "<matplotlib.legend.Legend at 0x1c24748e80>"
      ]
     },
     "execution_count": 63,
     "metadata": {},
     "output_type": "execute_result"
    },
    {
     "data": {
      "image/png": "[encoded data removed]",
      "text/plain": [
       "<Figure size 432x288 with 1 Axes>"
      ]
     },
     "metadata": {
      "needs_background": "light"
     },
     "output_type": "display_data"
    }
   ],
   "source": [
    "smoothed_BB_spec = gaussian_smooth(final_spec, 5)  # 5 pixel gaussian kernel\n",
    "\n",
    "plt.errorbar(final_spec.wavelength.value, \n",
    "             final_spec.flux.value,\n",
    "             fmt='-',\n",
    "             drawstyle='steps-mid',\n",
    "             color='k', label='raw spectrum')\n",
    "\n",
    "plt.errorbar(smoothed_BB_spec.wavelength.value, \n",
    "             smoothed_BB_spec.flux.value,\n",
    "             fmt='-',\n",
    "             drawstyle='steps-mid',\n",
    "             color='r', label='smoothed spectrum')\n",
    "plt.legend()"
   ]
  },
  {
   "cell_type": "markdown",
   "metadata": {},
   "source": [
    "# (Additional/optional) Exercise\n",
    "\n",
    "This exercise moves somewhat beyond the scope of this overview, but may be useful for some use cases.  Try installing the specviz visualization tool:\n",
    "\n",
    "https://specviz.readthedocs.io/en/stable/\n",
    "\n",
    "Once this tool is installed, try loading your example spectrum.  While there may not be a loader already available for your spectrum, because `specviz` is based on `specutils`, your loader code developed above can be used to load your spectrum into specviz. Try this now and experiment with the quick-look GUI functionality available in specviz."
   ]
  },
  {
   "cell_type": "markdown",
   "metadata": {},
   "source": [
    "# Next Steps\n",
    "\n",
    "While the above focuses on loading and viewing spectra, the next notebook is aimed at quantitative scientific analysis of these spectra. Go to the [Specutils analysis notebook](Specutils_analysis.ipynb) for more on this."
   ]
  }
 ],
 "metadata": {
  "kernelspec": {
   "display_name": "Python 3",
   "language": "python",
   "name": "python3"
  },
  "language_info": {
   "codemirror_mode": {
    "name": "ipython",
    "version": 3
   },
   "file_extension": ".py",
   "mimetype": "text/x-python",
   "name": "python",
   "nbconvert_exporter": "python",
   "pygments_lexer": "ipython3",
   "version": "3.6.8"
  }
 },
 "nbformat": 4,
 "nbformat_minor": 2
}
