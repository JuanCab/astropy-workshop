{
 "cells": [
  {
   "cell_type": "markdown",
   "metadata": {
    "nbpresent": {
     "id": "95b6bb9b-b79e-4ad5-8fa9-5de465ffbe66"
    }
   },
   "source": [
    "# Using the Jupyter notebook"
   ]
  },
  {
   "cell_type": "markdown",
   "metadata": {
    "nbpresent": {
     "id": "8c25ac6e-3312-4d59-a34a-9fe918f5aa57"
    }
   },
   "source": [
    "The **Jupyter notebook** allows you to write notebooks similar to e.g. Mathematica, SageMath, etc. The advantage of doing this is that you can include text, code, and plots in the same document. This makes it ideal for example to include code, notes, and plots about projects and sharing it with others."
   ]
  },
  {
   "cell_type": "markdown",
   "metadata": {
    "nbpresent": {
     "id": "b3d2f6f7-c558-4fff-9a25-91c328d8a400"
    }
   },
   "source": [
    "## Starting up"
   ]
  },
  {
   "cell_type": "markdown",
   "metadata": {
    "nbpresent": {
     "id": "7cc8e3c4-be1d-44f7-99f7-773347ede0bd"
    }
   },
   "source": [
    "The normal way to start up the IPython notebook is:\n",
    "\n",
    "    jupyter notebook\n",
    "    \n",
    "Once you do this, your web browser should open and go to a page showing a list of folders."
   ]
  },
  {
   "cell_type": "markdown",
   "metadata": {
    "nbpresent": {
     "id": "def841eb-06c3-45dd-929f-62b453f548fb"
    }
   },
   "source": [
    "## First steps"
   ]
  },
  {
   "cell_type": "markdown",
   "metadata": {
    "nbpresent": {
     "id": "120f3258-88a8-4bdb-908f-e94d98600e8e"
    }
   },
   "source": [
    "Click on **New** on the right then select **Python** (if there are several, select **Python [default]**), which will start a new document. You can change the name of the document by clicking on the **Untitled** name at the top and entering a new name. Make sure you then save the document (make sure that you save regularly as you might lose content if you close the browser window).\n",
    "\n",
    "At first glance, a notebook looks like a fairly typical application - it has a menubar (File, Edit, View, etc.) and a tool bar with icons. Below this, you will see an empty cell, in which you can type any Python code. You can write several lines of code, and once it is ready to run, you can press **shift-enter** and it will get executed:"
   ]
  },
  {
   "cell_type": "code",
   "execution_count": 1,
   "metadata": {
    "nbpresent": {
     "id": "fbf2d2f2-eeb7-4509-acdc-15e4a537dd47"
    }
   },
   "outputs": [
    {
     "name": "stdout",
     "output_type": "stream",
     "text": [
      "1\n"
     ]
    }
   ],
   "source": [
    "a = 1\n",
    "print(a)"
   ]
  },
  {
   "cell_type": "markdown",
   "metadata": {
    "nbpresent": {
     "id": "5c154836-de9a-4b14-af1c-b545929b0d2f"
    }
   },
   "source": [
    "You can then click on that cell, change the Python code, and press **shift-enter** again to re-execute the code. Once you have executed a cell once, a new cell will appear below. You can again enter some code, then press shift-enter to execute it."
   ]
  },
  {
   "cell_type": "markdown",
   "metadata": {
    "nbpresent": {
     "id": "ded46a09-247b-4210-86de-10c18a434dd4"
    }
   },
   "source": [
    "## Plotting"
   ]
  },
  {
   "cell_type": "markdown",
   "metadata": {
    "nbpresent": {
     "id": "1b5dbad8-35d8-4e2a-8877-e10162c1a5ce"
    }
   },
   "source": [
    "To make plots, enter any Matplotlib commands (which we'll learn about in the plotting section of the workshop), and just press shift-enter - note that all commands for a plot should be entered in one cell, you cannot split it up over multiple cells:"
   ]
  },
  {
   "cell_type": "code",
   "execution_count": 2,
   "metadata": {
    "nbpresent": {
     "id": "c6dfdbcc-d701-49b2-ab03-54cfa38ce867"
    }
   },
   "outputs": [
    {
     "data": {
      "application/javascript": [
       "/* Put everything inside the global mpl namespace */\n",
       "window.mpl = {};\n",
       "\n",
       "\n",
       "mpl.get_websocket_type = function() {\n",
       "    if (typeof(WebSocket) !== 'undefined') {\n",
       "        return WebSocket;\n",
       "    } else if (typeof(MozWebSocket) !== 'undefined') {\n",
       "        return MozWebSocket;\n",
       "    } else {\n",
       "        alert('Your browser does not have WebSocket support.' +\n",
       "              'Please try Chrome, Safari or Firefox ≥ 6. ' +\n",
       "              'Firefox 4 and 5 are also supported but you ' +\n",
       "              'have to enable WebSockets in about:config.');\n",
       "    };\n",
       "}\n",
       "\n",
       "mpl.figure = function(figure_id, websocket, ondownload, parent_element) {\n",
       "    this.id = figure_id;\n",
       "\n",
       "    this.ws = websocket;\n",
       "\n",
       "    this.supports_binary = (this.ws.binaryType != undefined);\n",
       "\n",
       "    if (!this.supports_binary) {\n",
       "        var warnings = document.getElementById(\"mpl-warnings\");\n",
       "        if (warnings) {\n",
       "            warnings.style.display = 'block';\n",
       "            warnings.textContent = (\n",
       "                \"This browser does not support binary websocket messages. \" +\n",
       "                    \"Performance may be slow.\");\n",
       "        }\n",
       "    }\n",
       "\n",
       "    this.imageObj = new Image();\n",
       "\n",
       "    this.context = undefined;\n",
       "    this.message = undefined;\n",
       "    this.canvas = undefined;\n",
       "    this.rubberband_canvas = undefined;\n",
       "    this.rubberband_context = undefined;\n",
       "    this.format_dropdown = undefined;\n",
       "\n",
       "    this.image_mode = 'full';\n",
       "\n",
       "    this.root = $('<div/>');\n",
       "    this._root_extra_style(this.root)\n",
       "    this.root.attr('style', 'display: inline-block');\n",
       "\n",
       "    $(parent_element).append(this.root);\n",
       "\n",
       "    this._init_header(this);\n",
       "    this._init_canvas(this);\n",
       "    this._init_toolbar(this);\n",
       "\n",
       "    var fig = this;\n",
       "\n",
       "    this.waiting = false;\n",
       "\n",
       "    this.ws.onopen =  function () {\n",
       "            fig.send_message(\"supports_binary\", {value: fig.supports_binary});\n",
       "            fig.send_message(\"send_image_mode\", {});\n",
       "            if (mpl.ratio != 1) {\n",
       "                fig.send_message(\"set_dpi_ratio\", {'dpi_ratio': mpl.ratio});\n",
       "            }\n",
       "            fig.send_message(\"refresh\", {});\n",
       "        }\n",
       "\n",
       "    this.imageObj.onload = function() {\n",
       "            if (fig.image_mode == 'full') {\n",
       "                // Full images could contain transparency (where diff images\n",
       "                // almost always do), so we need to clear the canvas so that\n",
       "                // there is no ghosting.\n",
       "                fig.context.clearRect(0, 0, fig.canvas.width, fig.canvas.height);\n",
       "            }\n",
       "            fig.context.drawImage(fig.imageObj, 0, 0);\n",
       "        };\n",
       "\n",
       "    this.imageObj.onunload = function() {\n",
       "        fig.ws.close();\n",
       "    }\n",
       "\n",
       "    this.ws.onmessage = this._make_on_message_function(this);\n",
       "\n",
       "    this.ondownload = ondownload;\n",
       "}\n",
       "\n",
       "mpl.figure.prototype._init_header = function() {\n",
       "    var titlebar = $(\n",
       "        '<div class=\"ui-dialog-titlebar ui-widget-header ui-corner-all ' +\n",
       "        'ui-helper-clearfix\"/>');\n",
       "    var titletext = $(\n",
       "        '<div class=\"ui-dialog-title\" style=\"width: 100%; ' +\n",
       "        'text-align: center; padding: 3px;\"/>');\n",
       "    titlebar.append(titletext)\n",
       "    this.root.append(titlebar);\n",
       "    this.header = titletext[0];\n",
       "}\n",
       "\n",
       "\n",
       "\n",
       "mpl.figure.prototype._canvas_extra_style = function(canvas_div) {\n",
       "\n",
       "}\n",
       "\n",
       "\n",
       "mpl.figure.prototype._root_extra_style = function(canvas_div) {\n",
       "\n",
       "}\n",
       "\n",
       "mpl.figure.prototype._init_canvas = function() {\n",
       "    var fig = this;\n",
       "\n",
       "    var canvas_div = $('<div/>');\n",
       "\n",
       "    canvas_div.attr('style', 'position: relative; clear: both; outline: 0');\n",
       "\n",
       "    function canvas_keyboard_event(event) {\n",
       "        return fig.key_event(event, event['data']);\n",
       "    }\n",
       "\n",
       "    canvas_div.keydown('key_press', canvas_keyboard_event);\n",
       "    canvas_div.keyup('key_release', canvas_keyboard_event);\n",
       "    this.canvas_div = canvas_div\n",
       "    this._canvas_extra_style(canvas_div)\n",
       "    this.root.append(canvas_div);\n",
       "\n",
       "    var canvas = $('<canvas/>');\n",
       "    canvas.addClass('mpl-canvas');\n",
       "    canvas.attr('style', \"left: 0; top: 0; z-index: 0; outline: 0\")\n",
       "\n",
       "    this.canvas = canvas[0];\n",
       "    this.context = canvas[0].getContext(\"2d\");\n",
       "\n",
       "    var backingStore = this.context.backingStorePixelRatio ||\n",
       "\tthis.context.webkitBackingStorePixelRatio ||\n",
       "\tthis.context.mozBackingStorePixelRatio ||\n",
       "\tthis.context.msBackingStorePixelRatio ||\n",
       "\tthis.context.oBackingStorePixelRatio ||\n",
       "\tthis.context.backingStorePixelRatio || 1;\n",
       "\n",
       "    mpl.ratio = (window.devicePixelRatio || 1) / backingStore;\n",
       "\n",
       "    var rubberband = $('<canvas/>');\n",
       "    rubberband.attr('style', \"position: absolute; left: 0; top: 0; z-index: 1;\")\n",
       "\n",
       "    var pass_mouse_events = true;\n",
       "\n",
       "    canvas_div.resizable({\n",
       "        start: function(event, ui) {\n",
       "            pass_mouse_events = false;\n",
       "        },\n",
       "        resize: function(event, ui) {\n",
       "            fig.request_resize(ui.size.width, ui.size.height);\n",
       "        },\n",
       "        stop: function(event, ui) {\n",
       "            pass_mouse_events = true;\n",
       "            fig.request_resize(ui.size.width, ui.size.height);\n",
       "        },\n",
       "    });\n",
       "\n",
       "    function mouse_event_fn(event) {\n",
       "        if (pass_mouse_events)\n",
       "            return fig.mouse_event(event, event['data']);\n",
       "    }\n",
       "\n",
       "    rubberband.mousedown('button_press', mouse_event_fn);\n",
       "    rubberband.mouseup('button_release', mouse_event_fn);\n",
       "    // Throttle sequential mouse events to 1 every 20ms.\n",
       "    rubberband.mousemove('motion_notify', mouse_event_fn);\n",
       "\n",
       "    rubberband.mouseenter('figure_enter', mouse_event_fn);\n",
       "    rubberband.mouseleave('figure_leave', mouse_event_fn);\n",
       "\n",
       "    canvas_div.on(\"wheel\", function (event) {\n",
       "        event = event.originalEvent;\n",
       "        event['data'] = 'scroll'\n",
       "        if (event.deltaY < 0) {\n",
       "            event.step = 1;\n",
       "        } else {\n",
       "            event.step = -1;\n",
       "        }\n",
       "        mouse_event_fn(event);\n",
       "    });\n",
       "\n",
       "    canvas_div.append(canvas);\n",
       "    canvas_div.append(rubberband);\n",
       "\n",
       "    this.rubberband = rubberband;\n",
       "    this.rubberband_canvas = rubberband[0];\n",
       "    this.rubberband_context = rubberband[0].getContext(\"2d\");\n",
       "    this.rubberband_context.strokeStyle = \"#000000\";\n",
       "\n",
       "    this._resize_canvas = function(width, height) {\n",
       "        // Keep the size of the canvas, canvas container, and rubber band\n",
       "        // canvas in synch.\n",
       "        canvas_div.css('width', width)\n",
       "        canvas_div.css('height', height)\n",
       "\n",
       "        canvas.attr('width', width * mpl.ratio);\n",
       "        canvas.attr('height', height * mpl.ratio);\n",
       "        canvas.attr('style', 'width: ' + width + 'px; height: ' + height + 'px;');\n",
       "\n",
       "        rubberband.attr('width', width);\n",
       "        rubberband.attr('height', height);\n",
       "    }\n",
       "\n",
       "    // Set the figure to an initial 600x600px, this will subsequently be updated\n",
       "    // upon first draw.\n",
       "    this._resize_canvas(600, 600);\n",
       "\n",
       "    // Disable right mouse context menu.\n",
       "    $(this.rubberband_canvas).bind(\"contextmenu\",function(e){\n",
       "        return false;\n",
       "    });\n",
       "\n",
       "    function set_focus () {\n",
       "        canvas.focus();\n",
       "        canvas_div.focus();\n",
       "    }\n",
       "\n",
       "    window.setTimeout(set_focus, 100);\n",
       "}\n",
       "\n",
       "mpl.figure.prototype._init_toolbar = function() {\n",
       "    var fig = this;\n",
       "\n",
       "    var nav_element = $('<div/>')\n",
       "    nav_element.attr('style', 'width: 100%');\n",
       "    this.root.append(nav_element);\n",
       "\n",
       "    // Define a callback function for later on.\n",
       "    function toolbar_event(event) {\n",
       "        return fig.toolbar_button_onclick(event['data']);\n",
       "    }\n",
       "    function toolbar_mouse_event(event) {\n",
       "        return fig.toolbar_button_onmouseover(event['data']);\n",
       "    }\n",
       "\n",
       "    for(var toolbar_ind in mpl.toolbar_items) {\n",
       "        var name = mpl.toolbar_items[toolbar_ind][0];\n",
       "        var tooltip = mpl.toolbar_items[toolbar_ind][1];\n",
       "        var image = mpl.toolbar_items[toolbar_ind][2];\n",
       "        var method_name = mpl.toolbar_items[toolbar_ind][3];\n",
       "\n",
       "        if (!name) {\n",
       "            // put a spacer in here.\n",
       "            continue;\n",
       "        }\n",
       "        var button = $('<button/>');\n",
       "        button.addClass('ui-button ui-widget ui-state-default ui-corner-all ' +\n",
       "                        'ui-button-icon-only');\n",
       "        button.attr('role', 'button');\n",
       "        button.attr('aria-disabled', 'false');\n",
       "        button.click(method_name, toolbar_event);\n",
       "        button.mouseover(tooltip, toolbar_mouse_event);\n",
       "\n",
       "        var icon_img = $('<span/>');\n",
       "        icon_img.addClass('ui-button-icon-primary ui-icon');\n",
       "        icon_img.addClass(image);\n",
       "        icon_img.addClass('ui-corner-all');\n",
       "\n",
       "        var tooltip_span = $('<span/>');\n",
       "        tooltip_span.addClass('ui-button-text');\n",
       "        tooltip_span.html(tooltip);\n",
       "\n",
       "        button.append(icon_img);\n",
       "        button.append(tooltip_span);\n",
       "\n",
       "        nav_element.append(button);\n",
       "    }\n",
       "\n",
       "    var fmt_picker_span = $('<span/>');\n",
       "\n",
       "    var fmt_picker = $('<select/>');\n",
       "    fmt_picker.addClass('mpl-toolbar-option ui-widget ui-widget-content');\n",
       "    fmt_picker_span.append(fmt_picker);\n",
       "    nav_element.append(fmt_picker_span);\n",
       "    this.format_dropdown = fmt_picker[0];\n",
       "\n",
       "    for (var ind in mpl.extensions) {\n",
       "        var fmt = mpl.extensions[ind];\n",
       "        var option = $(\n",
       "            '<option/>', {selected: fmt === mpl.default_extension}).html(fmt);\n",
       "        fmt_picker.append(option)\n",
       "    }\n",
       "\n",
       "    // Add hover states to the ui-buttons\n",
       "    $( \".ui-button\" ).hover(\n",
       "        function() { $(this).addClass(\"ui-state-hover\");},\n",
       "        function() { $(this).removeClass(\"ui-state-hover\");}\n",
       "    );\n",
       "\n",
       "    var status_bar = $('<span class=\"mpl-message\"/>');\n",
       "    nav_element.append(status_bar);\n",
       "    this.message = status_bar[0];\n",
       "}\n",
       "\n",
       "mpl.figure.prototype.request_resize = function(x_pixels, y_pixels) {\n",
       "    // Request matplotlib to resize the figure. Matplotlib will then trigger a resize in the client,\n",
       "    // which will in turn request a refresh of the image.\n",
       "    this.send_message('resize', {'width': x_pixels, 'height': y_pixels});\n",
       "}\n",
       "\n",
       "mpl.figure.prototype.send_message = function(type, properties) {\n",
       "    properties['type'] = type;\n",
       "    properties['figure_id'] = this.id;\n",
       "    this.ws.send(JSON.stringify(properties));\n",
       "}\n",
       "\n",
       "mpl.figure.prototype.send_draw_message = function() {\n",
       "    if (!this.waiting) {\n",
       "        this.waiting = true;\n",
       "        this.ws.send(JSON.stringify({type: \"draw\", figure_id: this.id}));\n",
       "    }\n",
       "}\n",
       "\n",
       "\n",
       "mpl.figure.prototype.handle_save = function(fig, msg) {\n",
       "    var format_dropdown = fig.format_dropdown;\n",
       "    var format = format_dropdown.options[format_dropdown.selectedIndex].value;\n",
       "    fig.ondownload(fig, format);\n",
       "}\n",
       "\n",
       "\n",
       "mpl.figure.prototype.handle_resize = function(fig, msg) {\n",
       "    var size = msg['size'];\n",
       "    if (size[0] != fig.canvas.width || size[1] != fig.canvas.height) {\n",
       "        fig._resize_canvas(size[0], size[1]);\n",
       "        fig.send_message(\"refresh\", {});\n",
       "    };\n",
       "}\n",
       "\n",
       "mpl.figure.prototype.handle_rubberband = function(fig, msg) {\n",
       "    var x0 = msg['x0'] / mpl.ratio;\n",
       "    var y0 = (fig.canvas.height - msg['y0']) / mpl.ratio;\n",
       "    var x1 = msg['x1'] / mpl.ratio;\n",
       "    var y1 = (fig.canvas.height - msg['y1']) / mpl.ratio;\n",
       "    x0 = Math.floor(x0) + 0.5;\n",
       "    y0 = Math.floor(y0) + 0.5;\n",
       "    x1 = Math.floor(x1) + 0.5;\n",
       "    y1 = Math.floor(y1) + 0.5;\n",
       "    var min_x = Math.min(x0, x1);\n",
       "    var min_y = Math.min(y0, y1);\n",
       "    var width = Math.abs(x1 - x0);\n",
       "    var height = Math.abs(y1 - y0);\n",
       "\n",
       "    fig.rubberband_context.clearRect(\n",
       "        0, 0, fig.canvas.width, fig.canvas.height);\n",
       "\n",
       "    fig.rubberband_context.strokeRect(min_x, min_y, width, height);\n",
       "}\n",
       "\n",
       "mpl.figure.prototype.handle_figure_label = function(fig, msg) {\n",
       "    // Updates the figure title.\n",
       "    fig.header.textContent = msg['label'];\n",
       "}\n",
       "\n",
       "mpl.figure.prototype.handle_cursor = function(fig, msg) {\n",
       "    var cursor = msg['cursor'];\n",
       "    switch(cursor)\n",
       "    {\n",
       "    case 0:\n",
       "        cursor = 'pointer';\n",
       "        break;\n",
       "    case 1:\n",
       "        cursor = 'default';\n",
       "        break;\n",
       "    case 2:\n",
       "        cursor = 'crosshair';\n",
       "        break;\n",
       "    case 3:\n",
       "        cursor = 'move';\n",
       "        break;\n",
       "    }\n",
       "    fig.rubberband_canvas.style.cursor = cursor;\n",
       "}\n",
       "\n",
       "mpl.figure.prototype.handle_message = function(fig, msg) {\n",
       "    fig.message.textContent = msg['message'];\n",
       "}\n",
       "\n",
       "mpl.figure.prototype.handle_draw = function(fig, msg) {\n",
       "    // Request the server to send over a new figure.\n",
       "    fig.send_draw_message();\n",
       "}\n",
       "\n",
       "mpl.figure.prototype.handle_image_mode = function(fig, msg) {\n",
       "    fig.image_mode = msg['mode'];\n",
       "}\n",
       "\n",
       "mpl.figure.prototype.updated_canvas_event = function() {\n",
       "    // Called whenever the canvas gets updated.\n",
       "    this.send_message(\"ack\", {});\n",
       "}\n",
       "\n",
       "// A function to construct a web socket function for onmessage handling.\n",
       "// Called in the figure constructor.\n",
       "mpl.figure.prototype._make_on_message_function = function(fig) {\n",
       "    return function socket_on_message(evt) {\n",
       "        if (evt.data instanceof Blob) {\n",
       "            /* FIXME: We get \"Resource interpreted as Image but\n",
       "             * transferred with MIME type text/plain:\" errors on\n",
       "             * Chrome.  But how to set the MIME type?  It doesn't seem\n",
       "             * to be part of the websocket stream */\n",
       "            evt.data.type = \"image/png\";\n",
       "\n",
       "            /* Free the memory for the previous frames */\n",
       "            if (fig.imageObj.src) {\n",
       "                (window.URL || window.webkitURL).revokeObjectURL(\n",
       "                    fig.imageObj.src);\n",
       "            }\n",
       "\n",
       "            fig.imageObj.src = (window.URL || window.webkitURL).createObjectURL(\n",
       "                evt.data);\n",
       "            fig.updated_canvas_event();\n",
       "            fig.waiting = false;\n",
       "            return;\n",
       "        }\n",
       "        else if (typeof evt.data === 'string' && evt.data.slice(0, 21) == \"data:image/png;base64\") {\n",
       "            fig.imageObj.src = evt.data;\n",
       "            fig.updated_canvas_event();\n",
       "            fig.waiting = false;\n",
       "            return;\n",
       "        }\n",
       "\n",
       "        var msg = JSON.parse(evt.data);\n",
       "        var msg_type = msg['type'];\n",
       "\n",
       "        // Call the  \"handle_{type}\" callback, which takes\n",
       "        // the figure and JSON message as its only arguments.\n",
       "        try {\n",
       "            var callback = fig[\"handle_\" + msg_type];\n",
       "        } catch (e) {\n",
       "            console.log(\"No handler for the '\" + msg_type + \"' message type: \", msg);\n",
       "            return;\n",
       "        }\n",
       "\n",
       "        if (callback) {\n",
       "            try {\n",
       "                // console.log(\"Handling '\" + msg_type + \"' message: \", msg);\n",
       "                callback(fig, msg);\n",
       "            } catch (e) {\n",
       "                console.log(\"Exception inside the 'handler_\" + msg_type + \"' callback:\", e, e.stack, msg);\n",
       "            }\n",
       "        }\n",
       "    };\n",
       "}\n",
       "\n",
       "// from http://stackoverflow.com/questions/1114465/getting-mouse-location-in-canvas\n",
       "mpl.findpos = function(e) {\n",
       "    //this section is from http://www.quirksmode.org/js/events_properties.html\n",
       "    var targ;\n",
       "    if (!e)\n",
       "        e = window.event;\n",
       "    if (e.target)\n",
       "        targ = e.target;\n",
       "    else if (e.srcElement)\n",
       "        targ = e.srcElement;\n",
       "    if (targ.nodeType == 3) // defeat Safari bug\n",
       "        targ = targ.parentNode;\n",
       "\n",
       "    // jQuery normalizes the pageX and pageY\n",
       "    // pageX,Y are the mouse positions relative to the document\n",
       "    // offset() returns the position of the element relative to the document\n",
       "    var x = e.pageX - $(targ).offset().left;\n",
       "    var y = e.pageY - $(targ).offset().top;\n",
       "\n",
       "    return {\"x\": x, \"y\": y};\n",
       "};\n",
       "\n",
       "/*\n",
       " * return a copy of an object with only non-object keys\n",
       " * we need this to avoid circular references\n",
       " * http://stackoverflow.com/a/24161582/3208463\n",
       " */\n",
       "function simpleKeys (original) {\n",
       "  return Object.keys(original).reduce(function (obj, key) {\n",
       "    if (typeof original[key] !== 'object')\n",
       "        obj[key] = original[key]\n",
       "    return obj;\n",
       "  }, {});\n",
       "}\n",
       "\n",
       "mpl.figure.prototype.mouse_event = function(event, name) {\n",
       "    var canvas_pos = mpl.findpos(event)\n",
       "\n",
       "    if (name === 'button_press')\n",
       "    {\n",
       "        this.canvas.focus();\n",
       "        this.canvas_div.focus();\n",
       "    }\n",
       "\n",
       "    var x = canvas_pos.x * mpl.ratio;\n",
       "    var y = canvas_pos.y * mpl.ratio;\n",
       "\n",
       "    this.send_message(name, {x: x, y: y, button: event.button,\n",
       "                             step: event.step,\n",
       "                             guiEvent: simpleKeys(event)});\n",
       "\n",
       "    /* This prevents the web browser from automatically changing to\n",
       "     * the text insertion cursor when the button is pressed.  We want\n",
       "     * to control all of the cursor setting manually through the\n",
       "     * 'cursor' event from matplotlib */\n",
       "    event.preventDefault();\n",
       "    return false;\n",
       "}\n",
       "\n",
       "mpl.figure.prototype._key_event_extra = function(event, name) {\n",
       "    // Handle any extra behaviour associated with a key event\n",
       "}\n",
       "\n",
       "mpl.figure.prototype.key_event = function(event, name) {\n",
       "\n",
       "    // Prevent repeat events\n",
       "    if (name == 'key_press')\n",
       "    {\n",
       "        if (event.which === this._key)\n",
       "            return;\n",
       "        else\n",
       "            this._key = event.which;\n",
       "    }\n",
       "    if (name == 'key_release')\n",
       "        this._key = null;\n",
       "\n",
       "    var value = '';\n",
       "    if (event.ctrlKey && event.which != 17)\n",
       "        value += \"ctrl+\";\n",
       "    if (event.altKey && event.which != 18)\n",
       "        value += \"alt+\";\n",
       "    if (event.shiftKey && event.which != 16)\n",
       "        value += \"shift+\";\n",
       "\n",
       "    value += 'k';\n",
       "    value += event.which.toString();\n",
       "\n",
       "    this._key_event_extra(event, name);\n",
       "\n",
       "    this.send_message(name, {key: value,\n",
       "                             guiEvent: simpleKeys(event)});\n",
       "    return false;\n",
       "}\n",
       "\n",
       "mpl.figure.prototype.toolbar_button_onclick = function(name) {\n",
       "    if (name == 'download') {\n",
       "        this.handle_save(this, null);\n",
       "    } else {\n",
       "        this.send_message(\"toolbar_button\", {name: name});\n",
       "    }\n",
       "};\n",
       "\n",
       "mpl.figure.prototype.toolbar_button_onmouseover = function(tooltip) {\n",
       "    this.message.textContent = tooltip;\n",
       "};\n",
       "mpl.toolbar_items = [[\"Home\", \"Reset original view\", \"fa fa-home icon-home\", \"home\"], [\"Back\", \"Back to previous view\", \"fa fa-arrow-left icon-arrow-left\", \"back\"], [\"Forward\", \"Forward to next view\", \"fa fa-arrow-right icon-arrow-right\", \"forward\"], [\"\", \"\", \"\", \"\"], [\"Pan\", \"Pan axes with left mouse, zoom with right\", \"fa fa-arrows icon-move\", \"pan\"], [\"Zoom\", \"Zoom to rectangle\", \"fa fa-square-o icon-check-empty\", \"zoom\"], [\"\", \"\", \"\", \"\"], [\"Download\", \"Download plot\", \"fa fa-floppy-o icon-save\", \"download\"]];\n",
       "\n",
       "mpl.extensions = [\"eps\", \"jpeg\", \"pdf\", \"png\", \"ps\", \"raw\", \"svg\", \"tif\"];\n",
       "\n",
       "mpl.default_extension = \"png\";var comm_websocket_adapter = function(comm) {\n",
       "    // Create a \"websocket\"-like object which calls the given IPython comm\n",
       "    // object with the appropriate methods. Currently this is a non binary\n",
       "    // socket, so there is still some room for performance tuning.\n",
       "    var ws = {};\n",
       "\n",
       "    ws.close = function() {\n",
       "        comm.close()\n",
       "    };\n",
       "    ws.send = function(m) {\n",
       "        //console.log('sending', m);\n",
       "        comm.send(m);\n",
       "    };\n",
       "    // Register the callback with on_msg.\n",
       "    comm.on_msg(function(msg) {\n",
       "        //console.log('receiving', msg['content']['data'], msg);\n",
       "        // Pass the mpl event to the overridden (by mpl) onmessage function.\n",
       "        ws.onmessage(msg['content']['data'])\n",
       "    });\n",
       "    return ws;\n",
       "}\n",
       "\n",
       "mpl.mpl_figure_comm = function(comm, msg) {\n",
       "    // This is the function which gets called when the mpl process\n",
       "    // starts-up an IPython Comm through the \"matplotlib\" channel.\n",
       "\n",
       "    var id = msg.content.data.id;\n",
       "    // Get hold of the div created by the display call when the Comm\n",
       "    // socket was opened in Python.\n",
       "    var element = $(\"#\" + id);\n",
       "    var ws_proxy = comm_websocket_adapter(comm)\n",
       "\n",
       "    function ondownload(figure, format) {\n",
       "        window.open(figure.imageObj.src);\n",
       "    }\n",
       "\n",
       "    var fig = new mpl.figure(id, ws_proxy,\n",
       "                           ondownload,\n",
       "                           element.get(0));\n",
       "\n",
       "    // Call onopen now - mpl needs it, as it is assuming we've passed it a real\n",
       "    // web socket which is closed, not our websocket->open comm proxy.\n",
       "    ws_proxy.onopen();\n",
       "\n",
       "    fig.parent_element = element.get(0);\n",
       "    fig.cell_info = mpl.find_output_cell(\"<div id='\" + id + \"'></div>\");\n",
       "    if (!fig.cell_info) {\n",
       "        console.error(\"Failed to find cell for figure\", id, fig);\n",
       "        return;\n",
       "    }\n",
       "\n",
       "    var output_index = fig.cell_info[2]\n",
       "    var cell = fig.cell_info[0];\n",
       "\n",
       "};\n",
       "\n",
       "mpl.figure.prototype.handle_close = function(fig, msg) {\n",
       "    var width = fig.canvas.width/mpl.ratio\n",
       "    fig.root.unbind('remove')\n",
       "\n",
       "    // Update the output cell to use the data from the current canvas.\n",
       "    fig.push_to_output();\n",
       "    var dataURL = fig.canvas.toDataURL();\n",
       "    // Re-enable the keyboard manager in IPython - without this line, in FF,\n",
       "    // the notebook keyboard shortcuts fail.\n",
       "    IPython.keyboard_manager.enable()\n",
       "    $(fig.parent_element).html('<img src=\"' + dataURL + '\" width=\"' + width + '\">');\n",
       "    fig.close_ws(fig, msg);\n",
       "}\n",
       "\n",
       "mpl.figure.prototype.close_ws = function(fig, msg){\n",
       "    fig.send_message('closing', msg);\n",
       "    // fig.ws.close()\n",
       "}\n",
       "\n",
       "mpl.figure.prototype.push_to_output = function(remove_interactive) {\n",
       "    // Turn the data on the canvas into data in the output cell.\n",
       "    var width = this.canvas.width/mpl.ratio\n",
       "    var dataURL = this.canvas.toDataURL();\n",
       "    this.cell_info[1]['text/html'] = '<img src=\"' + dataURL + '\" width=\"' + width + '\">';\n",
       "}\n",
       "\n",
       "mpl.figure.prototype.updated_canvas_event = function() {\n",
       "    // Tell IPython that the notebook contents must change.\n",
       "    IPython.notebook.set_dirty(true);\n",
       "    this.send_message(\"ack\", {});\n",
       "    var fig = this;\n",
       "    // Wait a second, then push the new image to the DOM so\n",
       "    // that it is saved nicely (might be nice to debounce this).\n",
       "    setTimeout(function () { fig.push_to_output() }, 1000);\n",
       "}\n",
       "\n",
       "mpl.figure.prototype._init_toolbar = function() {\n",
       "    var fig = this;\n",
       "\n",
       "    var nav_element = $('<div/>')\n",
       "    nav_element.attr('style', 'width: 100%');\n",
       "    this.root.append(nav_element);\n",
       "\n",
       "    // Define a callback function for later on.\n",
       "    function toolbar_event(event) {\n",
       "        return fig.toolbar_button_onclick(event['data']);\n",
       "    }\n",
       "    function toolbar_mouse_event(event) {\n",
       "        return fig.toolbar_button_onmouseover(event['data']);\n",
       "    }\n",
       "\n",
       "    for(var toolbar_ind in mpl.toolbar_items){\n",
       "        var name = mpl.toolbar_items[toolbar_ind][0];\n",
       "        var tooltip = mpl.toolbar_items[toolbar_ind][1];\n",
       "        var image = mpl.toolbar_items[toolbar_ind][2];\n",
       "        var method_name = mpl.toolbar_items[toolbar_ind][3];\n",
       "\n",
       "        if (!name) { continue; };\n",
       "\n",
       "        var button = $('<button class=\"btn btn-default\" href=\"#\" title=\"' + name + '\"><i class=\"fa ' + image + ' fa-lg\"></i></button>');\n",
       "        button.click(method_name, toolbar_event);\n",
       "        button.mouseover(tooltip, toolbar_mouse_event);\n",
       "        nav_element.append(button);\n",
       "    }\n",
       "\n",
       "    // Add the status bar.\n",
       "    var status_bar = $('<span class=\"mpl-message\" style=\"text-align:right; float: right;\"/>');\n",
       "    nav_element.append(status_bar);\n",
       "    this.message = status_bar[0];\n",
       "\n",
       "    // Add the close button to the window.\n",
       "    var buttongrp = $('<div class=\"btn-group inline pull-right\"></div>');\n",
       "    var button = $('<button class=\"btn btn-mini btn-primary\" href=\"#\" title=\"Stop Interaction\"><i class=\"fa fa-power-off icon-remove icon-large\"></i></button>');\n",
       "    button.click(function (evt) { fig.handle_close(fig, {}); } );\n",
       "    button.mouseover('Stop Interaction', toolbar_mouse_event);\n",
       "    buttongrp.append(button);\n",
       "    var titlebar = this.root.find($('.ui-dialog-titlebar'));\n",
       "    titlebar.prepend(buttongrp);\n",
       "}\n",
       "\n",
       "mpl.figure.prototype._root_extra_style = function(el){\n",
       "    var fig = this\n",
       "    el.on(\"remove\", function(){\n",
       "\tfig.close_ws(fig, {});\n",
       "    });\n",
       "}\n",
       "\n",
       "mpl.figure.prototype._canvas_extra_style = function(el){\n",
       "    // this is important to make the div 'focusable\n",
       "    el.attr('tabindex', 0)\n",
       "    // reach out to IPython and tell the keyboard manager to turn it's self\n",
       "    // off when our div gets focus\n",
       "\n",
       "    // location in version 3\n",
       "    if (IPython.notebook.keyboard_manager) {\n",
       "        IPython.notebook.keyboard_manager.register_events(el);\n",
       "    }\n",
       "    else {\n",
       "        // location in version 2\n",
       "        IPython.keyboard_manager.register_events(el);\n",
       "    }\n",
       "\n",
       "}\n",
       "\n",
       "mpl.figure.prototype._key_event_extra = function(event, name) {\n",
       "    var manager = IPython.notebook.keyboard_manager;\n",
       "    if (!manager)\n",
       "        manager = IPython.keyboard_manager;\n",
       "\n",
       "    // Check for shift+enter\n",
       "    if (event.shiftKey && event.which == 13) {\n",
       "        this.canvas_div.blur();\n",
       "        event.shiftKey = false;\n",
       "        // Send a \"J\" for go to next cell\n",
       "        event.which = 74;\n",
       "        event.keyCode = 74;\n",
       "        manager.command_mode();\n",
       "        manager.handle_keydown(event);\n",
       "    }\n",
       "}\n",
       "\n",
       "mpl.figure.prototype.handle_save = function(fig, msg) {\n",
       "    fig.ondownload(fig, null);\n",
       "}\n",
       "\n",
       "\n",
       "mpl.find_output_cell = function(html_output) {\n",
       "    // Return the cell and output element which can be found *uniquely* in the notebook.\n",
       "    // Note - this is a bit hacky, but it is done because the \"notebook_saving.Notebook\"\n",
       "    // IPython event is triggered only after the cells have been serialised, which for\n",
       "    // our purposes (turning an active figure into a static one), is too late.\n",
       "    var cells = IPython.notebook.get_cells();\n",
       "    var ncells = cells.length;\n",
       "    for (var i=0; i<ncells; i++) {\n",
       "        var cell = cells[i];\n",
       "        if (cell.cell_type === 'code'){\n",
       "            for (var j=0; j<cell.output_area.outputs.length; j++) {\n",
       "                var data = cell.output_area.outputs[j];\n",
       "                if (data.data) {\n",
       "                    // IPython >= 3 moved mimebundle to data attribute of output\n",
       "                    data = data.data;\n",
       "                }\n",
       "                if (data['text/html'] == html_output) {\n",
       "                    return [cell, data, j];\n",
       "                }\n",
       "            }\n",
       "        }\n",
       "    }\n",
       "}\n",
       "\n",
       "// Register the function which deals with the matplotlib target/channel.\n",
       "// The kernel may be null if the page has been refreshed.\n",
       "if (IPython.notebook.kernel != null) {\n",
       "    IPython.notebook.kernel.comm_manager.register_target('matplotlib', mpl.mpl_figure_comm);\n",
       "}\n"
      ],
      "text/plain": [
       "<IPython.core.display.Javascript object>"
      ]
     },
     "metadata": {},
     "output_type": "display_data"
    },
    {
     "data": {
      "text/html": [
       "<img src=\"data:image/png;base64,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\" width=\"640\">"
      ],
      "text/plain": [
       "<IPython.core.display.HTML object>"
      ]
     },
     "metadata": {},
     "output_type": "display_data"
    },
    {
     "data": {
      "text/plain": [
       "Text(0, 0.5, 'y')"
      ]
     },
     "execution_count": 2,
     "metadata": {},
     "output_type": "execute_result"
    }
   ],
   "source": [
    "%matplotlib notebook\n",
    "import matplotlib.pyplot as plt\n",
    "plt.plot([1, 2, 3], [4, 5, 6])\n",
    "plt.xlabel(\"x\")\n",
    "plt.ylabel(\"y\")"
   ]
  },
  {
   "cell_type": "markdown",
   "metadata": {
    "nbpresent": {
     "id": "80fe17d0-fcc2-4126-898a-a1761287dc27"
    }
   },
   "source": [
    "As before, you can always go back and edit the cell to re-make the plot. If you want to save it, make sure you include ``plt.savefig(filename)`` as the last command, where ``filename`` is the name of the plot, such as ``my_plot.png``."
   ]
  },
  {
   "cell_type": "markdown",
   "metadata": {
    "nbpresent": {
     "id": "9105381c-8a2a-4f6a-aebd-0d2c81e8863a"
    }
   },
   "source": [
    "## Text"
   ]
  },
  {
   "cell_type": "markdown",
   "metadata": {
    "nbpresent": {
     "id": "7d99ead2-a133-40b4-90d9-53fbfa7f0f93"
    }
   },
   "source": [
    "To enter actual text (non-code) in the notebook, click on a cell, and in the drop-down menu in the toolbar, select 'Markdown'. This is a specific type of syntax for writing text. You can just write text normally and press shift-enter to *render* it:\n",
    "\n",
    "    This is some plain text\n",
    "\n",
    "To edit it, double click on the cell. You can also enter section headings using the following syntax:\n",
    "\n",
    "    This is a title\n",
    "    ===============\n",
    "\n",
    "    This is a sub-title\n",
    "    -------------------\n",
    "\n",
    "which will look like:\n",
    "\n",
    "This is a title\n",
    "===============\n",
    "\n",
    "This is a sub-title\n",
    "-------------------\n",
    "\n",
    "Finally, if you are familiar with LaTeX, you can enter equations using:\n",
    "\n",
    "    $$E = m c^2$$\n",
    "\n",
    "on a separate line, or:\n",
    "\n",
    "    The equation $p=\\frac{h}{\\lambda}$ is very important\n",
    "\n",
    "to include it in a sentence. This will look like:\n",
    "\n",
    "$$E = m c^2$$\n",
    "\n",
    "The equation $p=\\frac{h}{\\lambda}$ is very important"
   ]
  },
  {
   "cell_type": "markdown",
   "metadata": {
    "nbpresent": {
     "id": "c932cfdc-66e3-469a-8acc-2265cfdbfb74"
    }
   },
   "source": [
    "## Splitting/deleting/moving cells"
   ]
  },
  {
   "cell_type": "markdown",
   "metadata": {
    "nbpresent": {
     "id": "2d24cab1-ee8a-4a05-b62d-178c2ba27cd5"
    }
   },
   "source": [
    "You can split, delete, and move cells by going to 'Edit' and selecting the appropriate command. Some of the commands are also available in the toolbar - put your mouse over the icon and wait for a second, and it will tell you what it does."
   ]
  },
  {
   "cell_type": "markdown",
   "metadata": {
    "nbpresent": {
     "id": "a5eb353e-4949-47c8-ab2b-fd0dd1397442"
    }
   },
   "source": [
    "## Sharing your notebook"
   ]
  },
  {
   "cell_type": "markdown",
   "metadata": {
    "nbpresent": {
     "id": "2930326f-4ac8-4c3d-8f9b-eeb9133d3316"
    }
   },
   "source": [
    "Once you are happy with your notebook, you can share it with other people. The file containing your notebook is the ``.ipynb`` file that is in the directory in which you started the notebook and has the correct name. You can send this file directly to other people, and they will be able to view it in their Jupyter notebook application.\n",
    "\n",
    "If you add a notebook to GitHub, it will also be rendered there, so this is another way of sharing notebooks. To quickly share a notebook, you can just go to [http://gist.github.com](http://gist.github.com) and drag and drop the notebook onto the page, then click on **Create Private Gist** or **Create Public Gist** (a private one is still really public, but only people with the link will be able to find it)."
   ]
  },
  {
   "cell_type": "markdown",
   "metadata": {
    "nbpresent": {
     "id": "2c369eb9-8071-45d6-8435-75d87f208cab"
    }
   },
   "source": [
    "## Important notes"
   ]
  },
  {
   "cell_type": "markdown",
   "metadata": {
    "nbpresent": {
     "id": "9346c79b-b494-41b8-b0f5-2c19cc09b5c7"
    }
   },
   "source": [
    "A few important notes about using the notebook: code *can* be executed in an order different from top to bottom, but note that if you do this, variables will not be reset. So for example if you type:"
   ]
  },
  {
   "cell_type": "code",
   "execution_count": 3,
   "metadata": {
    "nbpresent": {
     "id": "713809f0-89a4-4cbd-a0bb-b004b4fa253a"
    }
   },
   "outputs": [],
   "source": [
    "a = 1"
   ]
  },
  {
   "cell_type": "markdown",
   "metadata": {
    "nbpresent": {
     "id": "417f32d9-c120-48fa-b062-045652a91ead"
    }
   },
   "source": [
    "then go higher up and type:"
   ]
  },
  {
   "cell_type": "code",
   "execution_count": 4,
   "metadata": {
    "nbpresent": {
     "id": "dade77fd-912f-414b-9928-6fab30487a36"
    }
   },
   "outputs": [
    {
     "name": "stdout",
     "output_type": "stream",
     "text": [
      "1\n"
     ]
    }
   ],
   "source": [
    "print(a)"
   ]
  },
  {
   "cell_type": "markdown",
   "metadata": {
    "nbpresent": {
     "id": "ff0c18da-f685-42c2-9580-6f0768a3f63a"
    }
   },
   "source": [
    "it will give the value you previously set. To make sure that your code works from top to bottom, go to the **Cell** menu item and go to **All Output** -> **Clear** then in the **Cell** menu, select **Run All**.\n",
    "\n",
    "In addition, even if you remove a cell, then variables set in that cell still exist unless you restart the notebook. If you want to restart a notebook, you can select **Kernel** -> **Restart**. This removes any variables from memory, and you have to start running the notebook from the start."
   ]
  }
 ],
 "metadata": {
  "anaconda-cloud": {},
  "kernelspec": {
   "display_name": "Python 3",
   "language": "python",
   "name": "python3"
  },
  "language_info": {
   "codemirror_mode": {
    "name": "ipython",
    "version": 3
   },
   "file_extension": ".py",
   "mimetype": "text/x-python",
   "name": "python",
   "nbconvert_exporter": "python",
   "pygments_lexer": "ipython3",
   "version": "3.6.6"
  },
  "nbpresent": {
   "slides": {
    "0f58d322-a2bd-4547-83cd-6aa2b2359a56": {
     "id": "0f58d322-a2bd-4547-83cd-6aa2b2359a56",
     "prev": "975c109c-3be4-43ec-874f-3165e100c6c3",
     "regions": {
      "8988cc2e-db0b-4600-ae2a-df98ae3362d6": {
       "attrs": {
        "height": 0.8,
        "width": 0.8,
        "x": 0.1,
        "y": 0.1
       },
       "content": {
        "cell": "80fe17d0-fcc2-4126-898a-a1761287dc27",
        "part": "whole"
       },
       "id": "8988cc2e-db0b-4600-ae2a-df98ae3362d6"
      }
     }
    },
    "188d7e1c-e1fc-40ec-8b76-d82c0b466d72": {
     "id": "188d7e1c-e1fc-40ec-8b76-d82c0b466d72",
     "prev": "590e3d8f-6ae7-45ab-be14-2fc0056fd242",
     "regions": {
      "d2dbb620-244c-4b1c-94dc-332a483d9932": {
       "attrs": {
        "height": 0.8,
        "width": 0.8,
        "x": 0.1,
        "y": 0.1
       },
       "content": {
        "cell": "ded46a09-247b-4210-86de-10c18a434dd4",
        "part": "whole"
       },
       "id": "d2dbb620-244c-4b1c-94dc-332a483d9932"
      }
     }
    },
    "3267b11a-148b-4530-af3e-27e67fff1763": {
     "id": "3267b11a-148b-4530-af3e-27e67fff1763",
     "prev": "73d05e56-4397-495b-9e1f-94d218026202",
     "regions": {
      "35ad5b3c-b09b-4a61-a1b5-40ab27a4f5b6": {
       "attrs": {
        "height": 0.8,
        "width": 0.8,
        "x": 0.1,
        "y": 0.1
       },
       "content": {
        "cell": "8c25ac6e-3312-4d59-a34a-9fe918f5aa57",
        "part": "whole"
       },
       "id": "35ad5b3c-b09b-4a61-a1b5-40ab27a4f5b6"
      }
     }
    },
    "3792cc0c-cf59-4bf9-9412-3241856af11e": {
     "id": "3792cc0c-cf59-4bf9-9412-3241856af11e",
     "prev": "fec55f28-172e-4ec5-bd5e-420237798ccf",
     "regions": {
      "2e5ce04e-c10a-4a41-ac8a-b567037e3842": {
       "attrs": {
        "height": 0.8,
        "width": 0.8,
        "x": 0.1,
        "y": 0.1
       },
       "content": {
        "cell": "c932cfdc-66e3-469a-8acc-2265cfdbfb74",
        "part": "whole"
       },
       "id": "2e5ce04e-c10a-4a41-ac8a-b567037e3842"
      }
     }
    },
    "392780b1-6544-430d-a25d-0645832d5dfa": {
     "id": "392780b1-6544-430d-a25d-0645832d5dfa",
     "prev": "ded3744c-d5d6-4ac7-9308-f111ef45b61a",
     "regions": {
      "097041d5-3f09-48fe-b4e9-3f22e946f08c": {
       "attrs": {
        "height": 0.8,
        "width": 0.8,
        "x": 0.1,
        "y": 0.1
       },
       "content": {
        "cell": "ff0c18da-f685-42c2-9580-6f0768a3f63a",
        "part": "whole"
       },
       "id": "097041d5-3f09-48fe-b4e9-3f22e946f08c"
      }
     }
    },
    "41e91d85-a937-4036-9a05-9154fc9326b7": {
     "id": "41e91d85-a937-4036-9a05-9154fc9326b7",
     "prev": "ce4f74a7-ed22-4fa1-b63d-46508ecae61a",
     "regions": {
      "6af22ce4-2c7f-4a85-a4d1-cbb81893ce41": {
       "attrs": {
        "height": 0.8,
        "width": 0.8,
        "x": 0.1,
        "y": 0.1
       },
       "content": {
        "cell": "2c369eb9-8071-45d6-8435-75d87f208cab",
        "part": "whole"
       },
       "id": "6af22ce4-2c7f-4a85-a4d1-cbb81893ce41"
      }
     }
    },
    "49139172-8e43-45b7-b96e-95d57dd012ed": {
     "id": "49139172-8e43-45b7-b96e-95d57dd012ed",
     "prev": "3792cc0c-cf59-4bf9-9412-3241856af11e",
     "regions": {
      "789747c6-2bf0-4789-a07a-3ba318a9ed6c": {
       "attrs": {
        "height": 0.8,
        "width": 0.8,
        "x": 0.1,
        "y": 0.1
       },
       "content": {
        "cell": "2d24cab1-ee8a-4a05-b62d-178c2ba27cd5",
        "part": "whole"
       },
       "id": "789747c6-2bf0-4789-a07a-3ba318a9ed6c"
      }
     }
    },
    "590e3d8f-6ae7-45ab-be14-2fc0056fd242": {
     "id": "590e3d8f-6ae7-45ab-be14-2fc0056fd242",
     "prev": "f864c1c5-c61e-4f2e-8634-51a15b78459c",
     "regions": {
      "4de53284-9671-41b4-b7d5-42ba50a11998": {
       "attrs": {
        "height": 0.8,
        "width": 0.8,
        "x": 0.1,
        "y": 0.1
       },
       "content": {
        "cell": "5c154836-de9a-4b14-af1c-b545929b0d2f",
        "part": "whole"
       },
       "id": "4de53284-9671-41b4-b7d5-42ba50a11998"
      }
     }
    },
    "676fb43c-136c-4c2e-b431-fc3d9e73ab95": {
     "id": "676fb43c-136c-4c2e-b431-fc3d9e73ab95",
     "prev": "6cb28851-ca74-4a4c-891f-24447bc93179",
     "regions": {
      "94738b4c-0b88-4732-b595-7561dab26b75": {
       "attrs": {
        "height": 0.8,
        "width": 0.8,
        "x": 0.1,
        "y": 0.1
       },
       "content": {
        "cell": "120f3258-88a8-4bdb-908f-e94d98600e8e",
        "part": "whole"
       },
       "id": "94738b4c-0b88-4732-b595-7561dab26b75"
      }
     }
    },
    "6cb28851-ca74-4a4c-891f-24447bc93179": {
     "id": "6cb28851-ca74-4a4c-891f-24447bc93179",
     "prev": "a3fd22e7-cee3-4230-a79c-745e008064fa",
     "regions": {
      "4e964a33-1972-40fe-b873-a87a6dee659f": {
       "attrs": {
        "height": 0.8,
        "width": 0.8,
        "x": 0.1,
        "y": 0.1
       },
       "content": {
        "cell": "def841eb-06c3-45dd-929f-62b453f548fb",
        "part": "whole"
       },
       "id": "4e964a33-1972-40fe-b873-a87a6dee659f"
      }
     }
    },
    "73d05e56-4397-495b-9e1f-94d218026202": {
     "id": "73d05e56-4397-495b-9e1f-94d218026202",
     "prev": null,
     "regions": {
      "f37ee98f-1599-4160-9422-4e8bf90b72f7": {
       "attrs": {
        "height": 0.8,
        "width": 0.8,
        "x": 0.1,
        "y": 0.1
       },
       "content": {
        "cell": "95b6bb9b-b79e-4ad5-8fa9-5de465ffbe66",
        "part": "whole"
       },
       "id": "f37ee98f-1599-4160-9422-4e8bf90b72f7"
      }
     }
    },
    "82b8d982-30f9-4f1f-891d-ed19ca3edcb1": {
     "id": "82b8d982-30f9-4f1f-891d-ed19ca3edcb1",
     "prev": "0f58d322-a2bd-4547-83cd-6aa2b2359a56",
     "regions": {
      "5a880491-7648-4652-927a-f080deb447c3": {
       "attrs": {
        "height": 0.8,
        "width": 0.8,
        "x": 0.1,
        "y": 0.1
       },
       "content": {
        "cell": "9105381c-8a2a-4f6a-aebd-0d2c81e8863a",
        "part": "whole"
       },
       "id": "5a880491-7648-4652-927a-f080deb447c3"
      }
     }
    },
    "832232ba-6d14-48df-ad16-13c33233ca8c": {
     "id": "832232ba-6d14-48df-ad16-13c33233ca8c",
     "prev": "49139172-8e43-45b7-b96e-95d57dd012ed",
     "regions": {
      "5618f978-8a6b-4267-ab1e-d215f6255a0b": {
       "attrs": {
        "height": 0.8,
        "width": 0.8,
        "x": 0.1,
        "y": 0.1
       },
       "content": {
        "cell": "a5eb353e-4949-47c8-ab2b-fd0dd1397442",
        "part": "whole"
       },
       "id": "5618f978-8a6b-4267-ab1e-d215f6255a0b"
      }
     }
    },
    "90d2cd1d-5c08-48ce-8efc-dca18349efb5": {
     "id": "90d2cd1d-5c08-48ce-8efc-dca18349efb5",
     "prev": "eef4e7a5-5421-472f-a810-8d811f739c71",
     "regions": {
      "8a21d0bf-f158-4e61-afba-9828f4c9f18f": {
       "attrs": {
        "height": 0.8,
        "width": 0.8,
        "x": 0.1,
        "y": 0.1
       },
       "content": {
        "cell": "713809f0-89a4-4cbd-a0bb-b004b4fa253a",
        "part": "whole"
       },
       "id": "8a21d0bf-f158-4e61-afba-9828f4c9f18f"
      }
     }
    },
    "975c109c-3be4-43ec-874f-3165e100c6c3": {
     "id": "975c109c-3be4-43ec-874f-3165e100c6c3",
     "prev": "b3985054-a78b-466c-89bd-8b94c1267f52",
     "regions": {
      "4cf4cbde-12ed-42ad-8efb-7aaa2a51b9f2": {
       "attrs": {
        "height": 0.8,
        "width": 0.8,
        "x": 0.1,
        "y": 0.1
       },
       "content": {
        "cell": "c6dfdbcc-d701-49b2-ab03-54cfa38ce867",
        "part": "whole"
       },
       "id": "4cf4cbde-12ed-42ad-8efb-7aaa2a51b9f2"
      }
     }
    },
    "a3fd22e7-cee3-4230-a79c-745e008064fa": {
     "id": "a3fd22e7-cee3-4230-a79c-745e008064fa",
     "prev": "fbb51a89-482e-4ce6-8618-3e4bb47a3897",
     "regions": {
      "a75ef572-b4ca-4bb8-a60b-8ea0f00647b2": {
       "attrs": {
        "height": 0.8,
        "width": 0.8,
        "x": 0.1,
        "y": 0.1
       },
       "content": {
        "cell": "7cc8e3c4-be1d-44f7-99f7-773347ede0bd",
        "part": "whole"
       },
       "id": "a75ef572-b4ca-4bb8-a60b-8ea0f00647b2"
      }
     }
    },
    "b3985054-a78b-466c-89bd-8b94c1267f52": {
     "id": "b3985054-a78b-466c-89bd-8b94c1267f52",
     "prev": "188d7e1c-e1fc-40ec-8b76-d82c0b466d72",
     "regions": {
      "40c0e460-7da1-4221-bc13-ce6d92cab50f": {
       "attrs": {
        "height": 0.8,
        "width": 0.8,
        "x": 0.1,
        "y": 0.1
       },
       "content": {
        "cell": "1b5dbad8-35d8-4e2a-8877-e10162c1a5ce",
        "part": "whole"
       },
       "id": "40c0e460-7da1-4221-bc13-ce6d92cab50f"
      }
     }
    },
    "ce4f74a7-ed22-4fa1-b63d-46508ecae61a": {
     "id": "ce4f74a7-ed22-4fa1-b63d-46508ecae61a",
     "prev": "832232ba-6d14-48df-ad16-13c33233ca8c",
     "regions": {
      "78536718-b9c4-42bb-ac63-0569ab4afa6b": {
       "attrs": {
        "height": 0.8,
        "width": 0.8,
        "x": 0.1,
        "y": 0.1
       },
       "content": {
        "cell": "2930326f-4ac8-4c3d-8f9b-eeb9133d3316",
        "part": "whole"
       },
       "id": "78536718-b9c4-42bb-ac63-0569ab4afa6b"
      }
     }
    },
    "ded3744c-d5d6-4ac7-9308-f111ef45b61a": {
     "id": "ded3744c-d5d6-4ac7-9308-f111ef45b61a",
     "prev": "f2b7ee47-381f-42d0-bd27-04085e3855cf",
     "regions": {
      "9d05eb8c-3cfc-4515-a852-77e5c1ea145f": {
       "attrs": {
        "height": 0.8,
        "width": 0.8,
        "x": 0.1,
        "y": 0.1
       },
       "content": {
        "cell": "dade77fd-912f-414b-9928-6fab30487a36",
        "part": "whole"
       },
       "id": "9d05eb8c-3cfc-4515-a852-77e5c1ea145f"
      }
     }
    },
    "eef4e7a5-5421-472f-a810-8d811f739c71": {
     "id": "eef4e7a5-5421-472f-a810-8d811f739c71",
     "prev": "41e91d85-a937-4036-9a05-9154fc9326b7",
     "regions": {
      "9ab36876-bcf5-4db2-a838-c8decaa84907": {
       "attrs": {
        "height": 0.8,
        "width": 0.8,
        "x": 0.1,
        "y": 0.1
       },
       "content": {
        "cell": "9346c79b-b494-41b8-b0f5-2c19cc09b5c7",
        "part": "whole"
       },
       "id": "9ab36876-bcf5-4db2-a838-c8decaa84907"
      }
     }
    },
    "f2b7ee47-381f-42d0-bd27-04085e3855cf": {
     "id": "f2b7ee47-381f-42d0-bd27-04085e3855cf",
     "prev": "90d2cd1d-5c08-48ce-8efc-dca18349efb5",
     "regions": {
      "3f25d3fd-74f6-477d-806f-b737b5327ee2": {
       "attrs": {
        "height": 0.8,
        "width": 0.8,
        "x": 0.1,
        "y": 0.1
       },
       "content": {
        "cell": "417f32d9-c120-48fa-b062-045652a91ead",
        "part": "whole"
       },
       "id": "3f25d3fd-74f6-477d-806f-b737b5327ee2"
      }
     }
    },
    "f864c1c5-c61e-4f2e-8634-51a15b78459c": {
     "id": "f864c1c5-c61e-4f2e-8634-51a15b78459c",
     "prev": "676fb43c-136c-4c2e-b431-fc3d9e73ab95",
     "regions": {
      "43d982ea-9933-4ba1-96f2-b6f71d487530": {
       "attrs": {
        "height": 0.8,
        "width": 0.8,
        "x": 0.1,
        "y": 0.1
       },
       "content": {
        "cell": "fbf2d2f2-eeb7-4509-acdc-15e4a537dd47",
        "part": "whole"
       },
       "id": "43d982ea-9933-4ba1-96f2-b6f71d487530"
      }
     }
    },
    "fbb51a89-482e-4ce6-8618-3e4bb47a3897": {
     "id": "fbb51a89-482e-4ce6-8618-3e4bb47a3897",
     "prev": "3267b11a-148b-4530-af3e-27e67fff1763",
     "regions": {
      "9323ea38-c11a-427b-97bc-c644d87520ee": {
       "attrs": {
        "height": 0.8,
        "width": 0.8,
        "x": 0.1,
        "y": 0.1
       },
       "content": {
        "cell": "b3d2f6f7-c558-4fff-9a25-91c328d8a400",
        "part": "whole"
       },
       "id": "9323ea38-c11a-427b-97bc-c644d87520ee"
      }
     }
    },
    "fec55f28-172e-4ec5-bd5e-420237798ccf": {
     "id": "fec55f28-172e-4ec5-bd5e-420237798ccf",
     "prev": "82b8d982-30f9-4f1f-891d-ed19ca3edcb1",
     "regions": {
      "a861688b-c457-4b83-9508-72be11d11be4": {
       "attrs": {
        "height": 0.8,
        "width": 0.8,
        "x": 0.1,
        "y": 0.1
       },
       "content": {
        "cell": "7d99ead2-a133-40b4-90d9-53fbfa7f0f93",
        "part": "whole"
       },
       "id": "a861688b-c457-4b83-9508-72be11d11be4"
      }
     }
    }
   },
   "themes": {}
  }
 },
 "nbformat": 4,
 "nbformat_minor": 1
}
